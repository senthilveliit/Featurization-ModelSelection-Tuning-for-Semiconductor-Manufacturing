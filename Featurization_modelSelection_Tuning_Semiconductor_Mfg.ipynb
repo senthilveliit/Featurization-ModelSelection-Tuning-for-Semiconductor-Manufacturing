{
 "cells": [
  {
   "cell_type": "markdown",
   "id": "64564460",
   "metadata": {},
   "source": [
    "### Import Libraries"
   ]
  },
  {
   "cell_type": "code",
   "execution_count": 1,
   "id": "e2788bcb",
   "metadata": {},
   "outputs": [],
   "source": [
    "import numpy as np\n",
    "import pandas as pd\n",
    "import matplotlib.pyplot as plt\n",
    "import seaborn as sns\n",
    "%matplotlib inline\n",
    "import warnings\n",
    "warnings.filterwarnings('ignore')\n",
    "from sklearn.model_selection import train_test_split\n",
    "from sklearn.linear_model import LogisticRegression\n",
    "from sklearn import metrics\n",
    "from sklearn.metrics import roc_auc_score, roc_curve\n",
    "from imblearn.over_sampling import SMOTE\n",
    "from scipy.stats import zscore\n",
    "import scipy.stats as stats\n",
    "from sklearn.tree import DecisionTreeRegressor \n",
    "from sklearn.metrics import roc_auc_score\n",
    "from sklearn.metrics import precision_recall_fscore_support as score\n",
    "from sklearn.model_selection import KFold\n",
    "from sklearn.model_selection import cross_val_score\n",
    "from sklearn.model_selection import LeaveOneOut\n",
    "from sklearn.linear_model import RidgeCV\n",
    "from sklearn.model_selection import RepeatedKFold\n",
    "from numpy import absolute\n",
    "from sklearn.linear_model import Lasso\n",
    "from sklearn.linear_model import Ridge\n",
    "from sklearn.metrics import r2_score\n",
    "from sklearn.metrics import mean_squared_error\n",
    "from sklearn.metrics import mean_absolute_error\n",
    "from sklearn.model_selection import RandomizedSearchCV\n",
    "from sklearn.model_selection import GridSearchCV\n",
    "from sklearn.model_selection import RepeatedStratifiedKFold\n",
    "from scipy.stats import loguniform\n",
    "from sklearn.decomposition import PCA\n",
    "from scipy.stats import uniform as sp_randFloat\n",
    "from scipy.stats import randint as sp_randInt\n",
    "from sklearn.model_selection import KFold\n",
    "from sklearn.ensemble import RandomForestRegressor\n",
    "from sklearn.ensemble import GradientBoostingRegressor\n",
    "from xgboost import XGBRegressor\n",
    "from scipy.stats import loguniform\n",
    "from scipy.stats import uniform as sp_randFloat\n",
    "from scipy.stats import randint as sp_randInt\n",
    "import pickle "
   ]
  },
  {
   "cell_type": "markdown",
   "id": "0b299563",
   "metadata": {},
   "source": [
    "#### Q1 A -Import ‘signal-data.csv’ as DataFrame"
   ]
  },
  {
   "cell_type": "code",
   "execution_count": 2,
   "id": "3695b07d",
   "metadata": {},
   "outputs": [],
   "source": [
    "df = pd.read_csv('C:\\\\Users\\\\Sai\\\\Desktop\\\\GL\\\\Project5\\\\SignalData.csv')"
   ]
  },
  {
   "cell_type": "code",
   "execution_count": 3,
   "id": "d0b84676",
   "metadata": {},
   "outputs": [
    {
     "data": {
      "text/plain": [
       "(1567, 592)"
      ]
     },
     "execution_count": 3,
     "metadata": {},
     "output_type": "execute_result"
    }
   ],
   "source": [
    "df.shape"
   ]
  },
  {
   "cell_type": "markdown",
   "id": "fd79d742",
   "metadata": {},
   "source": [
    "#### Q1 B -Print 5 point summary and share at least 2 observations."
   ]
  },
  {
   "cell_type": "code",
   "execution_count": 4,
   "id": "8acc4320",
   "metadata": {
    "scrolled": true
   },
   "outputs": [
    {
     "data": {
      "text/html": [
       "<div>\n",
       "<style scoped>\n",
       "    .dataframe tbody tr th:only-of-type {\n",
       "        vertical-align: middle;\n",
       "    }\n",
       "\n",
       "    .dataframe tbody tr th {\n",
       "        vertical-align: top;\n",
       "    }\n",
       "\n",
       "    .dataframe thead th {\n",
       "        text-align: right;\n",
       "    }\n",
       "</style>\n",
       "<table border=\"1\" class=\"dataframe\">\n",
       "  <thead>\n",
       "    <tr style=\"text-align: right;\">\n",
       "      <th></th>\n",
       "      <th>count</th>\n",
       "      <th>mean</th>\n",
       "      <th>std</th>\n",
       "      <th>min</th>\n",
       "      <th>25%</th>\n",
       "      <th>50%</th>\n",
       "      <th>75%</th>\n",
       "      <th>max</th>\n",
       "    </tr>\n",
       "  </thead>\n",
       "  <tbody>\n",
       "    <tr>\n",
       "      <th>0</th>\n",
       "      <td>1561.0</td>\n",
       "      <td>3014.452896</td>\n",
       "      <td>73.621787</td>\n",
       "      <td>2743.2400</td>\n",
       "      <td>2966.260000</td>\n",
       "      <td>3011.4900</td>\n",
       "      <td>3056.6500</td>\n",
       "      <td>3356.3500</td>\n",
       "    </tr>\n",
       "    <tr>\n",
       "      <th>1</th>\n",
       "      <td>1560.0</td>\n",
       "      <td>2495.850231</td>\n",
       "      <td>80.407705</td>\n",
       "      <td>2158.7500</td>\n",
       "      <td>2452.247500</td>\n",
       "      <td>2499.4050</td>\n",
       "      <td>2538.8225</td>\n",
       "      <td>2846.4400</td>\n",
       "    </tr>\n",
       "    <tr>\n",
       "      <th>2</th>\n",
       "      <td>1553.0</td>\n",
       "      <td>2200.547318</td>\n",
       "      <td>29.513152</td>\n",
       "      <td>2060.6600</td>\n",
       "      <td>2181.044400</td>\n",
       "      <td>2201.0667</td>\n",
       "      <td>2218.0555</td>\n",
       "      <td>2315.2667</td>\n",
       "    </tr>\n",
       "    <tr>\n",
       "      <th>3</th>\n",
       "      <td>1553.0</td>\n",
       "      <td>1396.376627</td>\n",
       "      <td>441.691640</td>\n",
       "      <td>0.0000</td>\n",
       "      <td>1081.875800</td>\n",
       "      <td>1285.2144</td>\n",
       "      <td>1591.2235</td>\n",
       "      <td>3715.0417</td>\n",
       "    </tr>\n",
       "    <tr>\n",
       "      <th>4</th>\n",
       "      <td>1553.0</td>\n",
       "      <td>4.197013</td>\n",
       "      <td>56.355540</td>\n",
       "      <td>0.6815</td>\n",
       "      <td>1.017700</td>\n",
       "      <td>1.3168</td>\n",
       "      <td>1.5257</td>\n",
       "      <td>1114.5366</td>\n",
       "    </tr>\n",
       "    <tr>\n",
       "      <th>...</th>\n",
       "      <td>...</td>\n",
       "      <td>...</td>\n",
       "      <td>...</td>\n",
       "      <td>...</td>\n",
       "      <td>...</td>\n",
       "      <td>...</td>\n",
       "      <td>...</td>\n",
       "      <td>...</td>\n",
       "    </tr>\n",
       "    <tr>\n",
       "      <th>586</th>\n",
       "      <td>1566.0</td>\n",
       "      <td>0.021458</td>\n",
       "      <td>0.012358</td>\n",
       "      <td>-0.0169</td>\n",
       "      <td>0.013425</td>\n",
       "      <td>0.0205</td>\n",
       "      <td>0.0276</td>\n",
       "      <td>0.1028</td>\n",
       "    </tr>\n",
       "    <tr>\n",
       "      <th>587</th>\n",
       "      <td>1566.0</td>\n",
       "      <td>0.016475</td>\n",
       "      <td>0.008808</td>\n",
       "      <td>0.0032</td>\n",
       "      <td>0.010600</td>\n",
       "      <td>0.0148</td>\n",
       "      <td>0.0203</td>\n",
       "      <td>0.0799</td>\n",
       "    </tr>\n",
       "    <tr>\n",
       "      <th>588</th>\n",
       "      <td>1566.0</td>\n",
       "      <td>0.005283</td>\n",
       "      <td>0.002867</td>\n",
       "      <td>0.0010</td>\n",
       "      <td>0.003300</td>\n",
       "      <td>0.0046</td>\n",
       "      <td>0.0064</td>\n",
       "      <td>0.0286</td>\n",
       "    </tr>\n",
       "    <tr>\n",
       "      <th>589</th>\n",
       "      <td>1566.0</td>\n",
       "      <td>99.670066</td>\n",
       "      <td>93.891919</td>\n",
       "      <td>0.0000</td>\n",
       "      <td>44.368600</td>\n",
       "      <td>71.9005</td>\n",
       "      <td>114.7497</td>\n",
       "      <td>737.3048</td>\n",
       "    </tr>\n",
       "    <tr>\n",
       "      <th>Pass/Fail</th>\n",
       "      <td>1567.0</td>\n",
       "      <td>-0.867262</td>\n",
       "      <td>0.498010</td>\n",
       "      <td>-1.0000</td>\n",
       "      <td>-1.000000</td>\n",
       "      <td>-1.0000</td>\n",
       "      <td>-1.0000</td>\n",
       "      <td>1.0000</td>\n",
       "    </tr>\n",
       "  </tbody>\n",
       "</table>\n",
       "<p>591 rows × 8 columns</p>\n",
       "</div>"
      ],
      "text/plain": [
       "            count         mean         std        min          25%        50%  \\\n",
       "0          1561.0  3014.452896   73.621787  2743.2400  2966.260000  3011.4900   \n",
       "1          1560.0  2495.850231   80.407705  2158.7500  2452.247500  2499.4050   \n",
       "2          1553.0  2200.547318   29.513152  2060.6600  2181.044400  2201.0667   \n",
       "3          1553.0  1396.376627  441.691640     0.0000  1081.875800  1285.2144   \n",
       "4          1553.0     4.197013   56.355540     0.6815     1.017700     1.3168   \n",
       "...           ...          ...         ...        ...          ...        ...   \n",
       "586        1566.0     0.021458    0.012358    -0.0169     0.013425     0.0205   \n",
       "587        1566.0     0.016475    0.008808     0.0032     0.010600     0.0148   \n",
       "588        1566.0     0.005283    0.002867     0.0010     0.003300     0.0046   \n",
       "589        1566.0    99.670066   93.891919     0.0000    44.368600    71.9005   \n",
       "Pass/Fail  1567.0    -0.867262    0.498010    -1.0000    -1.000000    -1.0000   \n",
       "\n",
       "                 75%        max  \n",
       "0          3056.6500  3356.3500  \n",
       "1          2538.8225  2846.4400  \n",
       "2          2218.0555  2315.2667  \n",
       "3          1591.2235  3715.0417  \n",
       "4             1.5257  1114.5366  \n",
       "...              ...        ...  \n",
       "586           0.0276     0.1028  \n",
       "587           0.0203     0.0799  \n",
       "588           0.0064     0.0286  \n",
       "589         114.7497   737.3048  \n",
       "Pass/Fail    -1.0000     1.0000  \n",
       "\n",
       "[591 rows x 8 columns]"
      ]
     },
     "execution_count": 4,
     "metadata": {},
     "output_type": "execute_result"
    }
   ],
   "source": [
    "df.describe().T"
   ]
  },
  {
   "cell_type": "markdown",
   "id": "0f98b3f3",
   "metadata": {},
   "source": [
    "#### Observations\n",
    "<li> We could easily identify the outliers from the 25 percentile and 75 percentile data.\n",
    "<li> Min, 25%, 75% and max values of the features can provide the additional information about the variance. \n",
    "<li> From Mean data, we could identify the middle value of each feature"
   ]
  },
  {
   "cell_type": "markdown",
   "id": "911ab8ff",
   "metadata": {},
   "source": [
    "#### Q2 A -Write a for loop which will remove all the features with 20%+ Null values and impute rest with mean of the feature."
   ]
  },
  {
   "cell_type": "code",
   "execution_count": 5,
   "id": "b8dea1cb",
   "metadata": {},
   "outputs": [
    {
     "name": "stdout",
     "output_type": "stream",
     "text": [
      "Time         1567\n",
      "0            1561\n",
      "1            1560\n",
      "2            1553\n",
      "3            1553\n",
      "             ... \n",
      "586          1566\n",
      "587          1566\n",
      "588          1566\n",
      "589          1566\n",
      "Pass/Fail    1567\n",
      "Length: 560, dtype: int64\n"
     ]
    }
   ],
   "source": [
    "df = df.replace(r'^\\s*$', np.nan, regex=True)\n",
    "missing_values = [\"?\",\"-\",\"\"]\n",
    "ndfnew = df.replace(missing_values, np.nan)\n",
    "for col in ndfnew:\n",
    "    avg_nan = round(ndfnew[col].isna().mean()*100, 1)\n",
    "    if avg_nan > 20.0 :\n",
    "        ndfnew.drop(col,axis=1, inplace = True)\n",
    "column_count = ndfnew.count(axis = 0)\n",
    "print(column_count)"
   ]
  },
  {
   "cell_type": "code",
   "execution_count": 6,
   "id": "7733320f",
   "metadata": {
    "scrolled": true
   },
   "outputs": [
    {
     "data": {
      "text/html": [
       "<div>\n",
       "<style scoped>\n",
       "    .dataframe tbody tr th:only-of-type {\n",
       "        vertical-align: middle;\n",
       "    }\n",
       "\n",
       "    .dataframe tbody tr th {\n",
       "        vertical-align: top;\n",
       "    }\n",
       "\n",
       "    .dataframe thead th {\n",
       "        text-align: right;\n",
       "    }\n",
       "</style>\n",
       "<table border=\"1\" class=\"dataframe\">\n",
       "  <thead>\n",
       "    <tr style=\"text-align: right;\">\n",
       "      <th></th>\n",
       "      <th>Time</th>\n",
       "      <th>0</th>\n",
       "      <th>1</th>\n",
       "      <th>2</th>\n",
       "      <th>3</th>\n",
       "      <th>4</th>\n",
       "      <th>5</th>\n",
       "      <th>6</th>\n",
       "      <th>7</th>\n",
       "      <th>8</th>\n",
       "      <th>...</th>\n",
       "      <th>577</th>\n",
       "      <th>582</th>\n",
       "      <th>583</th>\n",
       "      <th>584</th>\n",
       "      <th>585</th>\n",
       "      <th>586</th>\n",
       "      <th>587</th>\n",
       "      <th>588</th>\n",
       "      <th>589</th>\n",
       "      <th>Pass/Fail</th>\n",
       "    </tr>\n",
       "  </thead>\n",
       "  <tbody>\n",
       "    <tr>\n",
       "      <th>0</th>\n",
       "      <td>2008-07-19 11:55:00</td>\n",
       "      <td>3030.93</td>\n",
       "      <td>2564.00</td>\n",
       "      <td>2187.7333</td>\n",
       "      <td>1411.1265</td>\n",
       "      <td>1.3602</td>\n",
       "      <td>100.0</td>\n",
       "      <td>97.6133</td>\n",
       "      <td>0.1242</td>\n",
       "      <td>1.500500</td>\n",
       "      <td>...</td>\n",
       "      <td>14.9509</td>\n",
       "      <td>0.5005</td>\n",
       "      <td>0.0118</td>\n",
       "      <td>0.0035</td>\n",
       "      <td>2.3630</td>\n",
       "      <td>0.021458</td>\n",
       "      <td>0.016475</td>\n",
       "      <td>0.005283</td>\n",
       "      <td>99.670066</td>\n",
       "      <td>-1</td>\n",
       "    </tr>\n",
       "    <tr>\n",
       "      <th>1</th>\n",
       "      <td>2008-07-19 12:32:00</td>\n",
       "      <td>3095.78</td>\n",
       "      <td>2465.14</td>\n",
       "      <td>2230.4222</td>\n",
       "      <td>1463.6606</td>\n",
       "      <td>0.8294</td>\n",
       "      <td>100.0</td>\n",
       "      <td>102.3433</td>\n",
       "      <td>0.1247</td>\n",
       "      <td>1.496600</td>\n",
       "      <td>...</td>\n",
       "      <td>10.9003</td>\n",
       "      <td>0.5019</td>\n",
       "      <td>0.0223</td>\n",
       "      <td>0.0055</td>\n",
       "      <td>4.4447</td>\n",
       "      <td>0.009600</td>\n",
       "      <td>0.020100</td>\n",
       "      <td>0.006000</td>\n",
       "      <td>208.204500</td>\n",
       "      <td>-1</td>\n",
       "    </tr>\n",
       "    <tr>\n",
       "      <th>2</th>\n",
       "      <td>2008-07-19 13:17:00</td>\n",
       "      <td>2932.61</td>\n",
       "      <td>2559.94</td>\n",
       "      <td>2186.4111</td>\n",
       "      <td>1698.0172</td>\n",
       "      <td>1.5102</td>\n",
       "      <td>100.0</td>\n",
       "      <td>95.4878</td>\n",
       "      <td>0.1241</td>\n",
       "      <td>1.443600</td>\n",
       "      <td>...</td>\n",
       "      <td>9.2721</td>\n",
       "      <td>0.4958</td>\n",
       "      <td>0.0157</td>\n",
       "      <td>0.0039</td>\n",
       "      <td>3.1745</td>\n",
       "      <td>0.058400</td>\n",
       "      <td>0.048400</td>\n",
       "      <td>0.014800</td>\n",
       "      <td>82.860200</td>\n",
       "      <td>1</td>\n",
       "    </tr>\n",
       "    <tr>\n",
       "      <th>3</th>\n",
       "      <td>2008-07-19 14:43:00</td>\n",
       "      <td>2988.72</td>\n",
       "      <td>2479.90</td>\n",
       "      <td>2199.0333</td>\n",
       "      <td>909.7926</td>\n",
       "      <td>1.3204</td>\n",
       "      <td>100.0</td>\n",
       "      <td>104.2367</td>\n",
       "      <td>0.1217</td>\n",
       "      <td>1.488200</td>\n",
       "      <td>...</td>\n",
       "      <td>8.5831</td>\n",
       "      <td>0.4990</td>\n",
       "      <td>0.0103</td>\n",
       "      <td>0.0025</td>\n",
       "      <td>2.0544</td>\n",
       "      <td>0.020200</td>\n",
       "      <td>0.014900</td>\n",
       "      <td>0.004400</td>\n",
       "      <td>73.843200</td>\n",
       "      <td>-1</td>\n",
       "    </tr>\n",
       "    <tr>\n",
       "      <th>4</th>\n",
       "      <td>2008-07-19 15:22:00</td>\n",
       "      <td>3032.24</td>\n",
       "      <td>2502.87</td>\n",
       "      <td>2233.3667</td>\n",
       "      <td>1326.5200</td>\n",
       "      <td>1.5334</td>\n",
       "      <td>100.0</td>\n",
       "      <td>100.3967</td>\n",
       "      <td>0.1235</td>\n",
       "      <td>1.503100</td>\n",
       "      <td>...</td>\n",
       "      <td>10.9698</td>\n",
       "      <td>0.4800</td>\n",
       "      <td>0.4766</td>\n",
       "      <td>0.1045</td>\n",
       "      <td>99.3032</td>\n",
       "      <td>0.020200</td>\n",
       "      <td>0.014900</td>\n",
       "      <td>0.004400</td>\n",
       "      <td>73.843200</td>\n",
       "      <td>-1</td>\n",
       "    </tr>\n",
       "    <tr>\n",
       "      <th>...</th>\n",
       "      <td>...</td>\n",
       "      <td>...</td>\n",
       "      <td>...</td>\n",
       "      <td>...</td>\n",
       "      <td>...</td>\n",
       "      <td>...</td>\n",
       "      <td>...</td>\n",
       "      <td>...</td>\n",
       "      <td>...</td>\n",
       "      <td>...</td>\n",
       "      <td>...</td>\n",
       "      <td>...</td>\n",
       "      <td>...</td>\n",
       "      <td>...</td>\n",
       "      <td>...</td>\n",
       "      <td>...</td>\n",
       "      <td>...</td>\n",
       "      <td>...</td>\n",
       "      <td>...</td>\n",
       "      <td>...</td>\n",
       "      <td>...</td>\n",
       "    </tr>\n",
       "    <tr>\n",
       "      <th>1562</th>\n",
       "      <td>2008-10-16 15:13:00</td>\n",
       "      <td>2899.41</td>\n",
       "      <td>2464.36</td>\n",
       "      <td>2179.7333</td>\n",
       "      <td>3085.3781</td>\n",
       "      <td>1.4843</td>\n",
       "      <td>100.0</td>\n",
       "      <td>82.2467</td>\n",
       "      <td>0.1248</td>\n",
       "      <td>1.342400</td>\n",
       "      <td>...</td>\n",
       "      <td>11.7256</td>\n",
       "      <td>0.4988</td>\n",
       "      <td>0.0143</td>\n",
       "      <td>0.0039</td>\n",
       "      <td>2.8669</td>\n",
       "      <td>0.006800</td>\n",
       "      <td>0.013800</td>\n",
       "      <td>0.004700</td>\n",
       "      <td>203.172000</td>\n",
       "      <td>-1</td>\n",
       "    </tr>\n",
       "    <tr>\n",
       "      <th>1563</th>\n",
       "      <td>2008-10-16 20:49:00</td>\n",
       "      <td>3052.31</td>\n",
       "      <td>2522.55</td>\n",
       "      <td>2198.5667</td>\n",
       "      <td>1124.6595</td>\n",
       "      <td>0.8763</td>\n",
       "      <td>100.0</td>\n",
       "      <td>98.4689</td>\n",
       "      <td>0.1205</td>\n",
       "      <td>1.433300</td>\n",
       "      <td>...</td>\n",
       "      <td>17.8379</td>\n",
       "      <td>0.4975</td>\n",
       "      <td>0.0131</td>\n",
       "      <td>0.0036</td>\n",
       "      <td>2.6238</td>\n",
       "      <td>0.006800</td>\n",
       "      <td>0.013800</td>\n",
       "      <td>0.004700</td>\n",
       "      <td>203.172000</td>\n",
       "      <td>-1</td>\n",
       "    </tr>\n",
       "    <tr>\n",
       "      <th>1564</th>\n",
       "      <td>2008-10-17 05:26:00</td>\n",
       "      <td>2978.81</td>\n",
       "      <td>2379.78</td>\n",
       "      <td>2206.3000</td>\n",
       "      <td>1110.4967</td>\n",
       "      <td>0.8236</td>\n",
       "      <td>100.0</td>\n",
       "      <td>99.4122</td>\n",
       "      <td>0.1208</td>\n",
       "      <td>1.462862</td>\n",
       "      <td>...</td>\n",
       "      <td>17.7267</td>\n",
       "      <td>0.4987</td>\n",
       "      <td>0.0153</td>\n",
       "      <td>0.0041</td>\n",
       "      <td>3.0590</td>\n",
       "      <td>0.019700</td>\n",
       "      <td>0.008600</td>\n",
       "      <td>0.002500</td>\n",
       "      <td>43.523100</td>\n",
       "      <td>-1</td>\n",
       "    </tr>\n",
       "    <tr>\n",
       "      <th>1565</th>\n",
       "      <td>2008-10-17 06:01:00</td>\n",
       "      <td>2894.92</td>\n",
       "      <td>2532.01</td>\n",
       "      <td>2177.0333</td>\n",
       "      <td>1183.7287</td>\n",
       "      <td>1.5726</td>\n",
       "      <td>100.0</td>\n",
       "      <td>98.7978</td>\n",
       "      <td>0.1213</td>\n",
       "      <td>1.462200</td>\n",
       "      <td>...</td>\n",
       "      <td>19.2104</td>\n",
       "      <td>0.5004</td>\n",
       "      <td>0.0178</td>\n",
       "      <td>0.0038</td>\n",
       "      <td>3.5662</td>\n",
       "      <td>0.026200</td>\n",
       "      <td>0.024500</td>\n",
       "      <td>0.007500</td>\n",
       "      <td>93.494100</td>\n",
       "      <td>-1</td>\n",
       "    </tr>\n",
       "    <tr>\n",
       "      <th>1566</th>\n",
       "      <td>2008-10-17 06:07:00</td>\n",
       "      <td>2944.92</td>\n",
       "      <td>2450.76</td>\n",
       "      <td>2195.4444</td>\n",
       "      <td>2914.1792</td>\n",
       "      <td>1.5978</td>\n",
       "      <td>100.0</td>\n",
       "      <td>85.1011</td>\n",
       "      <td>0.1235</td>\n",
       "      <td>1.462862</td>\n",
       "      <td>...</td>\n",
       "      <td>22.9183</td>\n",
       "      <td>0.4987</td>\n",
       "      <td>0.0181</td>\n",
       "      <td>0.0040</td>\n",
       "      <td>3.6275</td>\n",
       "      <td>0.011700</td>\n",
       "      <td>0.016200</td>\n",
       "      <td>0.004500</td>\n",
       "      <td>137.784400</td>\n",
       "      <td>-1</td>\n",
       "    </tr>\n",
       "  </tbody>\n",
       "</table>\n",
       "<p>1567 rows × 560 columns</p>\n",
       "</div>"
      ],
      "text/plain": [
       "                     Time        0        1          2          3       4  \\\n",
       "0     2008-07-19 11:55:00  3030.93  2564.00  2187.7333  1411.1265  1.3602   \n",
       "1     2008-07-19 12:32:00  3095.78  2465.14  2230.4222  1463.6606  0.8294   \n",
       "2     2008-07-19 13:17:00  2932.61  2559.94  2186.4111  1698.0172  1.5102   \n",
       "3     2008-07-19 14:43:00  2988.72  2479.90  2199.0333   909.7926  1.3204   \n",
       "4     2008-07-19 15:22:00  3032.24  2502.87  2233.3667  1326.5200  1.5334   \n",
       "...                   ...      ...      ...        ...        ...     ...   \n",
       "1562  2008-10-16 15:13:00  2899.41  2464.36  2179.7333  3085.3781  1.4843   \n",
       "1563  2008-10-16 20:49:00  3052.31  2522.55  2198.5667  1124.6595  0.8763   \n",
       "1564  2008-10-17 05:26:00  2978.81  2379.78  2206.3000  1110.4967  0.8236   \n",
       "1565  2008-10-17 06:01:00  2894.92  2532.01  2177.0333  1183.7287  1.5726   \n",
       "1566  2008-10-17 06:07:00  2944.92  2450.76  2195.4444  2914.1792  1.5978   \n",
       "\n",
       "          5         6       7         8  ...      577     582     583     584  \\\n",
       "0     100.0   97.6133  0.1242  1.500500  ...  14.9509  0.5005  0.0118  0.0035   \n",
       "1     100.0  102.3433  0.1247  1.496600  ...  10.9003  0.5019  0.0223  0.0055   \n",
       "2     100.0   95.4878  0.1241  1.443600  ...   9.2721  0.4958  0.0157  0.0039   \n",
       "3     100.0  104.2367  0.1217  1.488200  ...   8.5831  0.4990  0.0103  0.0025   \n",
       "4     100.0  100.3967  0.1235  1.503100  ...  10.9698  0.4800  0.4766  0.1045   \n",
       "...     ...       ...     ...       ...  ...      ...     ...     ...     ...   \n",
       "1562  100.0   82.2467  0.1248  1.342400  ...  11.7256  0.4988  0.0143  0.0039   \n",
       "1563  100.0   98.4689  0.1205  1.433300  ...  17.8379  0.4975  0.0131  0.0036   \n",
       "1564  100.0   99.4122  0.1208  1.462862  ...  17.7267  0.4987  0.0153  0.0041   \n",
       "1565  100.0   98.7978  0.1213  1.462200  ...  19.2104  0.5004  0.0178  0.0038   \n",
       "1566  100.0   85.1011  0.1235  1.462862  ...  22.9183  0.4987  0.0181  0.0040   \n",
       "\n",
       "          585       586       587       588         589  Pass/Fail  \n",
       "0      2.3630  0.021458  0.016475  0.005283   99.670066         -1  \n",
       "1      4.4447  0.009600  0.020100  0.006000  208.204500         -1  \n",
       "2      3.1745  0.058400  0.048400  0.014800   82.860200          1  \n",
       "3      2.0544  0.020200  0.014900  0.004400   73.843200         -1  \n",
       "4     99.3032  0.020200  0.014900  0.004400   73.843200         -1  \n",
       "...       ...       ...       ...       ...         ...        ...  \n",
       "1562   2.8669  0.006800  0.013800  0.004700  203.172000         -1  \n",
       "1563   2.6238  0.006800  0.013800  0.004700  203.172000         -1  \n",
       "1564   3.0590  0.019700  0.008600  0.002500   43.523100         -1  \n",
       "1565   3.5662  0.026200  0.024500  0.007500   93.494100         -1  \n",
       "1566   3.6275  0.011700  0.016200  0.004500  137.784400         -1  \n",
       "\n",
       "[1567 rows x 560 columns]"
      ]
     },
     "execution_count": 6,
     "metadata": {},
     "output_type": "execute_result"
    }
   ],
   "source": [
    "ndfnew.mean()\n",
    "ndfnew.fillna(ndfnew.mean(), inplace=True)\n",
    "ndfnew"
   ]
  },
  {
   "cell_type": "markdown",
   "id": "d7180659",
   "metadata": {},
   "source": [
    "#### Q2 B -Identify and drop the features which are having same value for all the rows."
   ]
  },
  {
   "cell_type": "code",
   "execution_count": 7,
   "id": "7ba434f6",
   "metadata": {},
   "outputs": [
    {
     "data": {
      "text/html": [
       "<div>\n",
       "<style scoped>\n",
       "    .dataframe tbody tr th:only-of-type {\n",
       "        vertical-align: middle;\n",
       "    }\n",
       "\n",
       "    .dataframe tbody tr th {\n",
       "        vertical-align: top;\n",
       "    }\n",
       "\n",
       "    .dataframe thead th {\n",
       "        text-align: right;\n",
       "    }\n",
       "</style>\n",
       "<table border=\"1\" class=\"dataframe\">\n",
       "  <thead>\n",
       "    <tr style=\"text-align: right;\">\n",
       "      <th></th>\n",
       "      <th>Time</th>\n",
       "      <th>0</th>\n",
       "      <th>1</th>\n",
       "      <th>2</th>\n",
       "      <th>3</th>\n",
       "      <th>4</th>\n",
       "      <th>6</th>\n",
       "      <th>7</th>\n",
       "      <th>8</th>\n",
       "      <th>9</th>\n",
       "      <th>...</th>\n",
       "      <th>577</th>\n",
       "      <th>582</th>\n",
       "      <th>583</th>\n",
       "      <th>584</th>\n",
       "      <th>585</th>\n",
       "      <th>586</th>\n",
       "      <th>587</th>\n",
       "      <th>588</th>\n",
       "      <th>589</th>\n",
       "      <th>Pass/Fail</th>\n",
       "    </tr>\n",
       "  </thead>\n",
       "  <tbody>\n",
       "    <tr>\n",
       "      <th>0</th>\n",
       "      <td>2008-07-19 11:55:00</td>\n",
       "      <td>3030.93</td>\n",
       "      <td>2564.00</td>\n",
       "      <td>2187.7333</td>\n",
       "      <td>1411.1265</td>\n",
       "      <td>1.3602</td>\n",
       "      <td>97.6133</td>\n",
       "      <td>0.1242</td>\n",
       "      <td>1.500500</td>\n",
       "      <td>0.016200</td>\n",
       "      <td>...</td>\n",
       "      <td>14.9509</td>\n",
       "      <td>0.5005</td>\n",
       "      <td>0.0118</td>\n",
       "      <td>0.0035</td>\n",
       "      <td>2.3630</td>\n",
       "      <td>0.021458</td>\n",
       "      <td>0.016475</td>\n",
       "      <td>0.005283</td>\n",
       "      <td>99.670066</td>\n",
       "      <td>-1</td>\n",
       "    </tr>\n",
       "    <tr>\n",
       "      <th>1</th>\n",
       "      <td>2008-07-19 12:32:00</td>\n",
       "      <td>3095.78</td>\n",
       "      <td>2465.14</td>\n",
       "      <td>2230.4222</td>\n",
       "      <td>1463.6606</td>\n",
       "      <td>0.8294</td>\n",
       "      <td>102.3433</td>\n",
       "      <td>0.1247</td>\n",
       "      <td>1.496600</td>\n",
       "      <td>-0.000500</td>\n",
       "      <td>...</td>\n",
       "      <td>10.9003</td>\n",
       "      <td>0.5019</td>\n",
       "      <td>0.0223</td>\n",
       "      <td>0.0055</td>\n",
       "      <td>4.4447</td>\n",
       "      <td>0.009600</td>\n",
       "      <td>0.020100</td>\n",
       "      <td>0.006000</td>\n",
       "      <td>208.204500</td>\n",
       "      <td>-1</td>\n",
       "    </tr>\n",
       "    <tr>\n",
       "      <th>2</th>\n",
       "      <td>2008-07-19 13:17:00</td>\n",
       "      <td>2932.61</td>\n",
       "      <td>2559.94</td>\n",
       "      <td>2186.4111</td>\n",
       "      <td>1698.0172</td>\n",
       "      <td>1.5102</td>\n",
       "      <td>95.4878</td>\n",
       "      <td>0.1241</td>\n",
       "      <td>1.443600</td>\n",
       "      <td>0.004100</td>\n",
       "      <td>...</td>\n",
       "      <td>9.2721</td>\n",
       "      <td>0.4958</td>\n",
       "      <td>0.0157</td>\n",
       "      <td>0.0039</td>\n",
       "      <td>3.1745</td>\n",
       "      <td>0.058400</td>\n",
       "      <td>0.048400</td>\n",
       "      <td>0.014800</td>\n",
       "      <td>82.860200</td>\n",
       "      <td>1</td>\n",
       "    </tr>\n",
       "    <tr>\n",
       "      <th>3</th>\n",
       "      <td>2008-07-19 14:43:00</td>\n",
       "      <td>2988.72</td>\n",
       "      <td>2479.90</td>\n",
       "      <td>2199.0333</td>\n",
       "      <td>909.7926</td>\n",
       "      <td>1.3204</td>\n",
       "      <td>104.2367</td>\n",
       "      <td>0.1217</td>\n",
       "      <td>1.488200</td>\n",
       "      <td>-0.012400</td>\n",
       "      <td>...</td>\n",
       "      <td>8.5831</td>\n",
       "      <td>0.4990</td>\n",
       "      <td>0.0103</td>\n",
       "      <td>0.0025</td>\n",
       "      <td>2.0544</td>\n",
       "      <td>0.020200</td>\n",
       "      <td>0.014900</td>\n",
       "      <td>0.004400</td>\n",
       "      <td>73.843200</td>\n",
       "      <td>-1</td>\n",
       "    </tr>\n",
       "    <tr>\n",
       "      <th>4</th>\n",
       "      <td>2008-07-19 15:22:00</td>\n",
       "      <td>3032.24</td>\n",
       "      <td>2502.87</td>\n",
       "      <td>2233.3667</td>\n",
       "      <td>1326.5200</td>\n",
       "      <td>1.5334</td>\n",
       "      <td>100.3967</td>\n",
       "      <td>0.1235</td>\n",
       "      <td>1.503100</td>\n",
       "      <td>-0.003100</td>\n",
       "      <td>...</td>\n",
       "      <td>10.9698</td>\n",
       "      <td>0.4800</td>\n",
       "      <td>0.4766</td>\n",
       "      <td>0.1045</td>\n",
       "      <td>99.3032</td>\n",
       "      <td>0.020200</td>\n",
       "      <td>0.014900</td>\n",
       "      <td>0.004400</td>\n",
       "      <td>73.843200</td>\n",
       "      <td>-1</td>\n",
       "    </tr>\n",
       "    <tr>\n",
       "      <th>...</th>\n",
       "      <td>...</td>\n",
       "      <td>...</td>\n",
       "      <td>...</td>\n",
       "      <td>...</td>\n",
       "      <td>...</td>\n",
       "      <td>...</td>\n",
       "      <td>...</td>\n",
       "      <td>...</td>\n",
       "      <td>...</td>\n",
       "      <td>...</td>\n",
       "      <td>...</td>\n",
       "      <td>...</td>\n",
       "      <td>...</td>\n",
       "      <td>...</td>\n",
       "      <td>...</td>\n",
       "      <td>...</td>\n",
       "      <td>...</td>\n",
       "      <td>...</td>\n",
       "      <td>...</td>\n",
       "      <td>...</td>\n",
       "      <td>...</td>\n",
       "    </tr>\n",
       "    <tr>\n",
       "      <th>1562</th>\n",
       "      <td>2008-10-16 15:13:00</td>\n",
       "      <td>2899.41</td>\n",
       "      <td>2464.36</td>\n",
       "      <td>2179.7333</td>\n",
       "      <td>3085.3781</td>\n",
       "      <td>1.4843</td>\n",
       "      <td>82.2467</td>\n",
       "      <td>0.1248</td>\n",
       "      <td>1.342400</td>\n",
       "      <td>-0.004500</td>\n",
       "      <td>...</td>\n",
       "      <td>11.7256</td>\n",
       "      <td>0.4988</td>\n",
       "      <td>0.0143</td>\n",
       "      <td>0.0039</td>\n",
       "      <td>2.8669</td>\n",
       "      <td>0.006800</td>\n",
       "      <td>0.013800</td>\n",
       "      <td>0.004700</td>\n",
       "      <td>203.172000</td>\n",
       "      <td>-1</td>\n",
       "    </tr>\n",
       "    <tr>\n",
       "      <th>1563</th>\n",
       "      <td>2008-10-16 20:49:00</td>\n",
       "      <td>3052.31</td>\n",
       "      <td>2522.55</td>\n",
       "      <td>2198.5667</td>\n",
       "      <td>1124.6595</td>\n",
       "      <td>0.8763</td>\n",
       "      <td>98.4689</td>\n",
       "      <td>0.1205</td>\n",
       "      <td>1.433300</td>\n",
       "      <td>-0.006100</td>\n",
       "      <td>...</td>\n",
       "      <td>17.8379</td>\n",
       "      <td>0.4975</td>\n",
       "      <td>0.0131</td>\n",
       "      <td>0.0036</td>\n",
       "      <td>2.6238</td>\n",
       "      <td>0.006800</td>\n",
       "      <td>0.013800</td>\n",
       "      <td>0.004700</td>\n",
       "      <td>203.172000</td>\n",
       "      <td>-1</td>\n",
       "    </tr>\n",
       "    <tr>\n",
       "      <th>1564</th>\n",
       "      <td>2008-10-17 05:26:00</td>\n",
       "      <td>2978.81</td>\n",
       "      <td>2379.78</td>\n",
       "      <td>2206.3000</td>\n",
       "      <td>1110.4967</td>\n",
       "      <td>0.8236</td>\n",
       "      <td>99.4122</td>\n",
       "      <td>0.1208</td>\n",
       "      <td>1.462862</td>\n",
       "      <td>-0.000841</td>\n",
       "      <td>...</td>\n",
       "      <td>17.7267</td>\n",
       "      <td>0.4987</td>\n",
       "      <td>0.0153</td>\n",
       "      <td>0.0041</td>\n",
       "      <td>3.0590</td>\n",
       "      <td>0.019700</td>\n",
       "      <td>0.008600</td>\n",
       "      <td>0.002500</td>\n",
       "      <td>43.523100</td>\n",
       "      <td>-1</td>\n",
       "    </tr>\n",
       "    <tr>\n",
       "      <th>1565</th>\n",
       "      <td>2008-10-17 06:01:00</td>\n",
       "      <td>2894.92</td>\n",
       "      <td>2532.01</td>\n",
       "      <td>2177.0333</td>\n",
       "      <td>1183.7287</td>\n",
       "      <td>1.5726</td>\n",
       "      <td>98.7978</td>\n",
       "      <td>0.1213</td>\n",
       "      <td>1.462200</td>\n",
       "      <td>-0.007200</td>\n",
       "      <td>...</td>\n",
       "      <td>19.2104</td>\n",
       "      <td>0.5004</td>\n",
       "      <td>0.0178</td>\n",
       "      <td>0.0038</td>\n",
       "      <td>3.5662</td>\n",
       "      <td>0.026200</td>\n",
       "      <td>0.024500</td>\n",
       "      <td>0.007500</td>\n",
       "      <td>93.494100</td>\n",
       "      <td>-1</td>\n",
       "    </tr>\n",
       "    <tr>\n",
       "      <th>1566</th>\n",
       "      <td>2008-10-17 06:07:00</td>\n",
       "      <td>2944.92</td>\n",
       "      <td>2450.76</td>\n",
       "      <td>2195.4444</td>\n",
       "      <td>2914.1792</td>\n",
       "      <td>1.5978</td>\n",
       "      <td>85.1011</td>\n",
       "      <td>0.1235</td>\n",
       "      <td>1.462862</td>\n",
       "      <td>-0.000841</td>\n",
       "      <td>...</td>\n",
       "      <td>22.9183</td>\n",
       "      <td>0.4987</td>\n",
       "      <td>0.0181</td>\n",
       "      <td>0.0040</td>\n",
       "      <td>3.6275</td>\n",
       "      <td>0.011700</td>\n",
       "      <td>0.016200</td>\n",
       "      <td>0.004500</td>\n",
       "      <td>137.784400</td>\n",
       "      <td>-1</td>\n",
       "    </tr>\n",
       "  </tbody>\n",
       "</table>\n",
       "<p>1567 rows × 444 columns</p>\n",
       "</div>"
      ],
      "text/plain": [
       "                     Time        0        1          2          3       4  \\\n",
       "0     2008-07-19 11:55:00  3030.93  2564.00  2187.7333  1411.1265  1.3602   \n",
       "1     2008-07-19 12:32:00  3095.78  2465.14  2230.4222  1463.6606  0.8294   \n",
       "2     2008-07-19 13:17:00  2932.61  2559.94  2186.4111  1698.0172  1.5102   \n",
       "3     2008-07-19 14:43:00  2988.72  2479.90  2199.0333   909.7926  1.3204   \n",
       "4     2008-07-19 15:22:00  3032.24  2502.87  2233.3667  1326.5200  1.5334   \n",
       "...                   ...      ...      ...        ...        ...     ...   \n",
       "1562  2008-10-16 15:13:00  2899.41  2464.36  2179.7333  3085.3781  1.4843   \n",
       "1563  2008-10-16 20:49:00  3052.31  2522.55  2198.5667  1124.6595  0.8763   \n",
       "1564  2008-10-17 05:26:00  2978.81  2379.78  2206.3000  1110.4967  0.8236   \n",
       "1565  2008-10-17 06:01:00  2894.92  2532.01  2177.0333  1183.7287  1.5726   \n",
       "1566  2008-10-17 06:07:00  2944.92  2450.76  2195.4444  2914.1792  1.5978   \n",
       "\n",
       "             6       7         8         9  ...      577     582     583  \\\n",
       "0      97.6133  0.1242  1.500500  0.016200  ...  14.9509  0.5005  0.0118   \n",
       "1     102.3433  0.1247  1.496600 -0.000500  ...  10.9003  0.5019  0.0223   \n",
       "2      95.4878  0.1241  1.443600  0.004100  ...   9.2721  0.4958  0.0157   \n",
       "3     104.2367  0.1217  1.488200 -0.012400  ...   8.5831  0.4990  0.0103   \n",
       "4     100.3967  0.1235  1.503100 -0.003100  ...  10.9698  0.4800  0.4766   \n",
       "...        ...     ...       ...       ...  ...      ...     ...     ...   \n",
       "1562   82.2467  0.1248  1.342400 -0.004500  ...  11.7256  0.4988  0.0143   \n",
       "1563   98.4689  0.1205  1.433300 -0.006100  ...  17.8379  0.4975  0.0131   \n",
       "1564   99.4122  0.1208  1.462862 -0.000841  ...  17.7267  0.4987  0.0153   \n",
       "1565   98.7978  0.1213  1.462200 -0.007200  ...  19.2104  0.5004  0.0178   \n",
       "1566   85.1011  0.1235  1.462862 -0.000841  ...  22.9183  0.4987  0.0181   \n",
       "\n",
       "         584      585       586       587       588         589  Pass/Fail  \n",
       "0     0.0035   2.3630  0.021458  0.016475  0.005283   99.670066         -1  \n",
       "1     0.0055   4.4447  0.009600  0.020100  0.006000  208.204500         -1  \n",
       "2     0.0039   3.1745  0.058400  0.048400  0.014800   82.860200          1  \n",
       "3     0.0025   2.0544  0.020200  0.014900  0.004400   73.843200         -1  \n",
       "4     0.1045  99.3032  0.020200  0.014900  0.004400   73.843200         -1  \n",
       "...      ...      ...       ...       ...       ...         ...        ...  \n",
       "1562  0.0039   2.8669  0.006800  0.013800  0.004700  203.172000         -1  \n",
       "1563  0.0036   2.6238  0.006800  0.013800  0.004700  203.172000         -1  \n",
       "1564  0.0041   3.0590  0.019700  0.008600  0.002500   43.523100         -1  \n",
       "1565  0.0038   3.5662  0.026200  0.024500  0.007500   93.494100         -1  \n",
       "1566  0.0040   3.6275  0.011700  0.016200  0.004500  137.784400         -1  \n",
       "\n",
       "[1567 rows x 444 columns]"
      ]
     },
     "execution_count": 7,
     "metadata": {},
     "output_type": "execute_result"
    }
   ],
   "source": [
    "df1 = ndfnew.loc[:,ndfnew.apply(pd.Series.nunique) != 1]\n",
    "df1"
   ]
  },
  {
   "cell_type": "markdown",
   "id": "d9f3dd9c",
   "metadata": {},
   "source": [
    "#### Q2 C -Drop other features if required using relevant functional knowledge. Clearly justify the same."
   ]
  },
  {
   "cell_type": "code",
   "execution_count": 8,
   "id": "37d9bf32",
   "metadata": {
    "scrolled": true
   },
   "outputs": [
    {
     "data": {
      "text/html": [
       "<div>\n",
       "<style scoped>\n",
       "    .dataframe tbody tr th:only-of-type {\n",
       "        vertical-align: middle;\n",
       "    }\n",
       "\n",
       "    .dataframe tbody tr th {\n",
       "        vertical-align: top;\n",
       "    }\n",
       "\n",
       "    .dataframe thead th {\n",
       "        text-align: right;\n",
       "    }\n",
       "</style>\n",
       "<table border=\"1\" class=\"dataframe\">\n",
       "  <thead>\n",
       "    <tr style=\"text-align: right;\">\n",
       "      <th></th>\n",
       "      <th>0</th>\n",
       "      <th>1</th>\n",
       "      <th>2</th>\n",
       "      <th>3</th>\n",
       "      <th>4</th>\n",
       "      <th>6</th>\n",
       "      <th>7</th>\n",
       "      <th>8</th>\n",
       "      <th>9</th>\n",
       "      <th>10</th>\n",
       "      <th>...</th>\n",
       "      <th>577</th>\n",
       "      <th>582</th>\n",
       "      <th>583</th>\n",
       "      <th>584</th>\n",
       "      <th>585</th>\n",
       "      <th>586</th>\n",
       "      <th>587</th>\n",
       "      <th>588</th>\n",
       "      <th>589</th>\n",
       "      <th>Pass/Fail</th>\n",
       "    </tr>\n",
       "  </thead>\n",
       "  <tbody>\n",
       "    <tr>\n",
       "      <th>0</th>\n",
       "      <td>3030.93</td>\n",
       "      <td>2564.00</td>\n",
       "      <td>2187.7333</td>\n",
       "      <td>1411.1265</td>\n",
       "      <td>1.3602</td>\n",
       "      <td>97.6133</td>\n",
       "      <td>0.1242</td>\n",
       "      <td>1.500500</td>\n",
       "      <td>0.016200</td>\n",
       "      <td>-0.003400</td>\n",
       "      <td>...</td>\n",
       "      <td>14.9509</td>\n",
       "      <td>0.5005</td>\n",
       "      <td>0.0118</td>\n",
       "      <td>0.0035</td>\n",
       "      <td>2.3630</td>\n",
       "      <td>0.021458</td>\n",
       "      <td>0.016475</td>\n",
       "      <td>0.005283</td>\n",
       "      <td>99.670066</td>\n",
       "      <td>-1</td>\n",
       "    </tr>\n",
       "    <tr>\n",
       "      <th>1</th>\n",
       "      <td>3095.78</td>\n",
       "      <td>2465.14</td>\n",
       "      <td>2230.4222</td>\n",
       "      <td>1463.6606</td>\n",
       "      <td>0.8294</td>\n",
       "      <td>102.3433</td>\n",
       "      <td>0.1247</td>\n",
       "      <td>1.496600</td>\n",
       "      <td>-0.000500</td>\n",
       "      <td>-0.014800</td>\n",
       "      <td>...</td>\n",
       "      <td>10.9003</td>\n",
       "      <td>0.5019</td>\n",
       "      <td>0.0223</td>\n",
       "      <td>0.0055</td>\n",
       "      <td>4.4447</td>\n",
       "      <td>0.009600</td>\n",
       "      <td>0.020100</td>\n",
       "      <td>0.006000</td>\n",
       "      <td>208.204500</td>\n",
       "      <td>-1</td>\n",
       "    </tr>\n",
       "    <tr>\n",
       "      <th>2</th>\n",
       "      <td>2932.61</td>\n",
       "      <td>2559.94</td>\n",
       "      <td>2186.4111</td>\n",
       "      <td>1698.0172</td>\n",
       "      <td>1.5102</td>\n",
       "      <td>95.4878</td>\n",
       "      <td>0.1241</td>\n",
       "      <td>1.443600</td>\n",
       "      <td>0.004100</td>\n",
       "      <td>0.001300</td>\n",
       "      <td>...</td>\n",
       "      <td>9.2721</td>\n",
       "      <td>0.4958</td>\n",
       "      <td>0.0157</td>\n",
       "      <td>0.0039</td>\n",
       "      <td>3.1745</td>\n",
       "      <td>0.058400</td>\n",
       "      <td>0.048400</td>\n",
       "      <td>0.014800</td>\n",
       "      <td>82.860200</td>\n",
       "      <td>1</td>\n",
       "    </tr>\n",
       "    <tr>\n",
       "      <th>3</th>\n",
       "      <td>2988.72</td>\n",
       "      <td>2479.90</td>\n",
       "      <td>2199.0333</td>\n",
       "      <td>909.7926</td>\n",
       "      <td>1.3204</td>\n",
       "      <td>104.2367</td>\n",
       "      <td>0.1217</td>\n",
       "      <td>1.488200</td>\n",
       "      <td>-0.012400</td>\n",
       "      <td>-0.003300</td>\n",
       "      <td>...</td>\n",
       "      <td>8.5831</td>\n",
       "      <td>0.4990</td>\n",
       "      <td>0.0103</td>\n",
       "      <td>0.0025</td>\n",
       "      <td>2.0544</td>\n",
       "      <td>0.020200</td>\n",
       "      <td>0.014900</td>\n",
       "      <td>0.004400</td>\n",
       "      <td>73.843200</td>\n",
       "      <td>-1</td>\n",
       "    </tr>\n",
       "    <tr>\n",
       "      <th>4</th>\n",
       "      <td>3032.24</td>\n",
       "      <td>2502.87</td>\n",
       "      <td>2233.3667</td>\n",
       "      <td>1326.5200</td>\n",
       "      <td>1.5334</td>\n",
       "      <td>100.3967</td>\n",
       "      <td>0.1235</td>\n",
       "      <td>1.503100</td>\n",
       "      <td>-0.003100</td>\n",
       "      <td>-0.007200</td>\n",
       "      <td>...</td>\n",
       "      <td>10.9698</td>\n",
       "      <td>0.4800</td>\n",
       "      <td>0.4766</td>\n",
       "      <td>0.1045</td>\n",
       "      <td>99.3032</td>\n",
       "      <td>0.020200</td>\n",
       "      <td>0.014900</td>\n",
       "      <td>0.004400</td>\n",
       "      <td>73.843200</td>\n",
       "      <td>-1</td>\n",
       "    </tr>\n",
       "    <tr>\n",
       "      <th>...</th>\n",
       "      <td>...</td>\n",
       "      <td>...</td>\n",
       "      <td>...</td>\n",
       "      <td>...</td>\n",
       "      <td>...</td>\n",
       "      <td>...</td>\n",
       "      <td>...</td>\n",
       "      <td>...</td>\n",
       "      <td>...</td>\n",
       "      <td>...</td>\n",
       "      <td>...</td>\n",
       "      <td>...</td>\n",
       "      <td>...</td>\n",
       "      <td>...</td>\n",
       "      <td>...</td>\n",
       "      <td>...</td>\n",
       "      <td>...</td>\n",
       "      <td>...</td>\n",
       "      <td>...</td>\n",
       "      <td>...</td>\n",
       "      <td>...</td>\n",
       "    </tr>\n",
       "    <tr>\n",
       "      <th>1562</th>\n",
       "      <td>2899.41</td>\n",
       "      <td>2464.36</td>\n",
       "      <td>2179.7333</td>\n",
       "      <td>3085.3781</td>\n",
       "      <td>1.4843</td>\n",
       "      <td>82.2467</td>\n",
       "      <td>0.1248</td>\n",
       "      <td>1.342400</td>\n",
       "      <td>-0.004500</td>\n",
       "      <td>-0.005700</td>\n",
       "      <td>...</td>\n",
       "      <td>11.7256</td>\n",
       "      <td>0.4988</td>\n",
       "      <td>0.0143</td>\n",
       "      <td>0.0039</td>\n",
       "      <td>2.8669</td>\n",
       "      <td>0.006800</td>\n",
       "      <td>0.013800</td>\n",
       "      <td>0.004700</td>\n",
       "      <td>203.172000</td>\n",
       "      <td>-1</td>\n",
       "    </tr>\n",
       "    <tr>\n",
       "      <th>1563</th>\n",
       "      <td>3052.31</td>\n",
       "      <td>2522.55</td>\n",
       "      <td>2198.5667</td>\n",
       "      <td>1124.6595</td>\n",
       "      <td>0.8763</td>\n",
       "      <td>98.4689</td>\n",
       "      <td>0.1205</td>\n",
       "      <td>1.433300</td>\n",
       "      <td>-0.006100</td>\n",
       "      <td>-0.009300</td>\n",
       "      <td>...</td>\n",
       "      <td>17.8379</td>\n",
       "      <td>0.4975</td>\n",
       "      <td>0.0131</td>\n",
       "      <td>0.0036</td>\n",
       "      <td>2.6238</td>\n",
       "      <td>0.006800</td>\n",
       "      <td>0.013800</td>\n",
       "      <td>0.004700</td>\n",
       "      <td>203.172000</td>\n",
       "      <td>-1</td>\n",
       "    </tr>\n",
       "    <tr>\n",
       "      <th>1564</th>\n",
       "      <td>2978.81</td>\n",
       "      <td>2379.78</td>\n",
       "      <td>2206.3000</td>\n",
       "      <td>1110.4967</td>\n",
       "      <td>0.8236</td>\n",
       "      <td>99.4122</td>\n",
       "      <td>0.1208</td>\n",
       "      <td>1.462862</td>\n",
       "      <td>-0.000841</td>\n",
       "      <td>0.000146</td>\n",
       "      <td>...</td>\n",
       "      <td>17.7267</td>\n",
       "      <td>0.4987</td>\n",
       "      <td>0.0153</td>\n",
       "      <td>0.0041</td>\n",
       "      <td>3.0590</td>\n",
       "      <td>0.019700</td>\n",
       "      <td>0.008600</td>\n",
       "      <td>0.002500</td>\n",
       "      <td>43.523100</td>\n",
       "      <td>-1</td>\n",
       "    </tr>\n",
       "    <tr>\n",
       "      <th>1565</th>\n",
       "      <td>2894.92</td>\n",
       "      <td>2532.01</td>\n",
       "      <td>2177.0333</td>\n",
       "      <td>1183.7287</td>\n",
       "      <td>1.5726</td>\n",
       "      <td>98.7978</td>\n",
       "      <td>0.1213</td>\n",
       "      <td>1.462200</td>\n",
       "      <td>-0.007200</td>\n",
       "      <td>0.003200</td>\n",
       "      <td>...</td>\n",
       "      <td>19.2104</td>\n",
       "      <td>0.5004</td>\n",
       "      <td>0.0178</td>\n",
       "      <td>0.0038</td>\n",
       "      <td>3.5662</td>\n",
       "      <td>0.026200</td>\n",
       "      <td>0.024500</td>\n",
       "      <td>0.007500</td>\n",
       "      <td>93.494100</td>\n",
       "      <td>-1</td>\n",
       "    </tr>\n",
       "    <tr>\n",
       "      <th>1566</th>\n",
       "      <td>2944.92</td>\n",
       "      <td>2450.76</td>\n",
       "      <td>2195.4444</td>\n",
       "      <td>2914.1792</td>\n",
       "      <td>1.5978</td>\n",
       "      <td>85.1011</td>\n",
       "      <td>0.1235</td>\n",
       "      <td>1.462862</td>\n",
       "      <td>-0.000841</td>\n",
       "      <td>0.000146</td>\n",
       "      <td>...</td>\n",
       "      <td>22.9183</td>\n",
       "      <td>0.4987</td>\n",
       "      <td>0.0181</td>\n",
       "      <td>0.0040</td>\n",
       "      <td>3.6275</td>\n",
       "      <td>0.011700</td>\n",
       "      <td>0.016200</td>\n",
       "      <td>0.004500</td>\n",
       "      <td>137.784400</td>\n",
       "      <td>-1</td>\n",
       "    </tr>\n",
       "  </tbody>\n",
       "</table>\n",
       "<p>1567 rows × 443 columns</p>\n",
       "</div>"
      ],
      "text/plain": [
       "            0        1          2          3       4         6       7  \\\n",
       "0     3030.93  2564.00  2187.7333  1411.1265  1.3602   97.6133  0.1242   \n",
       "1     3095.78  2465.14  2230.4222  1463.6606  0.8294  102.3433  0.1247   \n",
       "2     2932.61  2559.94  2186.4111  1698.0172  1.5102   95.4878  0.1241   \n",
       "3     2988.72  2479.90  2199.0333   909.7926  1.3204  104.2367  0.1217   \n",
       "4     3032.24  2502.87  2233.3667  1326.5200  1.5334  100.3967  0.1235   \n",
       "...       ...      ...        ...        ...     ...       ...     ...   \n",
       "1562  2899.41  2464.36  2179.7333  3085.3781  1.4843   82.2467  0.1248   \n",
       "1563  3052.31  2522.55  2198.5667  1124.6595  0.8763   98.4689  0.1205   \n",
       "1564  2978.81  2379.78  2206.3000  1110.4967  0.8236   99.4122  0.1208   \n",
       "1565  2894.92  2532.01  2177.0333  1183.7287  1.5726   98.7978  0.1213   \n",
       "1566  2944.92  2450.76  2195.4444  2914.1792  1.5978   85.1011  0.1235   \n",
       "\n",
       "             8         9        10  ...      577     582     583     584  \\\n",
       "0     1.500500  0.016200 -0.003400  ...  14.9509  0.5005  0.0118  0.0035   \n",
       "1     1.496600 -0.000500 -0.014800  ...  10.9003  0.5019  0.0223  0.0055   \n",
       "2     1.443600  0.004100  0.001300  ...   9.2721  0.4958  0.0157  0.0039   \n",
       "3     1.488200 -0.012400 -0.003300  ...   8.5831  0.4990  0.0103  0.0025   \n",
       "4     1.503100 -0.003100 -0.007200  ...  10.9698  0.4800  0.4766  0.1045   \n",
       "...        ...       ...       ...  ...      ...     ...     ...     ...   \n",
       "1562  1.342400 -0.004500 -0.005700  ...  11.7256  0.4988  0.0143  0.0039   \n",
       "1563  1.433300 -0.006100 -0.009300  ...  17.8379  0.4975  0.0131  0.0036   \n",
       "1564  1.462862 -0.000841  0.000146  ...  17.7267  0.4987  0.0153  0.0041   \n",
       "1565  1.462200 -0.007200  0.003200  ...  19.2104  0.5004  0.0178  0.0038   \n",
       "1566  1.462862 -0.000841  0.000146  ...  22.9183  0.4987  0.0181  0.0040   \n",
       "\n",
       "          585       586       587       588         589  Pass/Fail  \n",
       "0      2.3630  0.021458  0.016475  0.005283   99.670066         -1  \n",
       "1      4.4447  0.009600  0.020100  0.006000  208.204500         -1  \n",
       "2      3.1745  0.058400  0.048400  0.014800   82.860200          1  \n",
       "3      2.0544  0.020200  0.014900  0.004400   73.843200         -1  \n",
       "4     99.3032  0.020200  0.014900  0.004400   73.843200         -1  \n",
       "...       ...       ...       ...       ...         ...        ...  \n",
       "1562   2.8669  0.006800  0.013800  0.004700  203.172000         -1  \n",
       "1563   2.6238  0.006800  0.013800  0.004700  203.172000         -1  \n",
       "1564   3.0590  0.019700  0.008600  0.002500   43.523100         -1  \n",
       "1565   3.5662  0.026200  0.024500  0.007500   93.494100         -1  \n",
       "1566   3.6275  0.011700  0.016200  0.004500  137.784400         -1  \n",
       "\n",
       "[1567 rows x 443 columns]"
      ]
     },
     "execution_count": 8,
     "metadata": {},
     "output_type": "execute_result"
    }
   ],
   "source": [
    "df1.drop(columns = ['Time'], axis = 0, inplace = True)\n",
    "df1"
   ]
  },
  {
   "cell_type": "code",
   "execution_count": 9,
   "id": "521a2d0e",
   "metadata": {
    "scrolled": true
   },
   "outputs": [
    {
     "data": {
      "text/html": [
       "<div>\n",
       "<style scoped>\n",
       "    .dataframe tbody tr th:only-of-type {\n",
       "        vertical-align: middle;\n",
       "    }\n",
       "\n",
       "    .dataframe tbody tr th {\n",
       "        vertical-align: top;\n",
       "    }\n",
       "\n",
       "    .dataframe thead th {\n",
       "        text-align: right;\n",
       "    }\n",
       "</style>\n",
       "<table border=\"1\" class=\"dataframe\">\n",
       "  <thead>\n",
       "    <tr style=\"text-align: right;\">\n",
       "      <th></th>\n",
       "      <th>count</th>\n",
       "      <th>mean</th>\n",
       "      <th>std</th>\n",
       "      <th>min</th>\n",
       "      <th>25%</th>\n",
       "      <th>50%</th>\n",
       "      <th>75%</th>\n",
       "      <th>max</th>\n",
       "    </tr>\n",
       "  </thead>\n",
       "  <tbody>\n",
       "    <tr>\n",
       "      <th>0</th>\n",
       "      <td>1567.0</td>\n",
       "      <td>3014.452896</td>\n",
       "      <td>73.480613</td>\n",
       "      <td>2743.2400</td>\n",
       "      <td>2966.66500</td>\n",
       "      <td>3011.8400</td>\n",
       "      <td>3056.5400</td>\n",
       "      <td>3356.3500</td>\n",
       "    </tr>\n",
       "    <tr>\n",
       "      <th>1</th>\n",
       "      <td>1567.0</td>\n",
       "      <td>2495.850231</td>\n",
       "      <td>80.227793</td>\n",
       "      <td>2158.7500</td>\n",
       "      <td>2452.88500</td>\n",
       "      <td>2498.9100</td>\n",
       "      <td>2538.7450</td>\n",
       "      <td>2846.4400</td>\n",
       "    </tr>\n",
       "    <tr>\n",
       "      <th>2</th>\n",
       "      <td>1567.0</td>\n",
       "      <td>2200.547318</td>\n",
       "      <td>29.380932</td>\n",
       "      <td>2060.6600</td>\n",
       "      <td>2181.09995</td>\n",
       "      <td>2200.9556</td>\n",
       "      <td>2218.0555</td>\n",
       "      <td>2315.2667</td>\n",
       "    </tr>\n",
       "    <tr>\n",
       "      <th>3</th>\n",
       "      <td>1567.0</td>\n",
       "      <td>1396.376627</td>\n",
       "      <td>439.712852</td>\n",
       "      <td>0.0000</td>\n",
       "      <td>1083.88580</td>\n",
       "      <td>1287.3538</td>\n",
       "      <td>1590.1699</td>\n",
       "      <td>3715.0417</td>\n",
       "    </tr>\n",
       "    <tr>\n",
       "      <th>4</th>\n",
       "      <td>1567.0</td>\n",
       "      <td>4.197013</td>\n",
       "      <td>56.103066</td>\n",
       "      <td>0.6815</td>\n",
       "      <td>1.01770</td>\n",
       "      <td>1.3171</td>\n",
       "      <td>1.5296</td>\n",
       "      <td>1114.5366</td>\n",
       "    </tr>\n",
       "    <tr>\n",
       "      <th>...</th>\n",
       "      <td>...</td>\n",
       "      <td>...</td>\n",
       "      <td>...</td>\n",
       "      <td>...</td>\n",
       "      <td>...</td>\n",
       "      <td>...</td>\n",
       "      <td>...</td>\n",
       "      <td>...</td>\n",
       "    </tr>\n",
       "    <tr>\n",
       "      <th>586</th>\n",
       "      <td>1567.0</td>\n",
       "      <td>0.021458</td>\n",
       "      <td>0.012354</td>\n",
       "      <td>-0.0169</td>\n",
       "      <td>0.01345</td>\n",
       "      <td>0.0205</td>\n",
       "      <td>0.0276</td>\n",
       "      <td>0.1028</td>\n",
       "    </tr>\n",
       "    <tr>\n",
       "      <th>587</th>\n",
       "      <td>1567.0</td>\n",
       "      <td>0.016475</td>\n",
       "      <td>0.008805</td>\n",
       "      <td>0.0032</td>\n",
       "      <td>0.01060</td>\n",
       "      <td>0.0148</td>\n",
       "      <td>0.0203</td>\n",
       "      <td>0.0799</td>\n",
       "    </tr>\n",
       "    <tr>\n",
       "      <th>588</th>\n",
       "      <td>1567.0</td>\n",
       "      <td>0.005283</td>\n",
       "      <td>0.002866</td>\n",
       "      <td>0.0010</td>\n",
       "      <td>0.00330</td>\n",
       "      <td>0.0046</td>\n",
       "      <td>0.0064</td>\n",
       "      <td>0.0286</td>\n",
       "    </tr>\n",
       "    <tr>\n",
       "      <th>589</th>\n",
       "      <td>1567.0</td>\n",
       "      <td>99.670066</td>\n",
       "      <td>93.861936</td>\n",
       "      <td>0.0000</td>\n",
       "      <td>44.36860</td>\n",
       "      <td>72.0230</td>\n",
       "      <td>114.7497</td>\n",
       "      <td>737.3048</td>\n",
       "    </tr>\n",
       "    <tr>\n",
       "      <th>Pass/Fail</th>\n",
       "      <td>1567.0</td>\n",
       "      <td>-0.867262</td>\n",
       "      <td>0.498010</td>\n",
       "      <td>-1.0000</td>\n",
       "      <td>-1.00000</td>\n",
       "      <td>-1.0000</td>\n",
       "      <td>-1.0000</td>\n",
       "      <td>1.0000</td>\n",
       "    </tr>\n",
       "  </tbody>\n",
       "</table>\n",
       "<p>443 rows × 8 columns</p>\n",
       "</div>"
      ],
      "text/plain": [
       "            count         mean         std        min         25%        50%  \\\n",
       "0          1567.0  3014.452896   73.480613  2743.2400  2966.66500  3011.8400   \n",
       "1          1567.0  2495.850231   80.227793  2158.7500  2452.88500  2498.9100   \n",
       "2          1567.0  2200.547318   29.380932  2060.6600  2181.09995  2200.9556   \n",
       "3          1567.0  1396.376627  439.712852     0.0000  1083.88580  1287.3538   \n",
       "4          1567.0     4.197013   56.103066     0.6815     1.01770     1.3171   \n",
       "...           ...          ...         ...        ...         ...        ...   \n",
       "586        1567.0     0.021458    0.012354    -0.0169     0.01345     0.0205   \n",
       "587        1567.0     0.016475    0.008805     0.0032     0.01060     0.0148   \n",
       "588        1567.0     0.005283    0.002866     0.0010     0.00330     0.0046   \n",
       "589        1567.0    99.670066   93.861936     0.0000    44.36860    72.0230   \n",
       "Pass/Fail  1567.0    -0.867262    0.498010    -1.0000    -1.00000    -1.0000   \n",
       "\n",
       "                 75%        max  \n",
       "0          3056.5400  3356.3500  \n",
       "1          2538.7450  2846.4400  \n",
       "2          2218.0555  2315.2667  \n",
       "3          1590.1699  3715.0417  \n",
       "4             1.5296  1114.5366  \n",
       "...              ...        ...  \n",
       "586           0.0276     0.1028  \n",
       "587           0.0203     0.0799  \n",
       "588           0.0064     0.0286  \n",
       "589         114.7497   737.3048  \n",
       "Pass/Fail    -1.0000     1.0000  \n",
       "\n",
       "[443 rows x 8 columns]"
      ]
     },
     "execution_count": 9,
     "metadata": {},
     "output_type": "execute_result"
    }
   ],
   "source": [
    "df1.describe().T"
   ]
  },
  {
   "cell_type": "code",
   "execution_count": 10,
   "id": "69101917",
   "metadata": {},
   "outputs": [
    {
     "data": {
      "text/plain": [
       "0             73.480613\n",
       "1             80.227793\n",
       "2             29.380932\n",
       "3            439.712852\n",
       "4             56.103066\n",
       "                ...    \n",
       "586            0.012354\n",
       "587            0.008805\n",
       "588            0.002866\n",
       "589           93.861936\n",
       "Pass/Fail      0.498010\n",
       "Length: 443, dtype: float64"
      ]
     },
     "execution_count": 10,
     "metadata": {},
     "output_type": "execute_result"
    }
   ],
   "source": [
    "sd = df1.std(axis=0)\n",
    "sd"
   ]
  },
  {
   "cell_type": "code",
   "execution_count": 11,
   "id": "6a035184",
   "metadata": {},
   "outputs": [
    {
     "name": "stdout",
     "output_type": "stream",
     "text": [
      "            0        1          2          3       4         6          12  \\\n",
      "0     3030.93  2564.00  2187.7333  1411.1265  1.3602   97.6133  202.439600   \n",
      "1     3095.78  2465.14  2230.4222  1463.6606  0.8294  102.3433  200.547000   \n",
      "2     2932.61  2559.94  2186.4111  1698.0172  1.5102   95.4878  202.017900   \n",
      "3     2988.72  2479.90  2199.0333   909.7926  1.3204  104.2367  201.848200   \n",
      "4     3032.24  2502.87  2233.3667  1326.5200  1.5334  100.3967  201.942400   \n",
      "...       ...      ...        ...        ...     ...       ...         ...   \n",
      "1562  2899.41  2464.36  2179.7333  3085.3781  1.4843   82.2467  203.986700   \n",
      "1563  3052.31  2522.55  2198.5667  1124.6595  0.8763   98.4689  204.017300   \n",
      "1564  2978.81  2379.78  2206.3000  1110.4967  0.8236   99.4122  199.956809   \n",
      "1565  2894.92  2532.01  2177.0333  1183.7287  1.5726   98.7978  197.244800   \n",
      "1566  2944.92  2450.76  2195.4444  2914.1792  1.5978   85.1011  199.956809   \n",
      "\n",
      "             14          15         16  ...       570     571    572     573  \\\n",
      "0      7.955800  414.871000  10.043300  ...  533.8500  2.1113   8.95  0.3157   \n",
      "1     10.154800  414.734700   9.259900  ...  535.0164  2.4335   5.92  0.2653   \n",
      "2      9.515700  416.707500   9.314400  ...  535.0245  2.0293  11.21  0.1882   \n",
      "3      9.605200  422.289400   9.692400  ...  530.5682  2.0253   9.33  0.1738   \n",
      "4     10.566100  420.592500  10.338700  ...  532.0155  2.0275   8.83  0.2224   \n",
      "...         ...         ...        ...  ...       ...     ...    ...     ...   \n",
      "1562  11.769200  419.340400  10.239700  ...  536.3418  2.0153   7.98  0.2363   \n",
      "1563   9.162000  405.817800  10.228500  ...  537.9264  2.1814   5.48  0.3891   \n",
      "1564   9.005371  413.086035   9.907603  ...  530.3709  2.3435   6.49  0.4154   \n",
      "1565   9.735400  401.915300   9.863000  ...  534.3936  1.9098   9.13  0.3669   \n",
      "1566   9.005371  413.086035   9.907603  ...  528.7918  2.0831   6.81  0.4774   \n",
      "\n",
      "         574     576      577      585         589  Pass/Fail  \n",
      "0     3.0624  1.6765  14.9509   2.3630   99.670066         -1  \n",
      "1     2.0111  1.1065  10.9003   4.4447  208.204500         -1  \n",
      "2     4.0923  2.0952   9.2721   3.1745   82.860200          1  \n",
      "3     2.8971  1.7585   8.5831   2.0544   73.843200         -1  \n",
      "4     3.1776  1.6597  10.9698  99.3032   73.843200         -1  \n",
      "...      ...     ...      ...      ...         ...        ...  \n",
      "1562  2.6401  1.4879  11.7256   2.8669  203.172000         -1  \n",
      "1563  1.9077  1.0187  17.8379   2.6238  203.172000         -1  \n",
      "1564  2.1760  1.2237  17.7267   3.0590   43.523100         -1  \n",
      "1565  3.2524  1.7085  19.2104   3.5662   93.494100         -1  \n",
      "1566  2.2727  1.2878  22.9183   3.6275  137.784400         -1  \n",
      "\n",
      "[1567 rows x 297 columns]\n"
     ]
    }
   ],
   "source": [
    "for col in df1:\n",
    "    sd = df1.std()\n",
    "    threshold = 0.1\n",
    "    df1.drop(sd[sd < threshold].index.values, axis=1, inplace = True)\n",
    "print(df1)        "
   ]
  },
  {
   "cell_type": "code",
   "execution_count": 12,
   "id": "3103d459",
   "metadata": {
    "scrolled": true
   },
   "outputs": [
    {
     "data": {
      "text/plain": [
       "0             73.480613\n",
       "1             80.227793\n",
       "2             29.380932\n",
       "3            439.712852\n",
       "4             56.103066\n",
       "                ...    \n",
       "576           16.921369\n",
       "577           12.485267\n",
       "585            3.576891\n",
       "589           93.861936\n",
       "Pass/Fail      0.498010\n",
       "Length: 297, dtype: float64"
      ]
     },
     "execution_count": 12,
     "metadata": {},
     "output_type": "execute_result"
    }
   ],
   "source": [
    "df1.std()"
   ]
  },
  {
   "cell_type": "markdown",
   "id": "8140aaea",
   "metadata": {},
   "source": [
    "#### Justifications\n",
    "<li> Removed all the columns which is having Standard Deviation 1. Because it is highly correlated columns.\n",
    "<li> Time in the DataFrame is dropped because it has no impact in the DataSet."
   ]
  },
  {
   "cell_type": "markdown",
   "id": "6b30351c",
   "metadata": {},
   "source": [
    "#### Q2 D -Check for multi-collinearity in the data and take necessary action."
   ]
  },
  {
   "cell_type": "code",
   "execution_count": 13,
   "id": "c124ea89",
   "metadata": {
    "scrolled": true
   },
   "outputs": [
    {
     "name": "stdout",
     "output_type": "stream",
     "text": [
      "            0        1          2          3       4         6          12  \\\n",
      "0     3030.93  2564.00  2187.7333  1411.1265  1.3602   97.6133  202.439600   \n",
      "1     3095.78  2465.14  2230.4222  1463.6606  0.8294  102.3433  200.547000   \n",
      "2     2932.61  2559.94  2186.4111  1698.0172  1.5102   95.4878  202.017900   \n",
      "3     2988.72  2479.90  2199.0333   909.7926  1.3204  104.2367  201.848200   \n",
      "4     3032.24  2502.87  2233.3667  1326.5200  1.5334  100.3967  201.942400   \n",
      "...       ...      ...        ...        ...     ...       ...         ...   \n",
      "1562  2899.41  2464.36  2179.7333  3085.3781  1.4843   82.2467  203.986700   \n",
      "1563  3052.31  2522.55  2198.5667  1124.6595  0.8763   98.4689  204.017300   \n",
      "1564  2978.81  2379.78  2206.3000  1110.4967  0.8236   99.4122  199.956809   \n",
      "1565  2894.92  2532.01  2177.0333  1183.7287  1.5726   98.7978  197.244800   \n",
      "1566  2944.92  2450.76  2195.4444  2914.1792  1.5978   85.1011  199.956809   \n",
      "\n",
      "             14          15         16  ...        569       570     571  \\\n",
      "0      7.955800  414.871000  10.043300  ...  21.117674  533.8500  2.1113   \n",
      "1     10.154800  414.734700   9.259900  ...  21.117674  535.0164  2.4335   \n",
      "2      9.515700  416.707500   9.314400  ...  68.848900  535.0245  2.0293   \n",
      "3      9.605200  422.289400   9.692400  ...  25.036300  530.5682  2.0253   \n",
      "4     10.566100  420.592500  10.338700  ...  21.117674  532.0155  2.0275   \n",
      "...         ...         ...        ...  ...        ...       ...     ...   \n",
      "1562  11.769200  419.340400  10.239700  ...  15.466200  536.3418  2.0153   \n",
      "1563   9.162000  405.817800  10.228500  ...  20.911800  537.9264  2.1814   \n",
      "1564   9.005371  413.086035   9.907603  ...  29.095400  530.3709  2.3435   \n",
      "1565   9.735400  401.915300   9.863000  ...  15.466200  534.3936  1.9098   \n",
      "1566   9.005371  413.086035   9.907603  ...  21.112800  528.7918  2.0831   \n",
      "\n",
      "        572     573     574     576      577      585         589  \n",
      "0      8.95  0.3157  3.0624  1.6765  14.9509   2.3630   99.670066  \n",
      "1      5.92  0.2653  2.0111  1.1065  10.9003   4.4447  208.204500  \n",
      "2     11.21  0.1882  4.0923  2.0952   9.2721   3.1745   82.860200  \n",
      "3      9.33  0.1738  2.8971  1.7585   8.5831   2.0544   73.843200  \n",
      "4      8.83  0.2224  3.1776  1.6597  10.9698  99.3032   73.843200  \n",
      "...     ...     ...     ...     ...      ...      ...         ...  \n",
      "1562   7.98  0.2363  2.6401  1.4879  11.7256   2.8669  203.172000  \n",
      "1563   5.48  0.3891  1.9077  1.0187  17.8379   2.6238  203.172000  \n",
      "1564   6.49  0.4154  2.1760  1.2237  17.7267   3.0590   43.523100  \n",
      "1565   9.13  0.3669  3.2524  1.7085  19.2104   3.5662   93.494100  \n",
      "1566   6.81  0.4774  2.2727  1.2878  22.9183   3.6275  137.784400  \n",
      "\n",
      "[1567 rows x 296 columns]\n",
      "0      -1\n",
      "1      -1\n",
      "2       1\n",
      "3      -1\n",
      "4      -1\n",
      "       ..\n",
      "1562   -1\n",
      "1563   -1\n",
      "1564   -1\n",
      "1565   -1\n",
      "1566   -1\n",
      "Name: Pass/Fail, Length: 1567, dtype: int64\n"
     ]
    }
   ],
   "source": [
    "X_multi = df1.drop('Pass/Fail',axis=1)     \n",
    "y_multi = df1['Pass/Fail']     \n",
    "print(X_multi)\n",
    "print(y_multi)"
   ]
  },
  {
   "cell_type": "code",
   "execution_count": 14,
   "id": "af547378",
   "metadata": {
    "scrolled": false
   },
   "outputs": [],
   "source": [
    "from statsmodels.stats.outliers_influence import variance_inflation_factor    \n",
    "\n",
    "def calculate_vif_(X_multi, thresh=10.0):\n",
    "    variables = list(range(X_multi.shape[1]))\n",
    "    dropped = True\n",
    "    while dropped:\n",
    "        dropped = False\n",
    "        vif = [variance_inflation_factor(X_multi.iloc[:, variables].values, ix)\n",
    "               for ix in range(X_multi.iloc[:, variables].shape[1])]\n",
    "\n",
    "        maxloc = vif.index(max(vif))\n",
    "        if max(vif) > thresh:\n",
    "            print('dropping \\'' + X_multi.iloc[:, variables].columns[maxloc] +\n",
    "                  '\\' at index: ' + str(maxloc))\n",
    "            del variables[maxloc]\n",
    "            dropped = True\n",
    "\n",
    "    print('Remaining variables:')\n",
    "    print(X_multi.columns[variables])\n",
    "    df2 = pd.DataFrame(X_multi.iloc[:, variables])\n",
    "    return X_multi.iloc[:, variables], df2"
   ]
  },
  {
   "cell_type": "code",
   "execution_count": 15,
   "id": "64fa1712",
   "metadata": {},
   "outputs": [
    {
     "name": "stdout",
     "output_type": "stream",
     "text": [
      "dropping '74' at index: 53\n",
      "dropping '209' at index: 118\n",
      "dropping '347' at index: 166\n",
      "dropping '70' at index: 51\n",
      "dropping '50' at index: 38\n",
      "dropping '275' at index: 129\n",
      "dropping '12' at index: 6\n",
      "dropping '46' at index: 34\n",
      "dropping '37' at index: 26\n",
      "dropping '204' at index: 109\n",
      "dropping '66' at index: 44\n",
      "dropping '148' at index: 72\n",
      "dropping '43' at index: 30\n",
      "dropping '34' at index: 23\n",
      "dropping '187' at index: 94\n",
      "dropping '152' at index: 72\n",
      "dropping '268' at index: 112\n",
      "dropping '469' at index: 207\n",
      "dropping '60' at index: 36\n",
      "dropping '124' at index: 54\n",
      "dropping '45' at index: 30\n",
      "dropping '183' at index: 87\n",
      "dropping '207' at index: 100\n",
      "dropping '252' at index: 105\n",
      "dropping '175' at index: 82\n",
      "dropping '427' at index: 169\n",
      "dropping '138' at index: 63\n",
      "dropping '123' at index: 52\n",
      "dropping '475' at index: 202\n",
      "dropping '38' at index: 25\n",
      "dropping '36' at index: 24\n",
      "dropping '32' at index: 21\n",
      "dropping '44' at index: 26\n",
      "dropping '283' at index: 106\n",
      "dropping '61' at index: 31\n",
      "dropping '547' at index: 233\n",
      "dropping '55' at index: 29\n",
      "dropping '4' at index: 4\n",
      "dropping '19' at index: 9\n",
      "dropping '133' at index: 49\n",
      "dropping '527' at index: 223\n",
      "dropping '68' at index: 33\n",
      "dropping '39' at index: 21\n",
      "dropping '0' at index: 0\n",
      "dropping '177' at index: 68\n",
      "dropping '562' at index: 236\n",
      "dropping '181' at index: 69\n",
      "dropping '180' at index: 68\n",
      "dropping '434' at index: 157\n",
      "dropping '2' at index: 1\n",
      "dropping '550' at index: 222\n",
      "dropping '1' at index: 0\n",
      "dropping '441' at index: 161\n",
      "dropping '551' at index: 220\n",
      "dropping '18' at index: 5\n",
      "dropping '470' at index: 176\n",
      "dropping '570' at index: 231\n",
      "dropping '48' at index: 20\n",
      "dropping '90' at index: 30\n",
      "dropping '199' at index: 71\n",
      "dropping '26' at index: 10\n",
      "dropping '182' at index: 62\n",
      "dropping '135' at index: 41\n",
      "dropping '88' at index: 28\n",
      "dropping '28' at index: 11\n",
      "dropping '445' at index: 155\n",
      "dropping '336' at index: 108\n",
      "dropping '117' at index: 30\n",
      "dropping '120' at index: 30\n",
      "dropping '269' at index: 75\n",
      "dropping '15' at index: 3\n",
      "dropping '25' at index: 8\n",
      "dropping '440' at index: 145\n",
      "dropping '136' at index: 35\n",
      "dropping '185' at index: 55\n",
      "dropping '564' at index: 209\n",
      "dropping '339' at index: 103\n",
      "dropping '477' at index: 162\n",
      "dropping '421' at index: 126\n",
      "dropping '160' at index: 44\n",
      "dropping '195' at index: 55\n",
      "dropping '6' at index: 1\n",
      "dropping '250' at index: 66\n",
      "dropping '299' at index: 82\n",
      "dropping '218' at index: 63\n",
      "dropping '223' at index: 63\n",
      "dropping '332' at index: 90\n",
      "dropping '548' at index: 187\n",
      "dropping '137' at index: 34\n",
      "dropping '225' at index: 62\n",
      "dropping '166' at index: 47\n",
      "dropping '319' at index: 83\n",
      "dropping '62' at index: 17\n",
      "dropping '21' at index: 3\n",
      "dropping '35' at index: 10\n",
      "dropping '142' at index: 33\n",
      "dropping '65' at index: 17\n",
      "dropping '122' at index: 23\n",
      "dropping '448' at index: 127\n",
      "dropping '16' at index: 2\n",
      "dropping '338' at index: 83\n",
      "dropping '286' at index: 62\n",
      "dropping '435' at index: 115\n",
      "dropping '159' at index: 34\n",
      "dropping '556' at index: 176\n",
      "dropping '343' at index: 83\n",
      "dropping '341' at index: 82\n",
      "dropping '22' at index: 2\n",
      "dropping '83' at index: 17\n",
      "dropping '333' at index: 75\n",
      "dropping '201' at index: 46\n",
      "dropping '456' at index: 120\n",
      "dropping '289' at index: 59\n",
      "dropping '115' at index: 19\n",
      "dropping '323' at index: 70\n",
      "dropping '430' at index: 101\n",
      "dropping '134' at index: 24\n",
      "dropping '273' at index: 52\n",
      "dropping '557' at index: 163\n",
      "dropping '318' at index: 66\n",
      "dropping '552' at index: 158\n",
      "dropping '128' at index: 22\n",
      "dropping '139' at index: 23\n",
      "dropping '566' at index: 162\n",
      "dropping '431' at index: 96\n",
      "dropping '300' at index: 59\n",
      "dropping '497' at index: 136\n",
      "dropping '161' at index: 28\n",
      "dropping '208' at index: 44\n",
      "dropping '524' at index: 142\n",
      "dropping '572' at index: 159\n",
      "dropping '316' at index: 60\n",
      "dropping '334' at index: 62\n",
      "dropping '47' at index: 10\n",
      "dropping '203' at index: 41\n",
      "dropping '27' at index: 4\n",
      "dropping '321' at index: 57\n",
      "dropping '428' at index: 85\n",
      "dropping '335' at index: 58\n",
      "dropping '271' at index: 43\n",
      "dropping '361' at index: 61\n",
      "dropping '150' at index: 22\n",
      "dropping '571' at index: 147\n",
      "dropping '126' at index: 18\n",
      "dropping '540' at index: 133\n",
      "dropping '270' at index: 40\n",
      "dropping '272' at index: 40\n",
      "dropping '302' at index: 50\n",
      "dropping '188' at index: 32\n",
      "dropping '561' at index: 137\n",
      "dropping '277' at index: 40\n",
      "dropping '31' at index: 5\n",
      "dropping '301' at index: 46\n",
      "dropping '479' at index: 99\n",
      "dropping '356' at index: 51\n",
      "dropping '388' at index: 52\n",
      "dropping '407' at index: 54\n",
      "dropping '14' at index: 1\n",
      "dropping '576' at index: 134\n",
      "dropping '297' at index: 44\n",
      "dropping '64' at index: 10\n",
      "dropping '446' at index: 77\n",
      "dropping '29' at index: 3\n",
      "dropping '51' at index: 6\n",
      "dropping '577' at index: 129\n",
      "dropping '287' at index: 36\n",
      "dropping '67' at index: 8\n",
      "dropping '444' at index: 72\n",
      "dropping '480' at index: 87\n",
      "dropping '452' at index: 72\n",
      "dropping '197' at index: 27\n",
      "dropping '33' at index: 3\n",
      "dropping '127' at index: 11\n",
      "dropping '563' at index: 116\n",
      "dropping '455' at index: 71\n",
      "dropping '472' at index: 77\n",
      "dropping '3' at index: 0\n",
      "dropping '545' at index: 106\n",
      "dropping '202' at index: 26\n",
      "dropping '553' at index: 107\n",
      "dropping '164' at index: 17\n",
      "dropping '555' at index: 107\n",
      "dropping '411' at index: 44\n",
      "dropping '424' at index: 53\n",
      "dropping '473' at index: 72\n",
      "dropping '125' at index: 9\n",
      "dropping '170' at index: 19\n",
      "dropping '196' at index: 20\n",
      "dropping '546' at index: 98\n",
      "dropping '443' at index: 60\n",
      "dropping '459' at index: 63\n",
      "dropping '420' at index: 48\n",
      "dropping '71' at index: 6\n",
      "dropping '255' at index: 22\n",
      "dropping '454' at index: 58\n",
      "dropping '163' at index: 14\n",
      "dropping '274' at index: 21\n",
      "dropping '409' at index: 35\n",
      "dropping '363' at index: 31\n",
      "dropping '155' at index: 12\n",
      "dropping '200' at index: 18\n",
      "dropping '167' at index: 14\n",
      "dropping '154' at index: 11\n",
      "dropping '541' at index: 83\n",
      "dropping '413' at index: 32\n",
      "dropping '416' at index: 33\n",
      "dropping '63' at index: 5\n",
      "dropping '423' at index: 35\n",
      "dropping '453' at index: 45\n",
      "dropping '337' at index: 23\n",
      "dropping '539' at index: 76\n",
      "Remaining variables:\n",
      "Index(['23', '24', '40', '41', '59', '96', '98', '129', '140', '151', '162',\n",
      "       '165', '169', '184', '198', '205', '285', '290', '294', '295', '296',\n",
      "       '312', '324', '340', '344', '390', '406', '408', '410', '412', '415',\n",
      "       '417', '418', '419', '425', '426', '429', '432', '433', '436', '437',\n",
      "       '438', '439', '442', '457', '460', '467', '468', '471', '474', '476',\n",
      "       '478', '482', '483', '484', '485', '486', '487', '488', '489', '490',\n",
      "       '491', '493', '494', '495', '496', '499', '500', '510', '511', '520',\n",
      "       '521', '522', '523', '525', '526', '549', '554', '559', '568', '569',\n",
      "       '573', '574', '585', '589'],\n",
      "      dtype='object')\n"
     ]
    }
   ],
   "source": [
    "X_multi2, df3 = calculate_vif_(X_multi, thresh=10.0)"
   ]
  },
  {
   "cell_type": "code",
   "execution_count": 16,
   "id": "dbdc5339",
   "metadata": {
    "scrolled": true
   },
   "outputs": [
    {
     "data": {
      "text/plain": [
       "(1567, 85)"
      ]
     },
     "execution_count": 16,
     "metadata": {},
     "output_type": "execute_result"
    }
   ],
   "source": [
    "X_multi2.shape"
   ]
  },
  {
   "cell_type": "code",
   "execution_count": 17,
   "id": "db94286a",
   "metadata": {},
   "outputs": [
    {
     "data": {
      "text/plain": [
       "(1567, 85)"
      ]
     },
     "execution_count": 17,
     "metadata": {},
     "output_type": "execute_result"
    }
   ],
   "source": [
    "df3.shape"
   ]
  },
  {
   "cell_type": "code",
   "execution_count": 18,
   "id": "d907361c",
   "metadata": {},
   "outputs": [],
   "source": [
    "df3['Pass/Fail'] = y_multi"
   ]
  },
  {
   "cell_type": "code",
   "execution_count": 19,
   "id": "804641d4",
   "metadata": {},
   "outputs": [
    {
     "data": {
      "text/plain": [
       "(1567, 86)"
      ]
     },
     "execution_count": 19,
     "metadata": {},
     "output_type": "execute_result"
    }
   ],
   "source": [
    "df3.shape"
   ]
  },
  {
   "cell_type": "code",
   "execution_count": 20,
   "id": "8f954c84",
   "metadata": {},
   "outputs": [
    {
     "data": {
      "text/html": [
       "<div>\n",
       "<style scoped>\n",
       "    .dataframe tbody tr th:only-of-type {\n",
       "        vertical-align: middle;\n",
       "    }\n",
       "\n",
       "    .dataframe tbody tr th {\n",
       "        vertical-align: top;\n",
       "    }\n",
       "\n",
       "    .dataframe thead th {\n",
       "        text-align: right;\n",
       "    }\n",
       "</style>\n",
       "<table border=\"1\" class=\"dataframe\">\n",
       "  <thead>\n",
       "    <tr style=\"text-align: right;\">\n",
       "      <th></th>\n",
       "      <th>23</th>\n",
       "      <th>24</th>\n",
       "      <th>40</th>\n",
       "      <th>41</th>\n",
       "      <th>59</th>\n",
       "      <th>96</th>\n",
       "      <th>98</th>\n",
       "      <th>129</th>\n",
       "      <th>140</th>\n",
       "      <th>151</th>\n",
       "      <th>...</th>\n",
       "      <th>549</th>\n",
       "      <th>554</th>\n",
       "      <th>559</th>\n",
       "      <th>568</th>\n",
       "      <th>569</th>\n",
       "      <th>573</th>\n",
       "      <th>574</th>\n",
       "      <th>585</th>\n",
       "      <th>589</th>\n",
       "      <th>Pass/Fail</th>\n",
       "    </tr>\n",
       "  </thead>\n",
       "  <tbody>\n",
       "    <tr>\n",
       "      <th>0</th>\n",
       "      <td>-4043.75</td>\n",
       "      <td>751.00</td>\n",
       "      <td>61.29</td>\n",
       "      <td>4.515</td>\n",
       "      <td>-1.7264</td>\n",
       "      <td>-0.2786</td>\n",
       "      <td>0.3974</td>\n",
       "      <td>-0.0473</td>\n",
       "      <td>0.3948</td>\n",
       "      <td>10.284</td>\n",
       "      <td>...</td>\n",
       "      <td>0.4234</td>\n",
       "      <td>0.3363</td>\n",
       "      <td>0.4385</td>\n",
       "      <td>2.452417</td>\n",
       "      <td>21.117674</td>\n",
       "      <td>0.3157</td>\n",
       "      <td>3.0624</td>\n",
       "      <td>2.3630</td>\n",
       "      <td>99.670066</td>\n",
       "      <td>-1</td>\n",
       "    </tr>\n",
       "    <tr>\n",
       "      <th>1</th>\n",
       "      <td>-3498.75</td>\n",
       "      <td>-1640.25</td>\n",
       "      <td>78.25</td>\n",
       "      <td>2.773</td>\n",
       "      <td>0.8073</td>\n",
       "      <td>0.5854</td>\n",
       "      <td>-0.9353</td>\n",
       "      <td>-0.0946</td>\n",
       "      <td>0.2301</td>\n",
       "      <td>13.077</td>\n",
       "      <td>...</td>\n",
       "      <td>0.7193</td>\n",
       "      <td>0.4989</td>\n",
       "      <td>0.1745</td>\n",
       "      <td>2.452417</td>\n",
       "      <td>21.117674</td>\n",
       "      <td>0.2653</td>\n",
       "      <td>2.0111</td>\n",
       "      <td>4.4447</td>\n",
       "      <td>208.204500</td>\n",
       "      <td>-1</td>\n",
       "    </tr>\n",
       "    <tr>\n",
       "      <th>2</th>\n",
       "      <td>-4047.00</td>\n",
       "      <td>-1916.50</td>\n",
       "      <td>14.37</td>\n",
       "      <td>5.434</td>\n",
       "      <td>23.8245</td>\n",
       "      <td>-0.1343</td>\n",
       "      <td>-0.1427</td>\n",
       "      <td>-0.1892</td>\n",
       "      <td>0.3263</td>\n",
       "      <td>8.443</td>\n",
       "      <td>...</td>\n",
       "      <td>0.1832</td>\n",
       "      <td>0.3752</td>\n",
       "      <td>0.3718</td>\n",
       "      <td>0.411900</td>\n",
       "      <td>68.848900</td>\n",
       "      <td>0.1882</td>\n",
       "      <td>4.0923</td>\n",
       "      <td>3.1745</td>\n",
       "      <td>82.860200</td>\n",
       "      <td>1</td>\n",
       "    </tr>\n",
       "    <tr>\n",
       "      <th>3</th>\n",
       "      <td>-4515.00</td>\n",
       "      <td>-1657.25</td>\n",
       "      <td>76.90</td>\n",
       "      <td>1.279</td>\n",
       "      <td>24.3791</td>\n",
       "      <td>0.0411</td>\n",
       "      <td>0.0177</td>\n",
       "      <td>0.2838</td>\n",
       "      <td>0.1915</td>\n",
       "      <td>15.241</td>\n",
       "      <td>...</td>\n",
       "      <td>1.8804</td>\n",
       "      <td>17.4781</td>\n",
       "      <td>0.7288</td>\n",
       "      <td>2.729000</td>\n",
       "      <td>25.036300</td>\n",
       "      <td>0.1738</td>\n",
       "      <td>2.8971</td>\n",
       "      <td>2.0544</td>\n",
       "      <td>73.843200</td>\n",
       "      <td>-1</td>\n",
       "    </tr>\n",
       "    <tr>\n",
       "      <th>4</th>\n",
       "      <td>-3987.50</td>\n",
       "      <td>117.00</td>\n",
       "      <td>76.39</td>\n",
       "      <td>2.209</td>\n",
       "      <td>-12.2945</td>\n",
       "      <td>0.2189</td>\n",
       "      <td>-0.6704</td>\n",
       "      <td>-0.5677</td>\n",
       "      <td>0.3744</td>\n",
       "      <td>12.506</td>\n",
       "      <td>...</td>\n",
       "      <td>1.0388</td>\n",
       "      <td>0.8311</td>\n",
       "      <td>0.2156</td>\n",
       "      <td>2.452417</td>\n",
       "      <td>21.117674</td>\n",
       "      <td>0.2224</td>\n",
       "      <td>3.1776</td>\n",
       "      <td>99.3032</td>\n",
       "      <td>73.843200</td>\n",
       "      <td>-1</td>\n",
       "    </tr>\n",
       "  </tbody>\n",
       "</table>\n",
       "<p>5 rows × 86 columns</p>\n",
       "</div>"
      ],
      "text/plain": [
       "        23       24     40     41       59      96      98     129     140  \\\n",
       "0 -4043.75   751.00  61.29  4.515  -1.7264 -0.2786  0.3974 -0.0473  0.3948   \n",
       "1 -3498.75 -1640.25  78.25  2.773   0.8073  0.5854 -0.9353 -0.0946  0.2301   \n",
       "2 -4047.00 -1916.50  14.37  5.434  23.8245 -0.1343 -0.1427 -0.1892  0.3263   \n",
       "3 -4515.00 -1657.25  76.90  1.279  24.3791  0.0411  0.0177  0.2838  0.1915   \n",
       "4 -3987.50   117.00  76.39  2.209 -12.2945  0.2189 -0.6704 -0.5677  0.3744   \n",
       "\n",
       "      151  ...     549      554     559       568        569     573     574  \\\n",
       "0  10.284  ...  0.4234   0.3363  0.4385  2.452417  21.117674  0.3157  3.0624   \n",
       "1  13.077  ...  0.7193   0.4989  0.1745  2.452417  21.117674  0.2653  2.0111   \n",
       "2   8.443  ...  0.1832   0.3752  0.3718  0.411900  68.848900  0.1882  4.0923   \n",
       "3  15.241  ...  1.8804  17.4781  0.7288  2.729000  25.036300  0.1738  2.8971   \n",
       "4  12.506  ...  1.0388   0.8311  0.2156  2.452417  21.117674  0.2224  3.1776   \n",
       "\n",
       "       585         589  Pass/Fail  \n",
       "0   2.3630   99.670066         -1  \n",
       "1   4.4447  208.204500         -1  \n",
       "2   3.1745   82.860200          1  \n",
       "3   2.0544   73.843200         -1  \n",
       "4  99.3032   73.843200         -1  \n",
       "\n",
       "[5 rows x 86 columns]"
      ]
     },
     "execution_count": 20,
     "metadata": {},
     "output_type": "execute_result"
    }
   ],
   "source": [
    "df3.head(5)"
   ]
  },
  {
   "cell_type": "markdown",
   "id": "d4fc5316",
   "metadata": {},
   "source": [
    "#### Q2 E -Make all relevant modifications on the data using both functional/logical reasoning/assumptions.\n",
    "<li> We could not identify the behaviour of the DataSet, if it has more Null values. So, it is necessary to remove 20%+ of Null value feature and remaining Null value are replaced with mean.\n",
    "<li> It is necessary to remove the features which are having the same value on all the rows to avoid overfitting of the model.\n",
    "<li> Removed all the columns which is having Standard Deviation 1. Because it is highly correlated columns.\n",
    "<li> Time in the DataFrame is dropped because it has no impact in the DataSet.\n",
    "<li> To identify and drop the multi colinearity features, I used VIF algorithm. "
   ]
  },
  {
   "cell_type": "markdown",
   "id": "d3441664",
   "metadata": {},
   "source": [
    "#### Q3 A -Perform a detailed univariate Analysis with appropriate detailed comments after each analysis"
   ]
  },
  {
   "cell_type": "code",
   "execution_count": 21,
   "id": "4690fe08",
   "metadata": {
    "scrolled": true
   },
   "outputs": [
    {
     "data": {
      "image/png": "[encoded data removed]",
      "text/plain": [
       "<Figure size 432x288 with 1 Axes>"
      ]
     },
     "metadata": {
      "needs_background": "light"
     },
     "output_type": "display_data"
    }
   ],
   "source": [
    "df3['24'].plot.density(color='green')\n",
    "plt.title('Density plot for feature number 96 ')\n",
    "plt.show()"
   ]
  },
  {
   "cell_type": "markdown",
   "id": "0d895af0",
   "metadata": {},
   "source": [
    "#### Comments\n",
    "<li> For feature 96, the values are spreaded between -10000 to 10000."
   ]
  },
  {
   "cell_type": "code",
   "execution_count": 22,
   "id": "92b1f889",
   "metadata": {},
   "outputs": [
    {
     "data": {
      "image/png": "[encoded data removed]",
      "text/plain": [
       "<Figure size 432x288 with 1 Axes>"
      ]
     },
     "metadata": {
      "needs_background": "light"
     },
     "output_type": "display_data"
    }
   ],
   "source": [
    "df3['98'].plot.density(color='green')\n",
    "plt.title('Density plot for feature number 98')\n",
    "plt.show()"
   ]
  },
  {
   "cell_type": "markdown",
   "id": "b965a6eb",
   "metadata": {},
   "source": [
    "#### Comments\n",
    "<li> Feature 98, the high data density distribution is between -1 to 1"
   ]
  },
  {
   "cell_type": "code",
   "execution_count": 23,
   "id": "fcef3db4",
   "metadata": {
    "scrolled": true
   },
   "outputs": [
    {
     "data": {
      "image/png": "[encoded data removed]",
      "text/plain": [
       "<Figure size 432x288 with 1 Axes>"
      ]
     },
     "metadata": {
      "needs_background": "light"
     },
     "output_type": "display_data"
    }
   ],
   "source": [
    "df3['569'].plot.density(color='green')\n",
    "plt.title('Density plot for feature number 569')\n",
    "plt.show()"
   ]
  },
  {
   "cell_type": "markdown",
   "id": "81dca1d9",
   "metadata": {},
   "source": [
    "#### Comments\n",
    "<li> The 569 th feature, the high data distribution is from 0 to 40\n",
    "<li> Since all the features are represented in different scale. Therefore we need to do standardization.    "
   ]
  },
  {
   "cell_type": "code",
   "execution_count": 24,
   "id": "5c1bf053",
   "metadata": {
    "scrolled": false
   },
   "outputs": [
    {
     "data": {
      "image/png": "[encoded data removed]",
      "text/plain": [
       "<Figure size 648x360 with 1 Axes>"
      ]
     },
     "metadata": {
      "needs_background": "light"
     },
     "output_type": "display_data"
    }
   ],
   "source": [
    "plt.figure(figsize=(9,5))\n",
    "sns.boxplot(df3['24'])\n",
    "plt.xticks(rotation=90)\n",
    "plt.title('Feature:40')\n",
    "plt.show()"
   ]
  },
  {
   "cell_type": "markdown",
   "id": "31d5f7ae",
   "metadata": {},
   "source": [
    "#### Comments\n",
    "<li> From the above box plot(Feature 40), we could see so many outliers. Therefore EDA we need to use for handiling the outliers."
   ]
  },
  {
   "cell_type": "code",
   "execution_count": 25,
   "id": "8eda460a",
   "metadata": {
    "scrolled": true
   },
   "outputs": [
    {
     "data": {
      "image/png": "[encoded data removed]",
      "text/plain": [
       "<Figure size 648x360 with 1 Axes>"
      ]
     },
     "metadata": {
      "needs_background": "light"
     },
     "output_type": "display_data"
    }
   ],
   "source": [
    "plt.figure(figsize=(9,5))\n",
    "sns.boxplot(df3['98'])\n",
    "plt.xticks(rotation=90)\n",
    "plt.title('Feature: 98')\n",
    "plt.show()"
   ]
  },
  {
   "cell_type": "markdown",
   "id": "3ee9a1f4",
   "metadata": {},
   "source": [
    "#### Comments\n",
    "<li> Feature 98 also having many outliers as shown in the above boxplot."
   ]
  },
  {
   "cell_type": "code",
   "execution_count": 26,
   "id": "c73568d6",
   "metadata": {
    "scrolled": true
   },
   "outputs": [
    {
     "data": {
      "image/png": "[encoded data removed]",
      "text/plain": [
       "<Figure size 648x360 with 1 Axes>"
      ]
     },
     "metadata": {
      "needs_background": "light"
     },
     "output_type": "display_data"
    }
   ],
   "source": [
    "plt.figure(figsize=(9,5))\n",
    "sns.boxplot(df3['569'])\n",
    "plt.xticks(rotation=90)\n",
    "plt.title('Feature:569')\n",
    "plt.show()"
   ]
  },
  {
   "cell_type": "markdown",
   "id": "1b1762e8",
   "metadata": {},
   "source": [
    "#### Comments\n",
    "<li> Feature 569 is right skewed as shown in the above figure."
   ]
  },
  {
   "cell_type": "code",
   "execution_count": 27,
   "id": "01d9b16c",
   "metadata": {},
   "outputs": [
    {
     "data": {
      "image/png": "[encoded data removed]",
      "text/plain": [
       "<Figure size 1440x1800 with 86 Axes>"
      ]
     },
     "metadata": {
      "needs_background": "light"
     },
     "output_type": "display_data"
    }
   ],
   "source": [
    "plt.figure(figsize=(20,25))\n",
    "col = 1\n",
    "for i in df3.columns:\n",
    "    plt.subplot(11, 8, col)\n",
    "    plt.title('Feature:' +i)\n",
    "    plt.subplots_adjust(hspace=0.8)\n",
    "    sns.distplot(df3[i], color = 'r', rug = True)\n",
    "    col += 1 "
   ]
  },
  {
   "cell_type": "markdown",
   "id": "3e3e6d10",
   "metadata": {},
   "source": [
    "#### Comments\n",
    "<li> Density distribution of each feature is different. Hence we need to do standardization of the data to create a model."
   ]
  },
  {
   "cell_type": "markdown",
   "id": "6d7f2f44",
   "metadata": {},
   "source": [
    "#### Q3 B -Perform bivariate and multivariate analysis with appropriate detailed comments after each analysis."
   ]
  },
  {
   "cell_type": "code",
   "execution_count": 28,
   "id": "aab056e3",
   "metadata": {
    "scrolled": true
   },
   "outputs": [
    {
     "data": {
      "image/png": "[encoded data removed]",
      "text/plain": [
       "<Figure size 432x288 with 1 Axes>"
      ]
     },
     "metadata": {
      "needs_background": "light"
     },
     "output_type": "display_data"
    }
   ],
   "source": [
    "sns.boxplot(x='Pass/Fail',y='24',data=df3)\n",
    "sns.countplot(x='Pass/Fail',data=df3)\n",
    "plt.show()"
   ]
  },
  {
   "cell_type": "markdown",
   "id": "6cc30332",
   "metadata": {},
   "source": [
    "#### Comments\n",
    "<li> From the above plot, we can understand that the output feature(Pass/Fail) is imbalanced. Therefore we need to use the balancing technique."
   ]
  },
  {
   "cell_type": "code",
   "execution_count": 29,
   "id": "051b5687",
   "metadata": {
    "scrolled": true
   },
   "outputs": [
    {
     "data": {
      "image/png": "[encoded data removed]",
      "text/plain": [
       "<Figure size 432x432 with 3 Axes>"
      ]
     },
     "metadata": {
      "needs_background": "light"
     },
     "output_type": "display_data"
    }
   ],
   "source": [
    "sns.jointplot(data = df3, x='24', y='98', hue='Pass/Fail', \n",
    "              kind='scatter', height=6, ratio=5, space=0.2, palette='tab10_r')\n",
    "plt.show()"
   ]
  },
  {
   "cell_type": "markdown",
   "id": "a3a5aff8",
   "metadata": {},
   "source": [
    "#### Comments\n",
    "<li> From the above joint plot, the Features 24 and 96 is used to find out the pass fail distribution. From the plot, the pass distribution is highwer than the failure."
   ]
  },
  {
   "cell_type": "code",
   "execution_count": 30,
   "id": "8898bedf",
   "metadata": {
    "scrolled": true
   },
   "outputs": [
    {
     "data": {
      "image/png": "[encoded data removed]",
      "text/plain": [
       "<Figure size 432x432 with 3 Axes>"
      ]
     },
     "metadata": {
      "needs_background": "light"
     },
     "output_type": "display_data"
    }
   ],
   "source": [
    "sns. jointplot(x=\"24\", y=\"569\", hue=\"Pass/Fail\", data=df3, palette='tab10_r');\n",
    "plt.show()"
   ]
  },
  {
   "cell_type": "markdown",
   "id": "3bb54430",
   "metadata": {},
   "source": [
    "#### Comments\n",
    "<li> As per the previous plot, the above plot(plotted between 24 and 96) also showing more pass counts. "
   ]
  },
  {
   "cell_type": "markdown",
   "id": "d3f444e5",
   "metadata": {},
   "source": [
    "#### Q4 A -Segregate predictors vs target attributes"
   ]
  },
  {
   "cell_type": "code",
   "execution_count": 31,
   "id": "ae947d4f",
   "metadata": {},
   "outputs": [
    {
     "name": "stdout",
     "output_type": "stream",
     "text": [
      "           23       24     40     41       59      96      98       129  \\\n",
      "0    -4043.75   751.00  61.29  4.515  -1.7264 -0.2786  0.3974 -0.047300   \n",
      "1    -3498.75 -1640.25  78.25  2.773   0.8073  0.5854 -0.9353 -0.094600   \n",
      "2    -4047.00 -1916.50  14.37  5.434  23.8245 -0.1343 -0.1427 -0.189200   \n",
      "3    -4515.00 -1657.25  76.90  1.279  24.3791  0.0411  0.0177  0.283800   \n",
      "4    -3987.50   117.00  76.39  2.209 -12.2945  0.2189 -0.6704 -0.567700   \n",
      "...       ...      ...    ...    ...      ...     ...     ...       ...   \n",
      "1562 -6228.25   356.00  81.21  1.427   2.8182 -0.0382  0.0730  0.000000   \n",
      "1563 -3675.50   339.00  79.43  2.945  -3.3555 -0.0821  0.4289 -0.141900   \n",
      "1564 -4102.00 -1226.00  82.03  2.863   1.1664  0.2516 -0.4311 -0.554228   \n",
      "1565 -4001.50   394.75  81.13  2.067   4.4682 -0.0926 -0.1023 -0.993400   \n",
      "1566 -3951.75  -425.00  80.45  2.741   1.8718 -0.0728  0.0291 -0.554228   \n",
      "\n",
      "         140        151  ...     526     549      554     559       568  \\\n",
      "0     0.3948  10.284000  ...  0.5064  0.4234   0.3363  0.4385  2.452417   \n",
      "1     0.2301  13.077000  ...  0.8832  0.7193   0.4989  0.1745  2.452417   \n",
      "2     0.3263   8.443000  ...  0.6451  0.1832   0.3752  0.3718  0.411900   \n",
      "3     0.1915  15.241000  ...  0.7404  1.8804  17.4781  0.7288  2.729000   \n",
      "4     0.3744  12.506000  ...  2.2181  1.0388   0.8311  0.2156  2.452417   \n",
      "...      ...        ...  ...     ...     ...      ...     ...       ...   \n",
      "1562  0.3124   6.819000  ...  1.2587  1.1040   0.3141  0.3553  1.884400   \n",
      "1563  0.1119   6.953000  ...  0.4512  0.2235   0.5058  0.3105  1.708900   \n",
      "1564  0.1071  14.047403  ...  0.4867  0.6671   0.5605  0.1266  4.319700   \n",
      "1565  0.1737  26.128000  ...  0.3866  0.2235   0.5058  0.1920  1.884400   \n",
      "1566  0.1857  14.047403  ...  1.5629  0.2235   0.5058  0.2327  3.263900   \n",
      "\n",
      "            569     573     574      585         589  \n",
      "0     21.117674  0.3157  3.0624   2.3630   99.670066  \n",
      "1     21.117674  0.2653  2.0111   4.4447  208.204500  \n",
      "2     68.848900  0.1882  4.0923   3.1745   82.860200  \n",
      "3     25.036300  0.1738  2.8971   2.0544   73.843200  \n",
      "4     21.117674  0.2224  3.1776  99.3032   73.843200  \n",
      "...         ...     ...     ...      ...         ...  \n",
      "1562  15.466200  0.2363  2.6401   2.8669  203.172000  \n",
      "1563  20.911800  0.3891  1.9077   2.6238  203.172000  \n",
      "1564  29.095400  0.4154  2.1760   3.0590   43.523100  \n",
      "1565  15.466200  0.3669  3.2524   3.5662   93.494100  \n",
      "1566  21.112800  0.4774  2.2727   3.6275  137.784400  \n",
      "\n",
      "[1567 rows x 85 columns]\n",
      "0      -1\n",
      "1      -1\n",
      "2       1\n",
      "3      -1\n",
      "4      -1\n",
      "       ..\n",
      "1562   -1\n",
      "1563   -1\n",
      "1564   -1\n",
      "1565   -1\n",
      "1566   -1\n",
      "Name: Pass/Fail, Length: 1567, dtype: int64\n"
     ]
    }
   ],
   "source": [
    "x = df3.drop('Pass/Fail',axis=1)     \n",
    "y = df3['Pass/Fail']     \n",
    "print(x)\n",
    "print(y)"
   ]
  },
  {
   "cell_type": "code",
   "execution_count": 32,
   "id": "7c1d9399",
   "metadata": {
    "scrolled": true
   },
   "outputs": [
    {
     "data": {
      "text/plain": [
       "(1567, 85)"
      ]
     },
     "execution_count": 32,
     "metadata": {},
     "output_type": "execute_result"
    }
   ],
   "source": [
    "x.shape"
   ]
  },
  {
   "cell_type": "code",
   "execution_count": 33,
   "id": "4e1d738d",
   "metadata": {},
   "outputs": [
    {
     "data": {
      "text/plain": [
       "(1567,)"
      ]
     },
     "execution_count": 33,
     "metadata": {},
     "output_type": "execute_result"
    }
   ],
   "source": [
    "y.shape"
   ]
  },
  {
   "cell_type": "markdown",
   "id": "b2fb4c40",
   "metadata": {},
   "source": [
    "#### Q4 B -Check for target balancing and fix it iffound imbalanced"
   ]
  },
  {
   "cell_type": "code",
   "execution_count": 34,
   "id": "0f31cde9",
   "metadata": {
    "scrolled": true
   },
   "outputs": [
    {
     "data": {
      "text/plain": [
       "-1    1463\n",
       " 1     104\n",
       "Name: Pass/Fail, dtype: int64"
      ]
     },
     "metadata": {},
     "output_type": "display_data"
    },
    {
     "name": "stdout",
     "output_type": "stream",
     "text": [
      "None\n"
     ]
    }
   ],
   "source": [
    "print(display(df3['Pass/Fail'].value_counts()))"
   ]
  },
  {
   "cell_type": "code",
   "execution_count": 35,
   "id": "61106058",
   "metadata": {},
   "outputs": [
    {
     "name": "stdout",
     "output_type": "stream",
     "text": [
      "Before UpSampling, counts of label '-1': 1463\n",
      "Before UpSampling, counts of label '1': 104 \n",
      "\n",
      "After UpSampling, counts of label '-1': 1463\n",
      "After UpSampling, counts of label '1': 1463 \n",
      "\n",
      "After UpSampling, the shape of x_res: (2926, 85)\n",
      "After UpSampling, the shape of y_res: (2926,) \n",
      "\n"
     ]
    }
   ],
   "source": [
    "print(\"Before UpSampling, counts of label '-1': {}\".format(sum(y==-1)))\n",
    "print(\"Before UpSampling, counts of label '1': {} \\n\".format(sum(y==1)))\n",
    "\n",
    "sm = SMOTE(sampling_strategy = 1 ,k_neighbors = 5, random_state=1)   #Synthetic Minority Over Sampling Technique\n",
    "x_res, y_res = sm.fit_resample(x, y.ravel())\n",
    "\n",
    "print(\"After UpSampling, counts of label '-1': {}\".format(sum(y_res==-1)))\n",
    "print(\"After UpSampling, counts of label '1': {} \\n\".format(sum(y_res==1)))\n",
    "\n",
    "print('After UpSampling, the shape of x_res: {}'.format(x_res.shape))\n",
    "print('After UpSampling, the shape of y_res: {} \\n'.format(y_res.shape))"
   ]
  },
  {
   "cell_type": "markdown",
   "id": "dc58647b",
   "metadata": {},
   "source": [
    "#### Q4 C -Perform train-test split and standardize the data or vice versa if required."
   ]
  },
  {
   "cell_type": "code",
   "execution_count": 36,
   "id": "0919df8b",
   "metadata": {},
   "outputs": [
    {
     "data": {
      "text/html": [
       "<div>\n",
       "<style scoped>\n",
       "    .dataframe tbody tr th:only-of-type {\n",
       "        vertical-align: middle;\n",
       "    }\n",
       "\n",
       "    .dataframe tbody tr th {\n",
       "        vertical-align: top;\n",
       "    }\n",
       "\n",
       "    .dataframe thead th {\n",
       "        text-align: right;\n",
       "    }\n",
       "</style>\n",
       "<table border=\"1\" class=\"dataframe\">\n",
       "  <thead>\n",
       "    <tr style=\"text-align: right;\">\n",
       "      <th></th>\n",
       "      <th>23</th>\n",
       "      <th>24</th>\n",
       "      <th>40</th>\n",
       "      <th>41</th>\n",
       "      <th>59</th>\n",
       "      <th>96</th>\n",
       "      <th>98</th>\n",
       "      <th>129</th>\n",
       "      <th>140</th>\n",
       "      <th>151</th>\n",
       "      <th>...</th>\n",
       "      <th>526</th>\n",
       "      <th>549</th>\n",
       "      <th>554</th>\n",
       "      <th>559</th>\n",
       "      <th>568</th>\n",
       "      <th>569</th>\n",
       "      <th>573</th>\n",
       "      <th>574</th>\n",
       "      <th>585</th>\n",
       "      <th>589</th>\n",
       "    </tr>\n",
       "  </thead>\n",
       "  <tbody>\n",
       "    <tr>\n",
       "      <th>0</th>\n",
       "      <td>-0.180706</td>\n",
       "      <td>0.435630</td>\n",
       "      <td>-0.172705</td>\n",
       "      <td>0.622737</td>\n",
       "      <td>-0.774033</td>\n",
       "      <td>-1.542576</td>\n",
       "      <td>1.223071</td>\n",
       "      <td>0.288655</td>\n",
       "      <td>-0.037122</td>\n",
       "      <td>-0.113246</td>\n",
       "      <td>...</td>\n",
       "      <td>-1.022160</td>\n",
       "      <td>-0.396757</td>\n",
       "      <td>-0.303853</td>\n",
       "      <td>0.536457</td>\n",
       "      <td>-0.043405</td>\n",
       "      <td>-0.112411</td>\n",
       "      <td>-0.053399</td>\n",
       "      <td>-0.204842</td>\n",
       "      <td>-0.261611</td>\n",
       "      <td>0.007340</td>\n",
       "    </tr>\n",
       "    <tr>\n",
       "      <th>1</th>\n",
       "      <td>0.230439</td>\n",
       "      <td>-0.508748</td>\n",
       "      <td>0.561947</td>\n",
       "      <td>-0.331245</td>\n",
       "      <td>-0.507867</td>\n",
       "      <td>3.020063</td>\n",
       "      <td>-2.512675</td>\n",
       "      <td>0.242191</td>\n",
       "      <td>-0.037568</td>\n",
       "      <td>0.009135</td>\n",
       "      <td>...</td>\n",
       "      <td>-0.583842</td>\n",
       "      <td>0.087190</td>\n",
       "      <td>-0.104299</td>\n",
       "      <td>-0.850134</td>\n",
       "      <td>-0.043405</td>\n",
       "      <td>-0.112411</td>\n",
       "      <td>-0.309662</td>\n",
       "      <td>-0.253980</td>\n",
       "      <td>0.506074</td>\n",
       "      <td>1.325659</td>\n",
       "    </tr>\n",
       "    <tr>\n",
       "      <th>2</th>\n",
       "      <td>-0.183158</td>\n",
       "      <td>-0.617848</td>\n",
       "      <td>-2.205129</td>\n",
       "      <td>1.126015</td>\n",
       "      <td>1.910101</td>\n",
       "      <td>-0.780552</td>\n",
       "      <td>-0.290905</td>\n",
       "      <td>0.149263</td>\n",
       "      <td>-0.037307</td>\n",
       "      <td>-0.193913</td>\n",
       "      <td>...</td>\n",
       "      <td>-0.860815</td>\n",
       "      <td>-0.789607</td>\n",
       "      <td>-0.256112</td>\n",
       "      <td>0.186133</td>\n",
       "      <td>-2.520218</td>\n",
       "      <td>4.867826</td>\n",
       "      <td>-0.701684</td>\n",
       "      <td>-0.156705</td>\n",
       "      <td>0.037652</td>\n",
       "      <td>-0.196842</td>\n",
       "    </tr>\n",
       "    <tr>\n",
       "      <th>3</th>\n",
       "      <td>-0.536214</td>\n",
       "      <td>-0.515462</td>\n",
       "      <td>0.503470</td>\n",
       "      <td>-1.149414</td>\n",
       "      <td>1.968362</td>\n",
       "      <td>0.145706</td>\n",
       "      <td>0.158718</td>\n",
       "      <td>0.613902</td>\n",
       "      <td>-0.037672</td>\n",
       "      <td>0.103955</td>\n",
       "      <td>...</td>\n",
       "      <td>-0.749956</td>\n",
       "      <td>1.986180</td>\n",
       "      <td>20.733738</td>\n",
       "      <td>2.061181</td>\n",
       "      <td>0.292316</td>\n",
       "      <td>0.296455</td>\n",
       "      <td>-0.774902</td>\n",
       "      <td>-0.212569</td>\n",
       "      <td>-0.375416</td>\n",
       "      <td>-0.306367</td>\n",
       "    </tr>\n",
       "    <tr>\n",
       "      <th>4</th>\n",
       "      <td>-0.138271</td>\n",
       "      <td>0.185244</td>\n",
       "      <td>0.481378</td>\n",
       "      <td>-0.640112</td>\n",
       "      <td>-1.884217</td>\n",
       "      <td>1.084638</td>\n",
       "      <td>-1.770123</td>\n",
       "      <td>-0.222546</td>\n",
       "      <td>-0.037177</td>\n",
       "      <td>-0.015885</td>\n",
       "      <td>...</td>\n",
       "      <td>0.968998</td>\n",
       "      <td>0.609735</td>\n",
       "      <td>0.303399</td>\n",
       "      <td>-0.634267</td>\n",
       "      <td>-0.043405</td>\n",
       "      <td>-0.112411</td>\n",
       "      <td>-0.527791</td>\n",
       "      <td>-0.199458</td>\n",
       "      <td>35.487783</td>\n",
       "      <td>-0.306367</td>\n",
       "    </tr>\n",
       "    <tr>\n",
       "      <th>...</th>\n",
       "      <td>...</td>\n",
       "      <td>...</td>\n",
       "      <td>...</td>\n",
       "      <td>...</td>\n",
       "      <td>...</td>\n",
       "      <td>...</td>\n",
       "      <td>...</td>\n",
       "      <td>...</td>\n",
       "      <td>...</td>\n",
       "      <td>...</td>\n",
       "      <td>...</td>\n",
       "      <td>...</td>\n",
       "      <td>...</td>\n",
       "      <td>...</td>\n",
       "      <td>...</td>\n",
       "      <td>...</td>\n",
       "      <td>...</td>\n",
       "      <td>...</td>\n",
       "      <td>...</td>\n",
       "      <td>...</td>\n",
       "      <td>...</td>\n",
       "    </tr>\n",
       "    <tr>\n",
       "      <th>2921</th>\n",
       "      <td>0.180604</td>\n",
       "      <td>-0.270806</td>\n",
       "      <td>-1.395743</td>\n",
       "      <td>0.575217</td>\n",
       "      <td>0.437314</td>\n",
       "      <td>-0.106494</td>\n",
       "      <td>0.426441</td>\n",
       "      <td>0.386855</td>\n",
       "      <td>-0.037495</td>\n",
       "      <td>0.124827</td>\n",
       "      <td>...</td>\n",
       "      <td>0.421197</td>\n",
       "      <td>-0.197905</td>\n",
       "      <td>0.051969</td>\n",
       "      <td>-0.749961</td>\n",
       "      <td>-0.566735</td>\n",
       "      <td>-0.106001</td>\n",
       "      <td>0.276561</td>\n",
       "      <td>-0.184354</td>\n",
       "      <td>-0.131667</td>\n",
       "      <td>-0.752340</td>\n",
       "    </tr>\n",
       "    <tr>\n",
       "      <th>2922</th>\n",
       "      <td>-0.567333</td>\n",
       "      <td>0.164576</td>\n",
       "      <td>0.656358</td>\n",
       "      <td>-0.543172</td>\n",
       "      <td>-0.683919</td>\n",
       "      <td>0.680690</td>\n",
       "      <td>-0.973157</td>\n",
       "      <td>-0.241360</td>\n",
       "      <td>-0.037618</td>\n",
       "      <td>-0.069405</td>\n",
       "      <td>...</td>\n",
       "      <td>-1.201258</td>\n",
       "      <td>-0.314447</td>\n",
       "      <td>-0.056304</td>\n",
       "      <td>-1.298258</td>\n",
       "      <td>1.894677</td>\n",
       "      <td>4.396609</td>\n",
       "      <td>-0.085939</td>\n",
       "      <td>-0.222075</td>\n",
       "      <td>0.175995</td>\n",
       "      <td>-1.107692</td>\n",
       "    </tr>\n",
       "    <tr>\n",
       "      <th>2923</th>\n",
       "      <td>0.320191</td>\n",
       "      <td>0.696913</td>\n",
       "      <td>-1.540151</td>\n",
       "      <td>0.695918</td>\n",
       "      <td>-0.047907</td>\n",
       "      <td>-0.473384</td>\n",
       "      <td>0.203944</td>\n",
       "      <td>0.298995</td>\n",
       "      <td>-0.037827</td>\n",
       "      <td>-0.188283</td>\n",
       "      <td>...</td>\n",
       "      <td>-0.705258</td>\n",
       "      <td>-0.796142</td>\n",
       "      <td>-0.249581</td>\n",
       "      <td>0.389643</td>\n",
       "      <td>0.161301</td>\n",
       "      <td>-0.808033</td>\n",
       "      <td>-0.718099</td>\n",
       "      <td>-0.248517</td>\n",
       "      <td>-0.087028</td>\n",
       "      <td>0.181619</td>\n",
       "    </tr>\n",
       "    <tr>\n",
       "      <th>2924</th>\n",
       "      <td>0.412171</td>\n",
       "      <td>0.010222</td>\n",
       "      <td>-0.011293</td>\n",
       "      <td>0.433465</td>\n",
       "      <td>1.171657</td>\n",
       "      <td>-0.121269</td>\n",
       "      <td>0.408808</td>\n",
       "      <td>-0.207782</td>\n",
       "      <td>-0.037500</td>\n",
       "      <td>-0.062636</td>\n",
       "      <td>...</td>\n",
       "      <td>0.535979</td>\n",
       "      <td>0.199256</td>\n",
       "      <td>-0.266345</td>\n",
       "      <td>-1.348115</td>\n",
       "      <td>0.401159</td>\n",
       "      <td>-0.356679</td>\n",
       "      <td>0.496993</td>\n",
       "      <td>-0.201296</td>\n",
       "      <td>-0.421749</td>\n",
       "      <td>-0.230874</td>\n",
       "    </tr>\n",
       "    <tr>\n",
       "      <th>2925</th>\n",
       "      <td>-0.149611</td>\n",
       "      <td>0.757495</td>\n",
       "      <td>-2.276677</td>\n",
       "      <td>0.502762</td>\n",
       "      <td>0.606755</td>\n",
       "      <td>0.070788</td>\n",
       "      <td>0.070537</td>\n",
       "      <td>0.845266</td>\n",
       "      <td>-0.037565</td>\n",
       "      <td>-0.033808</td>\n",
       "      <td>...</td>\n",
       "      <td>0.775999</td>\n",
       "      <td>-0.582704</td>\n",
       "      <td>0.284818</td>\n",
       "      <td>-0.388967</td>\n",
       "      <td>-0.276127</td>\n",
       "      <td>-0.626415</td>\n",
       "      <td>-0.915617</td>\n",
       "      <td>-0.231418</td>\n",
       "      <td>0.194545</td>\n",
       "      <td>-0.324659</td>\n",
       "    </tr>\n",
       "  </tbody>\n",
       "</table>\n",
       "<p>2926 rows × 85 columns</p>\n",
       "</div>"
      ],
      "text/plain": [
       "            23        24        40        41        59        96        98  \\\n",
       "0    -0.180706  0.435630 -0.172705  0.622737 -0.774033 -1.542576  1.223071   \n",
       "1     0.230439 -0.508748  0.561947 -0.331245 -0.507867  3.020063 -2.512675   \n",
       "2    -0.183158 -0.617848 -2.205129  1.126015  1.910101 -0.780552 -0.290905   \n",
       "3    -0.536214 -0.515462  0.503470 -1.149414  1.968362  0.145706  0.158718   \n",
       "4    -0.138271  0.185244  0.481378 -0.640112 -1.884217  1.084638 -1.770123   \n",
       "...        ...       ...       ...       ...       ...       ...       ...   \n",
       "2921  0.180604 -0.270806 -1.395743  0.575217  0.437314 -0.106494  0.426441   \n",
       "2922 -0.567333  0.164576  0.656358 -0.543172 -0.683919  0.680690 -0.973157   \n",
       "2923  0.320191  0.696913 -1.540151  0.695918 -0.047907 -0.473384  0.203944   \n",
       "2924  0.412171  0.010222 -0.011293  0.433465  1.171657 -0.121269  0.408808   \n",
       "2925 -0.149611  0.757495 -2.276677  0.502762  0.606755  0.070788  0.070537   \n",
       "\n",
       "           129       140       151  ...       526       549        554  \\\n",
       "0     0.288655 -0.037122 -0.113246  ... -1.022160 -0.396757  -0.303853   \n",
       "1     0.242191 -0.037568  0.009135  ... -0.583842  0.087190  -0.104299   \n",
       "2     0.149263 -0.037307 -0.193913  ... -0.860815 -0.789607  -0.256112   \n",
       "3     0.613902 -0.037672  0.103955  ... -0.749956  1.986180  20.733738   \n",
       "4    -0.222546 -0.037177 -0.015885  ...  0.968998  0.609735   0.303399   \n",
       "...        ...       ...       ...  ...       ...       ...        ...   \n",
       "2921  0.386855 -0.037495  0.124827  ...  0.421197 -0.197905   0.051969   \n",
       "2922 -0.241360 -0.037618 -0.069405  ... -1.201258 -0.314447  -0.056304   \n",
       "2923  0.298995 -0.037827 -0.188283  ... -0.705258 -0.796142  -0.249581   \n",
       "2924 -0.207782 -0.037500 -0.062636  ...  0.535979  0.199256  -0.266345   \n",
       "2925  0.845266 -0.037565 -0.033808  ...  0.775999 -0.582704   0.284818   \n",
       "\n",
       "           559       568       569       573       574        585       589  \n",
       "0     0.536457 -0.043405 -0.112411 -0.053399 -0.204842  -0.261611  0.007340  \n",
       "1    -0.850134 -0.043405 -0.112411 -0.309662 -0.253980   0.506074  1.325659  \n",
       "2     0.186133 -2.520218  4.867826 -0.701684 -0.156705   0.037652 -0.196842  \n",
       "3     2.061181  0.292316  0.296455 -0.774902 -0.212569  -0.375416 -0.306367  \n",
       "4    -0.634267 -0.043405 -0.112411 -0.527791 -0.199458  35.487783 -0.306367  \n",
       "...        ...       ...       ...       ...       ...        ...       ...  \n",
       "2921 -0.749961 -0.566735 -0.106001  0.276561 -0.184354  -0.131667 -0.752340  \n",
       "2922 -1.298258  1.894677  4.396609 -0.085939 -0.222075   0.175995 -1.107692  \n",
       "2923  0.389643  0.161301 -0.808033 -0.718099 -0.248517  -0.087028  0.181619  \n",
       "2924 -1.348115  0.401159 -0.356679  0.496993 -0.201296  -0.421749 -0.230874  \n",
       "2925 -0.388967 -0.276127 -0.626415 -0.915617 -0.231418   0.194545 -0.324659  \n",
       "\n",
       "[2926 rows x 85 columns]"
      ]
     },
     "execution_count": 36,
     "metadata": {},
     "output_type": "execute_result"
    }
   ],
   "source": [
    "x_z= stats.zscore(x_res)\n",
    "x_z"
   ]
  },
  {
   "cell_type": "code",
   "execution_count": 37,
   "id": "1a6d43e6",
   "metadata": {},
   "outputs": [
    {
     "data": {
      "text/plain": [
       "array([-1., -1.,  1., ...,  1.,  1.,  1.])"
      ]
     },
     "execution_count": 37,
     "metadata": {},
     "output_type": "execute_result"
    }
   ],
   "source": [
    "y_z= stats.zscore(y_res)\n",
    "y_z"
   ]
  },
  {
   "cell_type": "code",
   "execution_count": 38,
   "id": "70781020",
   "metadata": {},
   "outputs": [
    {
     "name": "stdout",
     "output_type": "stream",
     "text": [
      "X_train shape: (1872, 85)\n",
      "X_test shape: (586, 85)\n",
      "y_train shape: (1872,)\n",
      "y_test shape: (586,)\n",
      "X_val shape: (468, 85)\n",
      "y_val shape: (468,)\n"
     ]
    }
   ],
   "source": [
    "X_train, X_test, y_train, y_test = train_test_split(x_z, y_z,\n",
    "    test_size=0.2, shuffle = True, random_state = 8)\n",
    "\n",
    "# Validation set\n",
    "X_train, X_val, y_train, y_val = train_test_split(X_train, y_train, \n",
    "    test_size=0.20, random_state= 8) \n",
    "\n",
    "print(\"X_train shape: {}\".format(X_train.shape))\n",
    "print(\"X_test shape: {}\".format(X_test.shape))\n",
    "print(\"y_train shape: {}\".format(y_train.shape))\n",
    "print(\"y_test shape: {}\".format(y_test.shape))\n",
    "print(\"X_val shape: {}\".format(X_val.shape))\n",
    "print(\"y_val shape: {}\".format(y_val.shape))"
   ]
  },
  {
   "cell_type": "markdown",
   "id": "73935c54",
   "metadata": {},
   "source": [
    "#### Q4 D -Check if the train and test data have similar statistical characteristics when compared with original data."
   ]
  },
  {
   "cell_type": "code",
   "execution_count": 39,
   "id": "c35261d8",
   "metadata": {
    "scrolled": true
   },
   "outputs": [
    {
     "data": {
      "text/html": [
       "<div>\n",
       "<style scoped>\n",
       "    .dataframe tbody tr th:only-of-type {\n",
       "        vertical-align: middle;\n",
       "    }\n",
       "\n",
       "    .dataframe tbody tr th {\n",
       "        vertical-align: top;\n",
       "    }\n",
       "\n",
       "    .dataframe thead th {\n",
       "        text-align: right;\n",
       "    }\n",
       "</style>\n",
       "<table border=\"1\" class=\"dataframe\">\n",
       "  <thead>\n",
       "    <tr style=\"text-align: right;\">\n",
       "      <th></th>\n",
       "      <th>count</th>\n",
       "      <th>mean</th>\n",
       "      <th>std</th>\n",
       "      <th>min</th>\n",
       "      <th>25%</th>\n",
       "      <th>50%</th>\n",
       "      <th>75%</th>\n",
       "      <th>max</th>\n",
       "    </tr>\n",
       "  </thead>\n",
       "  <tbody>\n",
       "    <tr>\n",
       "      <th>23</th>\n",
       "      <td>1872.0</td>\n",
       "      <td>0.007955</td>\n",
       "      <td>0.988464</td>\n",
       "      <td>-4.026418</td>\n",
       "      <td>-0.453139</td>\n",
       "      <td>-0.028523</td>\n",
       "      <td>0.334686</td>\n",
       "      <td>4.359992</td>\n",
       "    </tr>\n",
       "    <tr>\n",
       "      <th>24</th>\n",
       "      <td>1872.0</td>\n",
       "      <td>0.007039</td>\n",
       "      <td>0.995882</td>\n",
       "      <td>-5.707713</td>\n",
       "      <td>-0.399960</td>\n",
       "      <td>0.112135</td>\n",
       "      <td>0.597353</td>\n",
       "      <td>5.709928</td>\n",
       "    </tr>\n",
       "    <tr>\n",
       "      <th>40</th>\n",
       "      <td>1872.0</td>\n",
       "      <td>-0.002713</td>\n",
       "      <td>0.993807</td>\n",
       "      <td>-2.765475</td>\n",
       "      <td>-0.023941</td>\n",
       "      <td>0.511881</td>\n",
       "      <td>0.603531</td>\n",
       "      <td>0.902850</td>\n",
       "    </tr>\n",
       "    <tr>\n",
       "      <th>41</th>\n",
       "      <td>1872.0</td>\n",
       "      <td>-0.004842</td>\n",
       "      <td>0.805763</td>\n",
       "      <td>-1.740149</td>\n",
       "      <td>-0.358250</td>\n",
       "      <td>-0.129715</td>\n",
       "      <td>0.247663</td>\n",
       "      <td>18.894625</td>\n",
       "    </tr>\n",
       "    <tr>\n",
       "      <th>59</th>\n",
       "      <td>1872.0</td>\n",
       "      <td>-0.009773</td>\n",
       "      <td>1.029162</td>\n",
       "      <td>-2.692916</td>\n",
       "      <td>-0.670749</td>\n",
       "      <td>-0.281234</td>\n",
       "      <td>0.520635</td>\n",
       "      <td>17.071088</td>\n",
       "    </tr>\n",
       "    <tr>\n",
       "      <th>...</th>\n",
       "      <td>...</td>\n",
       "      <td>...</td>\n",
       "      <td>...</td>\n",
       "      <td>...</td>\n",
       "      <td>...</td>\n",
       "      <td>...</td>\n",
       "      <td>...</td>\n",
       "      <td>...</td>\n",
       "    </tr>\n",
       "    <tr>\n",
       "      <th>569</th>\n",
       "      <td>1872.0</td>\n",
       "      <td>0.015422</td>\n",
       "      <td>1.025358</td>\n",
       "      <td>-1.976668</td>\n",
       "      <td>-0.702081</td>\n",
       "      <td>-0.119226</td>\n",
       "      <td>0.313806</td>\n",
       "      <td>6.532401</td>\n",
       "    </tr>\n",
       "    <tr>\n",
       "      <th>573</th>\n",
       "      <td>1872.0</td>\n",
       "      <td>0.015905</td>\n",
       "      <td>1.065356</td>\n",
       "      <td>-1.319461</td>\n",
       "      <td>-0.479298</td>\n",
       "      <td>-0.173141</td>\n",
       "      <td>0.172865</td>\n",
       "      <td>9.510706</td>\n",
       "    </tr>\n",
       "    <tr>\n",
       "      <th>574</th>\n",
       "      <td>1872.0</td>\n",
       "      <td>0.018579</td>\n",
       "      <td>1.039810</td>\n",
       "      <td>-0.299393</td>\n",
       "      <td>-0.226877</td>\n",
       "      <td>-0.206751</td>\n",
       "      <td>-0.184674</td>\n",
       "      <td>6.983576</td>\n",
       "    </tr>\n",
       "    <tr>\n",
       "      <th>585</th>\n",
       "      <td>1872.0</td>\n",
       "      <td>0.016835</td>\n",
       "      <td>1.220313</td>\n",
       "      <td>-0.659338</td>\n",
       "      <td>-0.268267</td>\n",
       "      <td>-0.106270</td>\n",
       "      <td>0.093494</td>\n",
       "      <td>35.487783</td>\n",
       "    </tr>\n",
       "    <tr>\n",
       "      <th>589</th>\n",
       "      <td>1872.0</td>\n",
       "      <td>0.017519</td>\n",
       "      <td>1.014468</td>\n",
       "      <td>-1.203307</td>\n",
       "      <td>-0.611299</td>\n",
       "      <td>-0.272397</td>\n",
       "      <td>0.275076</td>\n",
       "      <td>7.752401</td>\n",
       "    </tr>\n",
       "  </tbody>\n",
       "</table>\n",
       "<p>85 rows × 8 columns</p>\n",
       "</div>"
      ],
      "text/plain": [
       "      count      mean       std       min       25%       50%       75%  \\\n",
       "23   1872.0  0.007955  0.988464 -4.026418 -0.453139 -0.028523  0.334686   \n",
       "24   1872.0  0.007039  0.995882 -5.707713 -0.399960  0.112135  0.597353   \n",
       "40   1872.0 -0.002713  0.993807 -2.765475 -0.023941  0.511881  0.603531   \n",
       "41   1872.0 -0.004842  0.805763 -1.740149 -0.358250 -0.129715  0.247663   \n",
       "59   1872.0 -0.009773  1.029162 -2.692916 -0.670749 -0.281234  0.520635   \n",
       "..      ...       ...       ...       ...       ...       ...       ...   \n",
       "569  1872.0  0.015422  1.025358 -1.976668 -0.702081 -0.119226  0.313806   \n",
       "573  1872.0  0.015905  1.065356 -1.319461 -0.479298 -0.173141  0.172865   \n",
       "574  1872.0  0.018579  1.039810 -0.299393 -0.226877 -0.206751 -0.184674   \n",
       "585  1872.0  0.016835  1.220313 -0.659338 -0.268267 -0.106270  0.093494   \n",
       "589  1872.0  0.017519  1.014468 -1.203307 -0.611299 -0.272397  0.275076   \n",
       "\n",
       "           max  \n",
       "23    4.359992  \n",
       "24    5.709928  \n",
       "40    0.902850  \n",
       "41   18.894625  \n",
       "59   17.071088  \n",
       "..         ...  \n",
       "569   6.532401  \n",
       "573   9.510706  \n",
       "574   6.983576  \n",
       "585  35.487783  \n",
       "589   7.752401  \n",
       "\n",
       "[85 rows x 8 columns]"
      ]
     },
     "execution_count": 39,
     "metadata": {},
     "output_type": "execute_result"
    }
   ],
   "source": [
    "X_train.describe().T"
   ]
  },
  {
   "cell_type": "code",
   "execution_count": 40,
   "id": "274af236",
   "metadata": {},
   "outputs": [
    {
     "data": {
      "text/html": [
       "<div>\n",
       "<style scoped>\n",
       "    .dataframe tbody tr th:only-of-type {\n",
       "        vertical-align: middle;\n",
       "    }\n",
       "\n",
       "    .dataframe tbody tr th {\n",
       "        vertical-align: top;\n",
       "    }\n",
       "\n",
       "    .dataframe thead th {\n",
       "        text-align: right;\n",
       "    }\n",
       "</style>\n",
       "<table border=\"1\" class=\"dataframe\">\n",
       "  <thead>\n",
       "    <tr style=\"text-align: right;\">\n",
       "      <th></th>\n",
       "      <th>count</th>\n",
       "      <th>mean</th>\n",
       "      <th>std</th>\n",
       "      <th>min</th>\n",
       "      <th>25%</th>\n",
       "      <th>50%</th>\n",
       "      <th>75%</th>\n",
       "      <th>max</th>\n",
       "    </tr>\n",
       "  </thead>\n",
       "  <tbody>\n",
       "    <tr>\n",
       "      <th>23</th>\n",
       "      <td>586.0</td>\n",
       "      <td>-0.078062</td>\n",
       "      <td>1.030712</td>\n",
       "      <td>-4.664070</td>\n",
       "      <td>-0.567529</td>\n",
       "      <td>-0.052128</td>\n",
       "      <td>0.266463</td>\n",
       "      <td>4.652508</td>\n",
       "    </tr>\n",
       "    <tr>\n",
       "      <th>24</th>\n",
       "      <td>586.0</td>\n",
       "      <td>-0.027448</td>\n",
       "      <td>0.973967</td>\n",
       "      <td>-4.415402</td>\n",
       "      <td>-0.468873</td>\n",
       "      <td>0.074920</td>\n",
       "      <td>0.548898</td>\n",
       "      <td>4.186582</td>\n",
       "    </tr>\n",
       "    <tr>\n",
       "      <th>40</th>\n",
       "      <td>586.0</td>\n",
       "      <td>-0.007739</td>\n",
       "      <td>1.029837</td>\n",
       "      <td>-2.735500</td>\n",
       "      <td>-0.036286</td>\n",
       "      <td>0.524890</td>\n",
       "      <td>0.609596</td>\n",
       "      <td>0.853469</td>\n",
       "    </tr>\n",
       "    <tr>\n",
       "      <th>41</th>\n",
       "      <td>586.0</td>\n",
       "      <td>0.062677</td>\n",
       "      <td>1.647407</td>\n",
       "      <td>-1.835657</td>\n",
       "      <td>-0.358490</td>\n",
       "      <td>-0.161061</td>\n",
       "      <td>0.175318</td>\n",
       "      <td>18.894625</td>\n",
       "    </tr>\n",
       "    <tr>\n",
       "      <th>59</th>\n",
       "      <td>586.0</td>\n",
       "      <td>0.018070</td>\n",
       "      <td>0.950806</td>\n",
       "      <td>-3.637898</td>\n",
       "      <td>-0.610267</td>\n",
       "      <td>-0.263004</td>\n",
       "      <td>0.521403</td>\n",
       "      <td>3.530968</td>\n",
       "    </tr>\n",
       "    <tr>\n",
       "      <th>...</th>\n",
       "      <td>...</td>\n",
       "      <td>...</td>\n",
       "      <td>...</td>\n",
       "      <td>...</td>\n",
       "      <td>...</td>\n",
       "      <td>...</td>\n",
       "      <td>...</td>\n",
       "      <td>...</td>\n",
       "    </tr>\n",
       "    <tr>\n",
       "      <th>569</th>\n",
       "      <td>586.0</td>\n",
       "      <td>-0.067122</td>\n",
       "      <td>0.889770</td>\n",
       "      <td>-1.972452</td>\n",
       "      <td>-0.702081</td>\n",
       "      <td>-0.140032</td>\n",
       "      <td>0.103645</td>\n",
       "      <td>4.795522</td>\n",
       "    </tr>\n",
       "    <tr>\n",
       "      <th>573</th>\n",
       "      <td>586.0</td>\n",
       "      <td>-0.010433</td>\n",
       "      <td>0.903628</td>\n",
       "      <td>-1.254930</td>\n",
       "      <td>-0.458690</td>\n",
       "      <td>-0.178467</td>\n",
       "      <td>0.194241</td>\n",
       "      <td>9.510706</td>\n",
       "    </tr>\n",
       "    <tr>\n",
       "      <th>574</th>\n",
       "      <td>586.0</td>\n",
       "      <td>-0.041591</td>\n",
       "      <td>0.920397</td>\n",
       "      <td>-0.274831</td>\n",
       "      <td>-0.228249</td>\n",
       "      <td>-0.209455</td>\n",
       "      <td>-0.184740</td>\n",
       "      <td>6.296614</td>\n",
       "    </tr>\n",
       "    <tr>\n",
       "      <th>585</th>\n",
       "      <td>586.0</td>\n",
       "      <td>-0.026209</td>\n",
       "      <td>0.369325</td>\n",
       "      <td>-0.691422</td>\n",
       "      <td>-0.278416</td>\n",
       "      <td>-0.095188</td>\n",
       "      <td>0.106233</td>\n",
       "      <td>1.868775</td>\n",
       "    </tr>\n",
       "    <tr>\n",
       "      <th>589</th>\n",
       "      <td>586.0</td>\n",
       "      <td>-0.013860</td>\n",
       "      <td>0.991446</td>\n",
       "      <td>-1.203307</td>\n",
       "      <td>-0.631475</td>\n",
       "      <td>-0.267626</td>\n",
       "      <td>0.194812</td>\n",
       "      <td>7.382164</td>\n",
       "    </tr>\n",
       "  </tbody>\n",
       "</table>\n",
       "<p>85 rows × 8 columns</p>\n",
       "</div>"
      ],
      "text/plain": [
       "     count      mean       std       min       25%       50%       75%  \\\n",
       "23   586.0 -0.078062  1.030712 -4.664070 -0.567529 -0.052128  0.266463   \n",
       "24   586.0 -0.027448  0.973967 -4.415402 -0.468873  0.074920  0.548898   \n",
       "40   586.0 -0.007739  1.029837 -2.735500 -0.036286  0.524890  0.609596   \n",
       "41   586.0  0.062677  1.647407 -1.835657 -0.358490 -0.161061  0.175318   \n",
       "59   586.0  0.018070  0.950806 -3.637898 -0.610267 -0.263004  0.521403   \n",
       "..     ...       ...       ...       ...       ...       ...       ...   \n",
       "569  586.0 -0.067122  0.889770 -1.972452 -0.702081 -0.140032  0.103645   \n",
       "573  586.0 -0.010433  0.903628 -1.254930 -0.458690 -0.178467  0.194241   \n",
       "574  586.0 -0.041591  0.920397 -0.274831 -0.228249 -0.209455 -0.184740   \n",
       "585  586.0 -0.026209  0.369325 -0.691422 -0.278416 -0.095188  0.106233   \n",
       "589  586.0 -0.013860  0.991446 -1.203307 -0.631475 -0.267626  0.194812   \n",
       "\n",
       "           max  \n",
       "23    4.652508  \n",
       "24    4.186582  \n",
       "40    0.853469  \n",
       "41   18.894625  \n",
       "59    3.530968  \n",
       "..         ...  \n",
       "569   4.795522  \n",
       "573   9.510706  \n",
       "574   6.296614  \n",
       "585   1.868775  \n",
       "589   7.382164  \n",
       "\n",
       "[85 rows x 8 columns]"
      ]
     },
     "execution_count": 40,
     "metadata": {},
     "output_type": "execute_result"
    }
   ],
   "source": [
    "X_test.describe().T"
   ]
  },
  {
   "cell_type": "code",
   "execution_count": 41,
   "id": "e75244ff",
   "metadata": {
    "scrolled": true
   },
   "outputs": [
    {
     "data": {
      "text/html": [
       "<div>\n",
       "<style scoped>\n",
       "    .dataframe tbody tr th:only-of-type {\n",
       "        vertical-align: middle;\n",
       "    }\n",
       "\n",
       "    .dataframe tbody tr th {\n",
       "        vertical-align: top;\n",
       "    }\n",
       "\n",
       "    .dataframe thead th {\n",
       "        text-align: right;\n",
       "    }\n",
       "</style>\n",
       "<table border=\"1\" class=\"dataframe\">\n",
       "  <thead>\n",
       "    <tr style=\"text-align: right;\">\n",
       "      <th></th>\n",
       "      <th>count</th>\n",
       "      <th>mean</th>\n",
       "      <th>std</th>\n",
       "      <th>min</th>\n",
       "      <th>25%</th>\n",
       "      <th>50%</th>\n",
       "      <th>75%</th>\n",
       "      <th>max</th>\n",
       "    </tr>\n",
       "  </thead>\n",
       "  <tbody>\n",
       "    <tr>\n",
       "      <th>23</th>\n",
       "      <td>468.0</td>\n",
       "      <td>0.065924</td>\n",
       "      <td>1.003965</td>\n",
       "      <td>-3.735348</td>\n",
       "      <td>-0.378398</td>\n",
       "      <td>-0.020302</td>\n",
       "      <td>0.355762</td>\n",
       "      <td>4.595174</td>\n",
       "    </tr>\n",
       "    <tr>\n",
       "      <th>24</th>\n",
       "      <td>468.0</td>\n",
       "      <td>0.006211</td>\n",
       "      <td>1.050019</td>\n",
       "      <td>-4.483757</td>\n",
       "      <td>-0.409712</td>\n",
       "      <td>0.142012</td>\n",
       "      <td>0.650673</td>\n",
       "      <td>4.475967</td>\n",
       "    </tr>\n",
       "    <tr>\n",
       "      <th>40</th>\n",
       "      <td>468.0</td>\n",
       "      <td>0.020542</td>\n",
       "      <td>0.989696</td>\n",
       "      <td>-2.735500</td>\n",
       "      <td>0.004069</td>\n",
       "      <td>0.521411</td>\n",
       "      <td>0.599227</td>\n",
       "      <td>0.853469</td>\n",
       "    </tr>\n",
       "    <tr>\n",
       "      <th>41</th>\n",
       "      <td>468.0</td>\n",
       "      <td>-0.059110</td>\n",
       "      <td>0.506074</td>\n",
       "      <td>-1.891406</td>\n",
       "      <td>-0.365746</td>\n",
       "      <td>-0.151424</td>\n",
       "      <td>0.175017</td>\n",
       "      <td>1.572887</td>\n",
       "    </tr>\n",
       "    <tr>\n",
       "      <th>59</th>\n",
       "      <td>468.0</td>\n",
       "      <td>0.016467</td>\n",
       "      <td>0.942603</td>\n",
       "      <td>-1.849939</td>\n",
       "      <td>-0.667475</td>\n",
       "      <td>-0.257517</td>\n",
       "      <td>0.607806</td>\n",
       "      <td>2.402788</td>\n",
       "    </tr>\n",
       "    <tr>\n",
       "      <th>...</th>\n",
       "      <td>...</td>\n",
       "      <td>...</td>\n",
       "      <td>...</td>\n",
       "      <td>...</td>\n",
       "      <td>...</td>\n",
       "      <td>...</td>\n",
       "      <td>...</td>\n",
       "      <td>...</td>\n",
       "    </tr>\n",
       "    <tr>\n",
       "      <th>569</th>\n",
       "      <td>468.0</td>\n",
       "      <td>0.022358</td>\n",
       "      <td>1.026885</td>\n",
       "      <td>-1.899891</td>\n",
       "      <td>-0.702081</td>\n",
       "      <td>-0.112411</td>\n",
       "      <td>0.343829</td>\n",
       "      <td>5.970535</td>\n",
       "    </tr>\n",
       "    <tr>\n",
       "      <th>573</th>\n",
       "      <td>468.0</td>\n",
       "      <td>-0.050555</td>\n",
       "      <td>0.831699</td>\n",
       "      <td>-1.319461</td>\n",
       "      <td>-0.488304</td>\n",
       "      <td>-0.165514</td>\n",
       "      <td>0.214006</td>\n",
       "      <td>9.510706</td>\n",
       "    </tr>\n",
       "    <tr>\n",
       "      <th>574</th>\n",
       "      <td>468.0</td>\n",
       "      <td>-0.022239</td>\n",
       "      <td>0.931947</td>\n",
       "      <td>-0.267526</td>\n",
       "      <td>-0.228140</td>\n",
       "      <td>-0.207707</td>\n",
       "      <td>-0.184345</td>\n",
       "      <td>7.598783</td>\n",
       "    </tr>\n",
       "    <tr>\n",
       "      <th>585</th>\n",
       "      <td>468.0</td>\n",
       "      <td>-0.034522</td>\n",
       "      <td>0.353897</td>\n",
       "      <td>-0.629025</td>\n",
       "      <td>-0.261086</td>\n",
       "      <td>-0.108025</td>\n",
       "      <td>0.090644</td>\n",
       "      <td>2.224209</td>\n",
       "    </tr>\n",
       "    <tr>\n",
       "      <th>589</th>\n",
       "      <td>468.0</td>\n",
       "      <td>-0.052723</td>\n",
       "      <td>0.952229</td>\n",
       "      <td>-1.203307</td>\n",
       "      <td>-0.623588</td>\n",
       "      <td>-0.308822</td>\n",
       "      <td>0.101288</td>\n",
       "      <td>4.555143</td>\n",
       "    </tr>\n",
       "  </tbody>\n",
       "</table>\n",
       "<p>85 rows × 8 columns</p>\n",
       "</div>"
      ],
      "text/plain": [
       "     count      mean       std       min       25%       50%       75%  \\\n",
       "23   468.0  0.065924  1.003965 -3.735348 -0.378398 -0.020302  0.355762   \n",
       "24   468.0  0.006211  1.050019 -4.483757 -0.409712  0.142012  0.650673   \n",
       "40   468.0  0.020542  0.989696 -2.735500  0.004069  0.521411  0.599227   \n",
       "41   468.0 -0.059110  0.506074 -1.891406 -0.365746 -0.151424  0.175017   \n",
       "59   468.0  0.016467  0.942603 -1.849939 -0.667475 -0.257517  0.607806   \n",
       "..     ...       ...       ...       ...       ...       ...       ...   \n",
       "569  468.0  0.022358  1.026885 -1.899891 -0.702081 -0.112411  0.343829   \n",
       "573  468.0 -0.050555  0.831699 -1.319461 -0.488304 -0.165514  0.214006   \n",
       "574  468.0 -0.022239  0.931947 -0.267526 -0.228140 -0.207707 -0.184345   \n",
       "585  468.0 -0.034522  0.353897 -0.629025 -0.261086 -0.108025  0.090644   \n",
       "589  468.0 -0.052723  0.952229 -1.203307 -0.623588 -0.308822  0.101288   \n",
       "\n",
       "          max  \n",
       "23   4.595174  \n",
       "24   4.475967  \n",
       "40   0.853469  \n",
       "41   1.572887  \n",
       "59   2.402788  \n",
       "..        ...  \n",
       "569  5.970535  \n",
       "573  9.510706  \n",
       "574  7.598783  \n",
       "585  2.224209  \n",
       "589  4.555143  \n",
       "\n",
       "[85 rows x 8 columns]"
      ]
     },
     "execution_count": 41,
     "metadata": {},
     "output_type": "execute_result"
    }
   ],
   "source": [
    "X_val.describe().T"
   ]
  },
  {
   "cell_type": "markdown",
   "id": "2a7f5685",
   "metadata": {},
   "source": [
    "#### Comments\n",
    "<li> The Max values for Train, test and val data became almost similar(e.g. Feature 23: Train Max - 4.359992, Test Max - 4.652508, val Max - 4.595174)\n",
    "<li> Similarly standard diviation values also became almose similar. \n",
    "    "
   ]
  },
  {
   "cell_type": "markdown",
   "id": "d87f5cad",
   "metadata": {},
   "source": [
    "#### Q5 A -Use any Supervised Learning technique to train a model"
   ]
  },
  {
   "cell_type": "code",
   "execution_count": 42,
   "id": "d5bd7cd2",
   "metadata": {},
   "outputs": [
    {
     "name": "stdout",
     "output_type": "stream",
     "text": [
      "1.0\n",
      "0.4811319655610312\n"
     ]
    }
   ],
   "source": [
    "regressor = DecisionTreeRegressor(random_state = 0) \n",
    "regressor.fit(X_train, y_train)\n",
    "\n",
    "predicted_labels_test = regressor.predict(X_test)\n",
    "print(regressor.score(X_train, y_train))\n",
    "print(regressor.score(X_test, y_test))"
   ]
  },
  {
   "cell_type": "markdown",
   "id": "593752dd",
   "metadata": {},
   "source": [
    "#### Q5 B -Use cross validation techniques"
   ]
  },
  {
   "cell_type": "code",
   "execution_count": 43,
   "id": "67896601",
   "metadata": {},
   "outputs": [
    {
     "name": "stdout",
     "output_type": "stream",
     "text": [
      "Accuracy: 76.088% (12.592%)\n"
     ]
    }
   ],
   "source": [
    "num_folds = 50\n",
    "kfold = KFold(n_splits=num_folds)\n",
    "model = LogisticRegression()\n",
    "results = cross_val_score(model, x_z, y_z, cv=kfold)\n",
    "print(\"Accuracy: %.3f%% (%.3f%%)\" % (results.mean()*100.0, results.std()*100.0))"
   ]
  },
  {
   "cell_type": "code",
   "execution_count": 44,
   "id": "ca720b91",
   "metadata": {},
   "outputs": [
    {
     "name": "stdout",
     "output_type": "stream",
     "text": [
      "Accuracy: 78.776% (40.889%)\n"
     ]
    }
   ],
   "source": [
    "cv = LeaveOneOut()\n",
    "model = LogisticRegression()\n",
    "scores = cross_val_score(model, x_z, y_z, scoring='accuracy', cv=cv, n_jobs=-1)\n",
    "print(\"Accuracy: %.3f%% (%.3f%%)\" % (scores.mean()*100.0, scores.std()*100.0))"
   ]
  },
  {
   "cell_type": "code",
   "execution_count": 45,
   "id": "4823a1e4",
   "metadata": {
    "scrolled": true
   },
   "outputs": [
    {
     "name": "stdout",
     "output_type": "stream",
     "text": [
      "Accuracy: 72.124% (2.436%)\n"
     ]
    }
   ],
   "source": [
    "model = RidgeCV()\n",
    "cv = RepeatedKFold(n_splits=10, n_repeats=3, random_state=1)\n",
    "scores = cross_val_score(model, x_z, y_z, scoring='neg_mean_absolute_error', cv=cv, n_jobs=-1)\n",
    "scores_RidgeCV = absolute(scores)\n",
    "print(\"Accuracy: %.3f%% (%.3f%%)\" % (scores_RidgeCV.mean()*100.0, scores_RidgeCV.std()*100.0))"
   ]
  },
  {
   "cell_type": "code",
   "execution_count": 46,
   "id": "154b3e54",
   "metadata": {
    "scrolled": true
   },
   "outputs": [
    {
     "name": "stdout",
     "output_type": "stream",
     "text": [
      "Accuracy: 100.039% (0.045%)\n"
     ]
    }
   ],
   "source": [
    "model = Lasso(alpha=1.0)\n",
    "cv = RepeatedKFold(n_splits=10, n_repeats=3, random_state=1)\n",
    "scores = cross_val_score(model, x_z, y_z, scoring='neg_mean_absolute_error', cv=cv, n_jobs=-1)\n",
    "scores_Lasso = absolute(scores)\n",
    "print(\"Accuracy: %.3f%% (%.3f%%)\" % (scores_Lasso.mean()*100.0, scores_Lasso.std()*100.0))"
   ]
  },
  {
   "cell_type": "code",
   "execution_count": 47,
   "id": "2e7ebfee",
   "metadata": {},
   "outputs": [
    {
     "name": "stdout",
     "output_type": "stream",
     "text": [
      "Ridge(alpha=10)\n",
      "R2 score :  0.24470858554878994\n",
      "Root Mean square error:  0.8689940436841422\n",
      "Mean square error:  0.7551506479585168\n",
      "Mean absolute error:  0.73279290589296\n"
     ]
    }
   ],
   "source": [
    "n_samples, n_features = 10, 5\n",
    "rng = np.random.RandomState(0)\n",
    "\n",
    "parameters = {'alpha':[1, 10]}\n",
    "\n",
    "model = Ridge()\n",
    "\n",
    "# define the grid search\n",
    "Ridge_reg= GridSearchCV(model, parameters, scoring='neg_mean_squared_error',cv=5)\n",
    "\n",
    "#fit the grid search\n",
    "Ridge_reg.fit(X_train,y_train)\n",
    "\n",
    "# best estimator\n",
    "print(Ridge_reg.best_estimator_)\n",
    "\n",
    "# best model\n",
    "best_model = Ridge_reg.best_estimator_\n",
    "best_model.fit(X_train,y_train)\n",
    "y_pred_rf_1 = Ridge_reg.predict(X_test)\n",
    "\n",
    "print(\"R2 score : \" , r2_score(y_test,y_pred_rf_1))\n",
    "print(\"Root Mean square error: \",np.sqrt(mean_squared_error(y_test, y_pred_rf_1)))\n",
    "print(\"Mean square error: \",mean_squared_error(y_test, y_pred_rf_1))\n",
    "print(\"Mean absolute error: \",mean_absolute_error(y_test, y_pred_rf_1))\n"
   ]
  },
  {
   "cell_type": "code",
   "execution_count": 48,
   "id": "2e9b503f",
   "metadata": {
    "scrolled": true
   },
   "outputs": [
    {
     "name": "stdout",
     "output_type": "stream",
     "text": [
      "Ridge(alpha=10)\n",
      "R2 score :  0.24470858554878994\n",
      "Root Mean square error:  0.8689940436841422\n",
      "Mean square error:  0.7551506479585168\n",
      "Mean absolute error:  0.73279290589296\n"
     ]
    }
   ],
   "source": [
    "n_samples, n_features = 10, 5\n",
    "rng = np.random.RandomState(0)\n",
    "\n",
    "parameters = {'alpha':[1, 10]}\n",
    "\n",
    "model = Ridge()\n",
    "\n",
    "# define the grid search\n",
    "Ridge_Rand= RandomizedSearchCV(model, parameters, scoring='neg_mean_squared_error',cv=5)\n",
    "\n",
    "#fit the grid search\n",
    "Ridge_Rand.fit(X_train,y_train)\n",
    "\n",
    "# best estimator\n",
    "print(Ridge_Rand.best_estimator_)\n",
    "\n",
    "# best model\n",
    "best_model_Rand = Ridge_Rand.best_estimator_\n",
    "best_model_Rand.fit(X_train,y_train)\n",
    "y_pred_Rand = Ridge_Rand.predict(X_test)\n",
    "\n",
    "print(\"R2 score : \" , r2_score(y_test,y_pred_Rand))\n",
    "print(\"Root Mean square error: \",np.sqrt(mean_squared_error(y_test, y_pred_Rand)))\n",
    "print(\"Mean square error: \",mean_squared_error(y_test, y_pred_Rand))\n",
    "print(\"Mean absolute error: \",mean_absolute_error(y_test, y_pred_Rand))"
   ]
  },
  {
   "cell_type": "markdown",
   "id": "e700ecb6",
   "metadata": {},
   "source": [
    "#### Comments\n",
    "<li> I have taken K-Fold for proceed further. Because it has data coverage of 76.088% with standard deviation of (12.592%).\n",
    "<li> Leave one out is not preferable\n",
    "    "
   ]
  },
  {
   "cell_type": "markdown",
   "id": "18139cce",
   "metadata": {},
   "source": [
    "#### Q5 C -Apply hyper-parameter tuning techniques to get the best accuracy."
   ]
  },
  {
   "cell_type": "markdown",
   "id": "78ae11a1",
   "metadata": {},
   "source": [
    "#### GridSearchCV - RandomForestRegressor"
   ]
  },
  {
   "cell_type": "code",
   "execution_count": 49,
   "id": "96e7dd7a",
   "metadata": {},
   "outputs": [
    {
     "name": "stdout",
     "output_type": "stream",
     "text": [
      "Fitting 5 folds for each of 432 candidates, totalling 2160 fits\n"
     ]
    },
    {
     "data": {
      "text/plain": [
       "{'max_depth': 8,\n",
       " 'max_features': 7,\n",
       " 'min_samples_leaf': 4,\n",
       " 'min_samples_split': 20,\n",
       " 'n_estimators': 12}"
      ]
     },
     "execution_count": 49,
     "metadata": {},
     "output_type": "execute_result"
    }
   ],
   "source": [
    "skf = KFold(n_splits=5)\n",
    "RF_model_3 = RandomForestRegressor()\n",
    "params = {\"n_estimators\": np.arange(10,16,2),\"max_depth\": np.arange(5, 9,1),\n",
    "          \"max_features\":np.arange(5,8,1),'min_samples_leaf': range(4, 12, 2),\n",
    "    'min_samples_split': range(20, 26, 2)}\n",
    "\n",
    "RF_GV_1 = GridSearchCV(estimator = RF_model_3, param_grid = params,cv=skf,verbose=1,return_train_score=True)\n",
    "RF_GV_1.fit(X_train, y_train)\n",
    "\n",
    "best_score_rf = RF_GV_1.best_score_\n",
    "best_rf = RF_GV_1.best_params_\n",
    "best_rf"
   ]
  },
  {
   "cell_type": "code",
   "execution_count": 119,
   "id": "472cd59d",
   "metadata": {},
   "outputs": [
    {
     "name": "stdout",
     "output_type": "stream",
     "text": [
      "0.5817488666431507\n"
     ]
    }
   ],
   "source": [
    "rf_best = RandomForestRegressor(max_depth= 8, max_features= 7,n_estimators=12,min_samples_leaf=4,min_samples_split=20)\n",
    "rf_best_fit = rf_best.fit(X_train, y_train)\n",
    "\n",
    "# predict\n",
    "y_pred_rf_1 = rf_best.predict(X_test)\n",
    "\n",
    "score_RF1 = cross_val_score(rf_best, X_train, y_train, cv = 5).mean()\n",
    "print(score_RF1)"
   ]
  },
  {
   "cell_type": "markdown",
   "id": "6fae5565",
   "metadata": {},
   "source": [
    "#### GridSearchCV - LogisticRegression"
   ]
  },
  {
   "cell_type": "code",
   "execution_count": 51,
   "id": "b306963f",
   "metadata": {},
   "outputs": [
    {
     "name": "stdout",
     "output_type": "stream",
     "text": [
      "Best: 0.793628 using {'C': 100, 'penalty': 'l2', 'solver': 'newton-cg'}\n"
     ]
    }
   ],
   "source": [
    "model = LogisticRegression()\n",
    "solvers = ['newton-cg', 'lbfgs', 'liblinear']\n",
    "penalty = ['l2']\n",
    "c_values = [100, 10, 1.0, 0.1, 0.01]\n",
    "\n",
    "# define grid search\n",
    "grid = dict(solver=solvers,penalty=penalty,C=c_values)\n",
    "cv = RepeatedStratifiedKFold(n_splits=10, n_repeats=3, random_state=1)\n",
    "grid_search = GridSearchCV(estimator=model, param_grid=grid, n_jobs=-1, cv=cv, scoring='accuracy',error_score=0)\n",
    "\n",
    "grid_result = grid_search.fit(X_train, y_train)\n",
    "\n",
    "y_pred_LR1 = grid_search.predict(X_test)\n",
    "\n",
    "print(\"Best: %f using %s\" % (grid_result.best_score_, grid_result.best_params_))\n"
   ]
  },
  {
   "cell_type": "code",
   "execution_count": 123,
   "id": "0c6cc51b",
   "metadata": {},
   "outputs": [
    {
     "name": "stdout",
     "output_type": "stream",
     "text": [
      "0.7932549019607844\n"
     ]
    }
   ],
   "source": [
    "model = LogisticRegression()\n",
    "solvers = ['newton-cg']\n",
    "penalty = ['l2']\n",
    "c_values = [100]\n",
    "\n",
    "# define grid search\n",
    "grid = dict(solver=solvers,penalty=penalty,C=c_values)\n",
    "cv = RepeatedStratifiedKFold(n_splits=10, n_repeats=3, random_state=1)\n",
    "grid_search = GridSearchCV(estimator=model, param_grid=grid, n_jobs=-1, cv=cv, scoring='accuracy',error_score=0)\n",
    "LR_best_fit = grid_search.fit(X_train, y_train)\n",
    "\n",
    "score_LR = cross_val_score(LR_best_fit, X_train, y_train, cv = 5).mean()\n",
    "print(score_LR)\n",
    "\n",
    "# predict\n",
    "y_pred_LR2 = LR_best_fit.predict(X_test)"
   ]
  },
  {
   "cell_type": "markdown",
   "id": "5928cd4a",
   "metadata": {},
   "source": [
    "#### GridSearchCV - GradientBoostingRegressor"
   ]
  },
  {
   "cell_type": "code",
   "execution_count": 53,
   "id": "a76b96d2",
   "metadata": {},
   "outputs": [
    {
     "name": "stdout",
     "output_type": "stream",
     "text": [
      "Fitting 30 folds for each of 270 candidates, totalling 8100 fits\n"
     ]
    },
    {
     "data": {
      "text/plain": [
       "{'learning_rate': 0.1,\n",
       " 'max_depth': 12,\n",
       " 'max_features': 5,\n",
       " 'min_samples_leaf': 16,\n",
       " 'n_estimators': 140}"
      ]
     },
     "execution_count": 53,
     "metadata": {},
     "output_type": "execute_result"
    }
   ],
   "source": [
    "GB_model_3=GradientBoostingRegressor()\n",
    "params = {\"n_estimators\": [130,140,2],\"learning_rate\":[0.09,0.1],\"max_depth\": np.arange(8, 14,2),\n",
    "          \"max_features\":np.arange(3,8,1),'min_samples_leaf': range(14, 20, 2)}\n",
    "cv = RepeatedStratifiedKFold(n_splits=10, n_repeats=3, random_state=1)\n",
    "GB_GV_1 = GridSearchCV(estimator = GB_model_3, param_grid = params,cv=cv,verbose=1,return_train_score=True)\n",
    "GB_GV_1.fit(X_train,y_train) \n",
    "\n",
    "#parameters best value\n",
    "best_score_rf = GB_GV_1.best_score_\n",
    "best_gb = GB_GV_1.best_params_\n",
    "best_gb"
   ]
  },
  {
   "cell_type": "code",
   "execution_count": 124,
   "id": "e703fd2b",
   "metadata": {},
   "outputs": [
    {
     "name": "stdout",
     "output_type": "stream",
     "text": [
      "0.8474065853751117\n"
     ]
    }
   ],
   "source": [
    "gb_best = GradientBoostingRegressor(learning_rate= 0.1, n_estimators= 140,max_depth= 12, \n",
    "                                           max_features= 5,min_samples_leaf=16)\n",
    "\n",
    "GB_best_fit = gb_best.fit(X_train, y_train)\n",
    "\n",
    "# predict\n",
    "y_pred_gb_1 = GB_best_fit.predict(X_test)\n",
    "\n",
    "score_GB = cross_val_score(GB_best_fit, X_train, y_train, cv = 5).mean()\n",
    "print(score_GB)"
   ]
  },
  {
   "cell_type": "markdown",
   "id": "98a96c0f",
   "metadata": {},
   "source": [
    "#### XGBRegressor"
   ]
  },
  {
   "cell_type": "code",
   "execution_count": 55,
   "id": "c783fe3b",
   "metadata": {},
   "outputs": [
    {
     "name": "stdout",
     "output_type": "stream",
     "text": [
      "Fitting 30 folds for each of 216 candidates, totalling 6480 fits\n"
     ]
    },
    {
     "data": {
      "text/plain": [
       "{'colsample_bytree': 0.5,\n",
       " 'learning_rate': 0.2,\n",
       " 'n_estimators': 184,\n",
       " 'subsample': 0.74}"
      ]
     },
     "execution_count": 55,
     "metadata": {},
     "output_type": "execute_result"
    }
   ],
   "source": [
    "XGB_model_3=XGBRegressor(objective='reg:squarederror')\n",
    "params1 = {\n",
    "    \"colsample_bytree\": [i/100.0 for i in range(48,54,1)],\n",
    "    \"learning_rate\": [0.2,0.22,0.24], \n",
    "    \"n_estimators\": [174,184,2],\n",
    "    \"subsample\": [i/100.0 for i in range(74,78,1)]\n",
    "}\n",
    "\n",
    "cv = RepeatedStratifiedKFold(n_splits=10, n_repeats=3, random_state=1)\n",
    "XGB_GV_3 = GridSearchCV(estimator = XGB_model_3, param_grid = params1, \n",
    "                        cv=cv,\n",
    "                        verbose = 1,\n",
    "                       return_train_score=True) \n",
    "XGB_GV_3.fit(X_train,y_train) \n",
    "\n",
    "# results of grid search CV\n",
    "XGB_results_3 = pd.DataFrame(XGB_GV_3.cv_results_)\n",
    "\n",
    "#parameters best value\n",
    "best_score_xgb_3 = XGB_GV_3.best_score_\n",
    "best_xgb_3 = XGB_GV_3.best_params_\n",
    "best_xgb_3"
   ]
  },
  {
   "cell_type": "code",
   "execution_count": 125,
   "id": "b0bb33b9",
   "metadata": {},
   "outputs": [
    {
     "name": "stdout",
     "output_type": "stream",
     "text": [
      "0.8071536641880295\n"
     ]
    }
   ],
   "source": [
    "xgb_best_3 = XGBRegressor(colsample_bytree=0.5,learning_rate=0.2,n_estimators=184,subsample=0.74,objective='reg:squarederror')\n",
    "XGB_best_fit = xgb_best_3.fit(X_train, y_train)\n",
    "\n",
    "# predict\n",
    "y_pred_xgb_3 = XGB_best_fit.predict(X_test)\n",
    "\n",
    "score_XGB = cross_val_score(XGB_best_fit, X_train, y_train, cv = 5).mean()\n",
    "print(score_XGB)"
   ]
  },
  {
   "cell_type": "markdown",
   "id": "9982dcb2",
   "metadata": {},
   "source": [
    "#### RandomizedSearchCV - Ridge"
   ]
  },
  {
   "cell_type": "code",
   "execution_count": 57,
   "id": "43d3f461",
   "metadata": {},
   "outputs": [
    {
     "name": "stdout",
     "output_type": "stream",
     "text": [
      "Best Hyperparameters: {'alpha': 52.004418842705064, 'fit_intercept': True, 'normalize': False, 'solver': 'sag'}\n"
     ]
    }
   ],
   "source": [
    "model = Ridge()\n",
    "# define evaluation\n",
    "cv = RepeatedKFold(n_splits=10, n_repeats=3, random_state=1)\n",
    "\n",
    "# define search space\n",
    "space = dict()\n",
    "space['solver'] = ['svd', 'cholesky', 'lsqr', 'sag']\n",
    "space['alpha'] = loguniform(1e-5, 100)\n",
    "space['fit_intercept'] = [True, False]\n",
    "space['normalize'] = [True, False]\n",
    "\n",
    "# define search\n",
    "search = RandomizedSearchCV(model, space, n_iter=500, scoring='neg_mean_absolute_error', n_jobs=-1, cv=cv, random_state=1)\n",
    "\n",
    "# execute search\n",
    "result = search.fit(X_train, y_train)\n",
    "scores_RandCV = result\n",
    "\n",
    "print('Best Hyperparameters: %s' % scores_RandCV.best_params_)"
   ]
  },
  {
   "cell_type": "code",
   "execution_count": 126,
   "id": "6592e090",
   "metadata": {},
   "outputs": [
    {
     "name": "stdout",
     "output_type": "stream",
     "text": [
      "0.143946792726139\n"
     ]
    }
   ],
   "source": [
    "model_ridge = Ridge(solver = 'sag', alpha = 52.004418842705064,fit_intercept = True, normalize = False)\n",
    "Ridge_best_fit = model_ridge.fit(X_train, y_train)\n",
    "\n",
    "# predict\n",
    "y_pred_Rand_4 = Ridge_best_fit.predict(X_test)\n",
    "\n",
    "score_RS_CV = cross_val_score(Ridge_best_fit, X_train, y_train, cv = 5).mean()\n",
    "print(score_RS_CV)"
   ]
  },
  {
   "cell_type": "markdown",
   "id": "e41e3550",
   "metadata": {},
   "source": [
    "#### GradientBoostingRegressor - RandomizedSearch"
   ]
  },
  {
   "cell_type": "code",
   "execution_count": 59,
   "id": "a3475f13",
   "metadata": {},
   "outputs": [
    {
     "name": "stdout",
     "output_type": "stream",
     "text": [
      "\n",
      " The best parameters across ALL searched params:\n",
      " {'learning_rate': 0.07253990903436469, 'max_depth': 6, 'n_estimators': 291, 'subsample': 0.16915897597931195}\n"
     ]
    }
   ],
   "source": [
    "model = GradientBoostingRegressor()\n",
    "parameters = {'learning_rate': sp_randFloat(),\n",
    "                  'subsample'    : sp_randFloat(),\n",
    "                  'n_estimators' : sp_randInt(100, 1000),\n",
    "                  'max_depth'    : sp_randInt(4, 10)\n",
    "                 }\n",
    "cv = RepeatedKFold(n_splits=10, n_repeats=3, random_state=1)\n",
    "randm_src = RandomizedSearchCV(estimator=model, param_distributions = parameters,\n",
    "                               cv = cv, n_iter = 10, n_jobs=-1)\n",
    "randm_src.fit(X_train, y_train)\n",
    "print(\"\\n The best parameters across ALL searched params:\\n\", randm_src.best_params_)"
   ]
  },
  {
   "cell_type": "code",
   "execution_count": 127,
   "id": "18fca1d4",
   "metadata": {},
   "outputs": [
    {
     "name": "stdout",
     "output_type": "stream",
     "text": [
      "0.8101422908818042\n"
     ]
    }
   ],
   "source": [
    "model_GBR = GradientBoostingRegressor(learning_rate = 0.07253990903436469,subsample = 0.16915897597931195, \n",
    "                                      n_estimators = 291, max_depth = 6)\n",
    "GBR_best_fit = model_GBR.fit(X_train, y_train)\n",
    "\n",
    "# predict\n",
    "y_pred_GBR = GBR_best_fit.predict(X_test)\n",
    "\n",
    "score_GBR_CV = cross_val_score(GBR_best_fit, X_train, y_train, cv = 5).mean()\n",
    "print(score_GBR_CV)"
   ]
  },
  {
   "cell_type": "markdown",
   "id": "ddb75394",
   "metadata": {},
   "source": [
    "#### Q5 D -Use any other technique/method which can enhance the model performance"
   ]
  },
  {
   "cell_type": "code",
   "execution_count": 61,
   "id": "3f9a25bf",
   "metadata": {},
   "outputs": [
    {
     "name": "stdout",
     "output_type": "stream",
     "text": [
      "[[ 1.00034188  0.00344376 -0.01477923 ...  0.0785797   0.00729252\n",
      "  -0.05695201]\n",
      " [ 0.00344376  1.00034188  0.0421981  ... -0.02525818 -0.02175865\n",
      "  -0.04673661]\n",
      " [-0.01477923  0.0421981   1.00034188 ...  0.02359179 -0.0125584\n",
      "  -0.06044331]\n",
      " ...\n",
      " [ 0.0785797  -0.02525818  0.02359179 ...  1.00034188 -0.01006146\n",
      "  -0.02411066]\n",
      " [ 0.00729252 -0.02175865 -0.0125584  ... -0.01006146  1.00034188\n",
      "  -0.0060635 ]\n",
      " [-0.05695201 -0.04673661 -0.06044331 ... -0.02411066 -0.0060635\n",
      "   1.00034188]]\n"
     ]
    }
   ],
   "source": [
    "covMatrix = np.cov(x_z,rowvar=False)\n",
    "print(covMatrix)"
   ]
  },
  {
   "cell_type": "code",
   "execution_count": 62,
   "id": "51ba2faf",
   "metadata": {},
   "outputs": [
    {
     "name": "stdout",
     "output_type": "stream",
     "text": [
      "[[ 1.57324848e-01  3.90622951e-02 -9.92908056e-02 ... -1.59464477e-02\n",
      "   1.61236283e-02  7.08728480e-02]\n",
      " [-9.94202231e-02 -2.33279585e-02  4.74761377e-03 ...  4.04662870e-03\n",
      "   1.51343872e-02  1.19190123e-02]\n",
      " [ 1.57307275e-01 -1.06045813e-01  7.83161374e-02 ...  4.16238137e-02\n",
      "   2.89452060e-03 -4.94844140e-02]\n",
      " ...\n",
      " [ 5.54168276e-03 -8.26915298e-04  6.51562235e-04 ...  8.38681241e-02\n",
      "   9.54261245e-03 -2.23148688e-02]\n",
      " [ 3.31947114e-03 -7.52223931e-03 -6.00527707e-03 ... -3.53507368e-03\n",
      "  -1.81019392e-02 -1.72727641e-02]\n",
      " [-1.96711835e-02  1.01504239e-02  3.43992037e-03 ... -8.68538349e-03\n",
      "  -9.85316949e-03 -4.47307128e-05]]\n",
      "[0.05562376 0.04924538 0.03671201 0.02732136 0.02517999 0.02411578\n",
      " 0.02213377 0.02140601 0.02062642 0.02022158 0.01952449 0.01876844\n",
      " 0.01830848 0.01763169 0.01738886 0.01723102 0.01636107 0.01615512\n",
      " 0.01565153 0.01533456 0.01501176 0.01464236 0.01442793 0.01417997\n",
      " 0.01378549 0.01319335 0.01291441 0.0127275  0.01255875 0.01236843\n",
      " 0.01212881 0.01200411 0.01193491 0.01175467 0.01155332 0.01137311\n",
      " 0.01117239 0.01104811 0.01091165 0.01046631 0.01029494 0.0101377\n",
      " 0.00999751 0.00988013 0.00966651 0.00930016 0.00920235 0.00900747\n",
      " 0.0088457  0.00869122 0.00858759 0.00844432 0.00826096 0.00802646\n",
      " 0.0078392  0.00777513 0.00771694 0.00738969 0.007271   0.00719628\n",
      " 0.00699779 0.00687122 0.00654061 0.00644138 0.00589731 0.00584938\n",
      " 0.00558739 0.00541442 0.00513467 0.00487233 0.00462177 0.00441661\n",
      " 0.00410133 0.00406452 0.00366105 0.00343822 0.00285336 0.00280755\n",
      " 0.00269218 0.00224322 0.00208237 0.00147258 0.00142035 0.00136533\n",
      " 0.00052312]\n"
     ]
    }
   ],
   "source": [
    "pca85 = PCA(n_components=85)\n",
    "pca85.fit(x_z)\n",
    "print(pca85.components_)\n",
    "print(pca85.explained_variance_ratio_)\n",
    "Xpca85 = pca85.transform(x_z)"
   ]
  },
  {
   "cell_type": "markdown",
   "id": "325b0f43",
   "metadata": {},
   "source": [
    "#### Comments\n",
    "<li> To achive 90% of data coverage, we need to choose n_components = 85. Else we will get only ~40% of data coverage. So, I'm assuming that all the 85 features are important to proceed further."
   ]
  },
  {
   "cell_type": "code",
   "execution_count": 63,
   "id": "1bb69788",
   "metadata": {
    "scrolled": true
   },
   "outputs": [
    {
     "data": {
      "image/png": "[encoded data removed]",
      "text/plain": [
       "<Figure size 432x288 with 1 Axes>"
      ]
     },
     "metadata": {
      "needs_background": "light"
     },
     "output_type": "display_data"
    }
   ],
   "source": [
    "plt.step(list(range(1,86)),np.cumsum(pca85.explained_variance_ratio_), where='mid')\n",
    "plt.ylabel('Cum. of variation explained')\n",
    "plt.xlabel('eigen Value')\n",
    "plt.axhline(y = 0.95, color = 'r', linestyle = '-')\n",
    "plt.show()"
   ]
  },
  {
   "cell_type": "code",
   "execution_count": 64,
   "id": "a99fe0cb",
   "metadata": {},
   "outputs": [
    {
     "name": "stdout",
     "output_type": "stream",
     "text": [
      "[[ 1.57324848e-01  3.90622951e-02 -9.92908056e-02 ... -1.59464477e-02\n",
      "   1.61236283e-02  7.08728480e-02]\n",
      " [-9.94202231e-02 -2.33279585e-02  4.74761377e-03 ...  4.04662870e-03\n",
      "   1.51343872e-02  1.19190123e-02]\n",
      " [ 1.57307275e-01 -1.06045813e-01  7.83161374e-02 ...  4.16238137e-02\n",
      "   2.89452060e-03 -4.94844140e-02]\n",
      " ...\n",
      " [ 1.03274419e-01  8.67935458e-02 -2.35292889e-01 ...  3.60219650e-02\n",
      "  -9.73374344e-05 -4.12355261e-02]\n",
      " [ 1.76255755e-01 -1.28736978e-01 -2.25586079e-01 ... -3.14554631e-02\n",
      "   6.94017496e-03 -5.49434454e-02]\n",
      " [ 6.96487559e-02  7.10312287e-02  8.62689706e-03 ... -4.52615221e-02\n",
      "  -3.82668767e-02  1.74624296e-02]]\n",
      "[0.05562376 0.04924538 0.03671201 0.02732136 0.02517999 0.02411578\n",
      " 0.02213377 0.02140601 0.02062642 0.02022158 0.01952449 0.01876844\n",
      " 0.01830848 0.01763169 0.01738886 0.01723102 0.01636107 0.01615512\n",
      " 0.01565153 0.01533456 0.01501176 0.01464236 0.01442793 0.01417997\n",
      " 0.01378549 0.01319335 0.01291441 0.0127275  0.01255875 0.01236843\n",
      " 0.01212881 0.01200411 0.01193491 0.01175467 0.01155332 0.01137311\n",
      " 0.01117239 0.01104811 0.01091165 0.01046631 0.01029494 0.0101377\n",
      " 0.00999751 0.00988013 0.00966651 0.00930016 0.00920235 0.00900747\n",
      " 0.0088457  0.00869122 0.00858759 0.00844432 0.00826096 0.00802646\n",
      " 0.0078392  0.00777513 0.00771694 0.00738969 0.007271   0.00719628\n",
      " 0.00699779 0.00687122 0.00654061 0.00644138 0.00589731 0.00584938\n",
      " 0.00558739 0.00541442 0.00513467 0.00487233]\n"
     ]
    }
   ],
   "source": [
    "pca60 = PCA(n_components=70)\n",
    "pca60.fit(x_z)\n",
    "print(pca60.components_)\n",
    "print(pca60.explained_variance_ratio_)\n",
    "Xpca60 = pca60.transform(x_z)"
   ]
  },
  {
   "cell_type": "code",
   "execution_count": 65,
   "id": "fbcb197c",
   "metadata": {},
   "outputs": [
    {
     "name": "stdout",
     "output_type": "stream",
     "text": [
      "[[ 0.36998371 -0.37862807 -1.61398325 ... -0.23303877  0.30015811\n",
      "  -0.30181016]\n",
      " [-0.88701751  0.16754614 -0.96075103 ...  0.24192496 -0.70802553\n",
      "   0.02382975]\n",
      " [ 0.84749969  0.87736139 -2.32774439 ... -0.75451634  0.23995891\n",
      "  -0.56133446]\n",
      " ...\n",
      " [-0.39959021  0.85271613  0.40017657 ... -0.41442457  0.01085526\n",
      "  -0.71827758]\n",
      " [ 0.05591779  0.74945011 -1.32988247 ... -0.31689277  0.27959955\n",
      "  -0.15169437]\n",
      " [ 0.46445464 -0.51675685 -2.99943033 ...  0.38694229  0.31879122\n",
      "   0.11325642]]\n"
     ]
    }
   ],
   "source": [
    "print(Xpca60)"
   ]
  },
  {
   "cell_type": "markdown",
   "id": "5c9911d7",
   "metadata": {},
   "source": [
    "#### Q5 E -Display and explain the classification report in detail"
   ]
  },
  {
   "cell_type": "code",
   "execution_count": 86,
   "id": "cd5c979d",
   "metadata": {},
   "outputs": [
    {
     "name": "stdout",
     "output_type": "stream",
     "text": [
      "                                 OLS Regression Results                                \n",
      "=======================================================================================\n",
      "Dep. Variable:                      y   R-squared (uncentered):                   0.326\n",
      "Model:                            OLS   Adj. R-squared (uncentered):              0.309\n",
      "Method:                 Least Squares   F-statistic:                              19.72\n",
      "Date:                Sun, 29 Jan 2023   Prob (F-statistic):                   8.57e-193\n",
      "Time:                        15:50:39   Log-Likelihood:                         -3575.0\n",
      "No. Observations:                2926   AIC:                                      7290.\n",
      "Df Residuals:                    2856   BIC:                                      7709.\n",
      "Df Model:                          70                                                  \n",
      "Covariance Type:            nonrobust                                                  \n",
      "==============================================================================\n",
      "                 coef    std err          t      P>|t|      [0.025      0.975]\n",
      "------------------------------------------------------------------------------\n",
      "x1             0.0849      0.007     12.015      0.000       0.071       0.099\n",
      "x2             0.0054      0.008      0.716      0.474      -0.009       0.020\n",
      "x3            -0.0533      0.009     -6.131      0.000      -0.070      -0.036\n",
      "x4             0.1875      0.010     18.597      0.000       0.168       0.207\n",
      "x5            -0.0074      0.011     -0.709      0.479      -0.028       0.013\n",
      "x6            -0.0561      0.011     -5.225      0.000      -0.077      -0.035\n",
      "x7            -0.0930      0.011     -8.306      0.000      -0.115      -0.071\n",
      "x8             0.0835      0.011      7.333      0.000       0.061       0.106\n",
      "x9             0.0534      0.012      4.599      0.000       0.031       0.076\n",
      "x10           -0.0224      0.012     -1.911      0.056      -0.045       0.001\n",
      "x11            0.0129      0.012      1.081      0.280      -0.010       0.036\n",
      "x12           -0.0655      0.012     -5.386      0.000      -0.089      -0.042\n",
      "x13            0.0430      0.012      3.492      0.000       0.019       0.067\n",
      "x14            0.0445      0.013      3.549      0.000       0.020       0.069\n",
      "x15            0.0019      0.013      0.153      0.879      -0.023       0.027\n",
      "x16            0.0125      0.013      0.987      0.324      -0.012       0.037\n",
      "x17           -0.0809      0.013     -6.208      0.000      -0.106      -0.055\n",
      "x18            0.0970      0.013      7.396      0.000       0.071       0.123\n",
      "x19           -0.0275      0.013     -2.063      0.039      -0.054      -0.001\n",
      "x20           -0.0620      0.013     -4.607      0.000      -0.088      -0.036\n",
      "x21           -0.0128      0.014     -0.943      0.346      -0.039       0.014\n",
      "x22            0.0411      0.014      2.984      0.003       0.014       0.068\n",
      "x23           -0.0797      0.014     -5.741      0.000      -0.107      -0.052\n",
      "x24            0.0053      0.014      0.378      0.705      -0.022       0.033\n",
      "x25           -0.0096      0.014     -0.673      0.501      -0.037       0.018\n",
      "x26           -0.0319      0.015     -2.201      0.028      -0.060      -0.003\n",
      "x27            0.0356      0.015      2.425      0.015       0.007       0.064\n",
      "x28            0.0502      0.015      3.401      0.001       0.021       0.079\n",
      "x29            0.0576      0.015      3.870      0.000       0.028       0.087\n",
      "x30           -0.0408      0.015     -2.724      0.006      -0.070      -0.011\n",
      "x31            0.0182      0.015      1.201      0.230      -0.011       0.048\n",
      "x32            0.0150      0.015      0.986      0.324      -0.015       0.045\n",
      "x33           -0.0612      0.015     -4.011      0.000      -0.091      -0.031\n",
      "x34            0.0392      0.015      2.551      0.011       0.009       0.069\n",
      "x35           -0.0328      0.016     -2.117      0.034      -0.063      -0.002\n",
      "x36            0.0226      0.016      1.445      0.148      -0.008       0.053\n",
      "x37           -0.0269      0.016     -1.703      0.089      -0.058       0.004\n",
      "x38            0.1001      0.016      6.314      0.000       0.069       0.131\n",
      "x39           -0.0313      0.016     -1.959      0.050      -0.063    2.51e-05\n",
      "x40           -0.1026      0.016     -6.297      0.000      -0.135      -0.071\n",
      "x41           -0.0498      0.016     -3.031      0.002      -0.082      -0.018\n",
      "x42           -0.0039      0.017     -0.235      0.814      -0.036       0.029\n",
      "x43           -0.0951      0.017     -5.706      0.000      -0.128      -0.062\n",
      "x44            0.0312      0.017      1.862      0.063      -0.002       0.064\n",
      "x45            0.0262      0.017      1.543      0.123      -0.007       0.059\n",
      "x46            0.0642      0.017      3.714      0.000       0.030       0.098\n",
      "x47           -0.0064      0.017     -0.371      0.711      -0.041       0.028\n",
      "x48            0.0024      0.018      0.139      0.890      -0.032       0.037\n",
      "x49            0.0341      0.018      1.922      0.055      -0.001       0.069\n",
      "x50            0.1115      0.018      6.237      0.000       0.076       0.147\n",
      "x51           -0.0756      0.018     -4.201      0.000      -0.111      -0.040\n",
      "x52           -0.0076      0.018     -0.418      0.676      -0.043       0.028\n",
      "x53           -0.0673      0.018     -3.673      0.000      -0.103      -0.031\n",
      "x54            0.0074      0.019      0.397      0.691      -0.029       0.044\n",
      "x55            0.0293      0.019      1.558      0.119      -0.008       0.066\n",
      "x56            0.0993      0.019      5.254      0.000       0.062       0.136\n",
      "x57           -0.0322      0.019     -1.699      0.089      -0.069       0.005\n",
      "x58            0.0559      0.019      2.885      0.004       0.018       0.094\n",
      "x59            0.0244      0.020      1.249      0.212      -0.014       0.063\n",
      "x60            0.0045      0.020      0.227      0.820      -0.034       0.043\n",
      "x61           -0.0373      0.020     -1.871      0.061      -0.076       0.002\n",
      "x62           -0.0104      0.020     -0.517      0.605      -0.050       0.029\n",
      "x63           -0.1507      0.021     -7.312      0.000      -0.191      -0.110\n",
      "x64           -0.0603      0.021     -2.902      0.004      -0.101      -0.020\n",
      "x65           -0.0652      0.022     -3.006      0.003      -0.108      -0.023\n",
      "x66            0.0430      0.022      1.971      0.049       0.000       0.086\n",
      "x67            0.0150      0.022      0.674      0.501      -0.029       0.059\n",
      "x68            0.1192      0.023      5.264      0.000       0.075       0.164\n",
      "x69            0.0329      0.023      1.416      0.157      -0.013       0.079\n",
      "x70           -0.0705      0.024     -2.951      0.003      -0.117      -0.024\n",
      "==============================================================================\n",
      "Omnibus:                      310.499   Durbin-Watson:                   0.774\n",
      "Prob(Omnibus):                  0.000   Jarque-Bera (JB):              109.032\n",
      "Skew:                          -0.224   Prob(JB):                     2.11e-24\n",
      "Kurtosis:                       2.167   Cond. No.                         3.38\n",
      "==============================================================================\n",
      "\n",
      "Notes:\n",
      "[1] R² is computed without centering (uncentered) since the model does not contain a constant.\n",
      "[2] Standard Errors assume that the covariance matrix of the errors is correctly specified.\n"
     ]
    }
   ],
   "source": [
    "import statsmodels.api as sm1\n",
    "lm2=sm1.OLS(y_z,Xpca60).fit()\n",
    "print(lm2.summary())"
   ]
  },
  {
   "cell_type": "code",
   "execution_count": 128,
   "id": "2b0ec5fa",
   "metadata": {},
   "outputs": [
    {
     "name": "stdout",
     "output_type": "stream",
     "text": [
      "RF Train accuracy :  0.7707154335278528\n",
      "RF Test accuracy:  0.624597066475918\n",
      "RF Val accuracy:  0.6263269784267638\n"
     ]
    }
   ],
   "source": [
    "RF_best_train_score = rf_best_fit.score(X_train,y_train)\n",
    "RF_best_test_score = rf_best_fit.score(X_test,y_test)\n",
    "RF_best_val_score = rf_best_fit.score(X_val,y_val)\n",
    "print(\"RF Train accuracy : \", RF_best_train_score)\n",
    "print(\"RF Test accuracy: \", RF_best_test_score )\n",
    "print(\"RF Val accuracy: \", RF_best_val_score)"
   ]
  },
  {
   "cell_type": "code",
   "execution_count": 129,
   "id": "f9efa34e",
   "metadata": {},
   "outputs": [
    {
     "name": "stdout",
     "output_type": "stream",
     "text": [
      "LR Train accuracy :  0.8141025641025641\n",
      "LR Test accuracy:  0.7627986348122867\n",
      "LR Val accuracy:  0.7628205128205128\n"
     ]
    }
   ],
   "source": [
    "LR_best_train_score = LR_best_fit.score(X_train,y_train)\n",
    "LR_best_test_score = LR_best_fit.score(X_test,y_test)\n",
    "LR_best_val_score = LR_best_fit.score(X_val,y_val)\n",
    "print(\"LR Train accuracy : \", LR_best_train_score)\n",
    "print(\"LR Test accuracy: \", LR_best_test_score)\n",
    "print(\"LR Val accuracy: \", LR_best_val_score)"
   ]
  },
  {
   "cell_type": "code",
   "execution_count": 130,
   "id": "b6da465b",
   "metadata": {},
   "outputs": [
    {
     "name": "stdout",
     "output_type": "stream",
     "text": [
      "GB Train accuracy :  0.9987231715589835\n",
      "GB Test accuracy:  0.8581864270368108\n",
      "GB Val accuracy:  0.8682707287641047\n"
     ]
    }
   ],
   "source": [
    "GB_best_train_score = GB_best_fit.score(X_train,y_train)\n",
    "GB_best_test_score = GB_best_fit.score(X_test,y_test)\n",
    "GB_best_val_score = GB_best_fit.score(X_val,y_val)\n",
    "print(\"GB Train accuracy : \", GB_best_train_score)\n",
    "print(\"GB Test accuracy: \", GB_best_test_score)\n",
    "print(\"GB Val accuracy: \", GB_best_val_score)"
   ]
  },
  {
   "cell_type": "code",
   "execution_count": 131,
   "id": "701f82aa",
   "metadata": {},
   "outputs": [
    {
     "name": "stdout",
     "output_type": "stream",
     "text": [
      "XGB Train accuracy:  0.9999125393851797\n",
      "XGB Test accuracy:  0.8161025227556317\n",
      "XGB Val accuracy:  0.8316057559923408\n"
     ]
    }
   ],
   "source": [
    "XGB_best_train_score = XGB_best_fit.score(X_train,y_train)\n",
    "XGB_best_test_score = XGB_best_fit.score(X_test,y_test)\n",
    "XGB_best_val_score = XGB_best_fit.score(X_val,y_val)\n",
    "print(\"XGB Train accuracy: \", XGB_best_train_score)\n",
    "print(\"XGB Test accuracy: \", XGB_best_test_score)\n",
    "print(\"XGB Val accuracy: \", XGB_best_val_score)"
   ]
  },
  {
   "cell_type": "code",
   "execution_count": 132,
   "id": "26b247b6",
   "metadata": {},
   "outputs": [
    {
     "name": "stdout",
     "output_type": "stream",
     "text": [
      "RidgeCV Train accuracy:  0.3903684851382272\n",
      "RidgeCV Test accuracy:  0.2516443047480569\n",
      "RidgeCV Val accuracy:  0.2478515676240154\n"
     ]
    }
   ],
   "source": [
    "Ridge_best_train_score = Ridge_best_fit.score(X_train,y_train)\n",
    "Ridge_best_test_score = Ridge_best_fit.score(X_test,y_test)\n",
    "Ridge_best_val_score = Ridge_best_fit.score(X_val,y_val)\n",
    "print(\"RidgeCV Train accuracy: \", Ridge_best_train_score)\n",
    "print(\"RidgeCV Test accuracy: \", Ridge_best_test_score)\n",
    "print(\"RidgeCV Val accuracy: \", Ridge_best_val_score)"
   ]
  },
  {
   "cell_type": "code",
   "execution_count": 133,
   "id": "a4beabd1",
   "metadata": {},
   "outputs": [
    {
     "name": "stdout",
     "output_type": "stream",
     "text": [
      "GBR Train accuracy :  0.9911388655246143\n",
      "GBR Test accuracy:  0.8226309257619343\n",
      "GBR Val accuracy:  0.840403628045869\n"
     ]
    }
   ],
   "source": [
    "GBR_best_train_score = GBR_best_fit.score(X_train,y_train)\n",
    "GBR_best_test_score = GBR_best_fit.score(X_test,y_test)\n",
    "GBR_best_val_score = GBR_best_fit.score(X_val,y_val)\n",
    "print(\"GBR Train accuracy : \", GBR_best_train_score)\n",
    "print(\"GBR Test accuracy: \", GBR_best_test_score)\n",
    "print(\"GBR Val accuracy: \", GBR_best_val_score)"
   ]
  },
  {
   "cell_type": "code",
   "execution_count": 135,
   "id": "e80b9d94",
   "metadata": {},
   "outputs": [
    {
     "data": {
      "text/html": [
       "<div>\n",
       "<style scoped>\n",
       "    .dataframe tbody tr th:only-of-type {\n",
       "        vertical-align: middle;\n",
       "    }\n",
       "\n",
       "    .dataframe tbody tr th {\n",
       "        vertical-align: top;\n",
       "    }\n",
       "\n",
       "    .dataframe thead th {\n",
       "        text-align: right;\n",
       "    }\n",
       "</style>\n",
       "<table border=\"1\" class=\"dataframe\">\n",
       "  <thead>\n",
       "    <tr style=\"text-align: right;\">\n",
       "      <th></th>\n",
       "      <th>Train Accuracy</th>\n",
       "      <th>Test Accuracy</th>\n",
       "      <th>validation Accuracy</th>\n",
       "    </tr>\n",
       "  </thead>\n",
       "  <tbody>\n",
       "    <tr>\n",
       "      <th>RF_GridSearch</th>\n",
       "      <td>0.770715</td>\n",
       "      <td>0.624597</td>\n",
       "      <td>0.626327</td>\n",
       "    </tr>\n",
       "    <tr>\n",
       "      <th>LR_GridSearch</th>\n",
       "      <td>0.814103</td>\n",
       "      <td>0.762799</td>\n",
       "      <td>0.762821</td>\n",
       "    </tr>\n",
       "    <tr>\n",
       "      <th>GB_GridSearch</th>\n",
       "      <td>0.998723</td>\n",
       "      <td>0.858186</td>\n",
       "      <td>0.868271</td>\n",
       "    </tr>\n",
       "    <tr>\n",
       "      <th>XGB_GridSearch</th>\n",
       "      <td>0.999913</td>\n",
       "      <td>0.816103</td>\n",
       "      <td>0.831606</td>\n",
       "    </tr>\n",
       "    <tr>\n",
       "      <th>Ridge_RandomSearch</th>\n",
       "      <td>0.390368</td>\n",
       "      <td>0.251644</td>\n",
       "      <td>0.247852</td>\n",
       "    </tr>\n",
       "    <tr>\n",
       "      <th>GB_RandomSearch</th>\n",
       "      <td>0.991139</td>\n",
       "      <td>0.822631</td>\n",
       "      <td>0.840404</td>\n",
       "    </tr>\n",
       "  </tbody>\n",
       "</table>\n",
       "</div>"
      ],
      "text/plain": [
       "                    Train Accuracy  Test Accuracy  validation Accuracy\n",
       "RF_GridSearch             0.770715       0.624597             0.626327\n",
       "LR_GridSearch             0.814103       0.762799             0.762821\n",
       "GB_GridSearch             0.998723       0.858186             0.868271\n",
       "XGB_GridSearch            0.999913       0.816103             0.831606\n",
       "Ridge_RandomSearch        0.390368       0.251644             0.247852\n",
       "GB_RandomSearch           0.991139       0.822631             0.840404"
      ]
     },
     "execution_count": 135,
     "metadata": {},
     "output_type": "execute_result"
    }
   ],
   "source": [
    "pd.DataFrame([[RF_best_train_score, RF_best_test_score, RF_best_val_score], \n",
    "              [LR_best_train_score, LR_best_test_score, LR_best_val_score], \n",
    "              [GB_best_train_score, GB_best_test_score, GB_best_val_score], \n",
    "              [XGB_best_train_score, XGB_best_test_score, XGB_best_val_score], \n",
    "              [Ridge_best_train_score,Ridge_best_test_score, Ridge_best_val_score],\n",
    "              [GBR_best_train_score,GBR_best_test_score, GBR_best_val_score]],\n",
    "             index = ['RF_GridSearch', 'LR_GridSearch', 'GB_GridSearch','XGB_GridSearch',\n",
    "                      'Ridge_RandomSearch', 'GB_RandomSearch' ], columns = ['Train Accuracy', 'Test Accuracy', 'validation Accuracy'])"
   ]
  },
  {
   "cell_type": "markdown",
   "id": "94842fc3",
   "metadata": {},
   "source": [
    "#### Comments\n",
    "<li> From the above table, we can clearly see that the GradiantBooster with GridSearchCV have almost equal accuracy for Train, Test and Validation set.\n",
    "<li> Therefore GB_GridSearch model is the best option for this case."
   ]
  },
  {
   "cell_type": "markdown",
   "id": "38ad6b27",
   "metadata": {},
   "source": [
    "#### Q5 F -Apply the above steps for all possible models that you have learnt so far."
   ]
  },
  {
   "cell_type": "code",
   "execution_count": 68,
   "id": "140627bb",
   "metadata": {},
   "outputs": [
    {
     "name": "stdout",
     "output_type": "stream",
     "text": [
      "X_train shape: (1872, 70)\n",
      "X_test shape: (586, 70)\n",
      "y_train shape: (1872,)\n",
      "y_test shape: (586,)\n",
      "X_val shape: (468, 70)\n",
      "y_val shape: (468,)\n"
     ]
    }
   ],
   "source": [
    "X_train_pca, X_test_pca, y_train_pca, y_test_pca = train_test_split(Xpca60, y_z,\n",
    "    test_size=0.2, shuffle = True, random_state = 8)\n",
    "\n",
    "# Validation set\n",
    "X_train_pca, X_val_pca, y_train_pca, y_val_pca = train_test_split(X_train_pca, y_train_pca, \n",
    "    test_size=0.20, random_state= 8) \n",
    "\n",
    "print(\"X_train shape: {}\".format(X_train_pca.shape))\n",
    "print(\"X_test shape: {}\".format(X_test_pca.shape))\n",
    "print(\"y_train shape: {}\".format(y_train_pca.shape))\n",
    "print(\"y_test shape: {}\".format(y_test_pca.shape))\n",
    "print(\"X_val shape: {}\".format(X_val_pca.shape))\n",
    "print(\"y_val shape: {}\".format(y_val_pca.shape))"
   ]
  },
  {
   "cell_type": "markdown",
   "id": "25c8821e",
   "metadata": {},
   "source": [
    "#### GridSearchCV - RandomForestRegressor(PCA)"
   ]
  },
  {
   "cell_type": "code",
   "execution_count": 69,
   "id": "ca04dd58",
   "metadata": {
    "scrolled": true
   },
   "outputs": [
    {
     "name": "stdout",
     "output_type": "stream",
     "text": [
      "Fitting 30 folds for each of 432 candidates, totalling 12960 fits\n"
     ]
    },
    {
     "data": {
      "text/plain": [
       "{'max_depth': 8,\n",
       " 'max_features': 7,\n",
       " 'min_samples_leaf': 4,\n",
       " 'min_samples_split': 20,\n",
       " 'n_estimators': 14}"
      ]
     },
     "execution_count": 69,
     "metadata": {},
     "output_type": "execute_result"
    }
   ],
   "source": [
    "skf = KFold(n_splits=5)\n",
    "\n",
    "RF_model_3 = RandomForestRegressor()\n",
    "\n",
    "params = {\"n_estimators\": np.arange(10,16,2),\"max_depth\": np.arange(5, 9,1),\n",
    "          \"max_features\":np.arange(5,8,1),'min_samples_leaf': range(4, 12, 2),\n",
    "    'min_samples_split': range(20, 26, 2)}\n",
    "\n",
    "cv = RepeatedKFold(n_splits=10, n_repeats=3, random_state=1)\n",
    "\n",
    "RF_GV_1 = GridSearchCV(estimator = RF_model_3, param_grid = params,cv=cv,verbose=1,return_train_score=True)\n",
    "\n",
    "RF_GV_1.fit(X_train_pca, y_train_pca)\n",
    "\n",
    "best_score_grid = RF_GV_1.best_score_\n",
    "best_RF = RF_GV_1.best_params_\n",
    "best_RF"
   ]
  },
  {
   "cell_type": "code",
   "execution_count": 136,
   "id": "16a36304",
   "metadata": {},
   "outputs": [
    {
     "name": "stdout",
     "output_type": "stream",
     "text": [
      "0.6079615999639555\n"
     ]
    }
   ],
   "source": [
    "rf_best_pca = RandomForestRegressor(max_depth= 8, max_features= 7,n_estimators=14,min_samples_leaf=4,min_samples_split=20)\n",
    "\n",
    "RF_best_fit_pca = rf_best_pca.fit(X_train_pca, y_train_pca)\n",
    "\n",
    "# predict\n",
    "y_pred_rf_pca = RF_best_fit_pca.predict(X_test_pca)\n",
    "\n",
    "score_RF_pca = cross_val_score(RF_best_fit_pca, X_train, y_train, cv = 5).mean()\n",
    "print(score_RF_pca)"
   ]
  },
  {
   "cell_type": "markdown",
   "id": "054d35db",
   "metadata": {},
   "source": [
    "#### GridSearch - LogisticRegression(PCA)"
   ]
  },
  {
   "cell_type": "code",
   "execution_count": 71,
   "id": "952f1acc",
   "metadata": {},
   "outputs": [
    {
     "name": "stdout",
     "output_type": "stream",
     "text": [
      "Best: 0.771000 using {'C': 0.01, 'penalty': 'l2', 'solver': 'newton-cg'}\n"
     ]
    }
   ],
   "source": [
    "model = LogisticRegression()\n",
    "solvers = ['newton-cg', 'lbfgs', 'liblinear']\n",
    "penalty = ['l2']\n",
    "c_values = [100, 10, 1.0, 0.1, 0.01]\n",
    "\n",
    "# define grid search\n",
    "grid = dict(solver=solvers,penalty=penalty,C=c_values)\n",
    "cv = RepeatedStratifiedKFold(n_splits=10, n_repeats=3, random_state=1)\n",
    "grid_search_pca = GridSearchCV(estimator=model, param_grid=grid, n_jobs=-1, cv=cv, scoring='accuracy',error_score=0)\n",
    "\n",
    "grid_result_pca = grid_search_pca.fit(X_train_pca, y_train_pca)\n",
    "\n",
    "y_pred_LR1 = grid_search_pca.predict(X_test_pca)\n",
    "\n",
    "print(\"Best: %f using %s\" % (grid_result_pca.best_score_, grid_result_pca.best_params_))"
   ]
  },
  {
   "cell_type": "code",
   "execution_count": 137,
   "id": "ae8b8a3e",
   "metadata": {},
   "outputs": [
    {
     "name": "stdout",
     "output_type": "stream",
     "text": [
      "0.7681654188948307\n"
     ]
    }
   ],
   "source": [
    "model = LogisticRegression()\n",
    "solvers = ['newton-cg']\n",
    "penalty = ['l2']\n",
    "c_values = [0.01]\n",
    "\n",
    "# define grid search\n",
    "grid = dict(solver=solvers,penalty=penalty,C=c_values)\n",
    "cv = RepeatedStratifiedKFold(n_splits=10, n_repeats=3, random_state=1)\n",
    "grid_search_pca = GridSearchCV(estimator=model, param_grid=grid, n_jobs=-1, cv=cv, scoring='accuracy',error_score=0)\n",
    "LR_best_fit_pca = grid_search_pca.fit(X_train_pca, y_train_pca)\n",
    "\n",
    "score_LR_pca = cross_val_score(LR_best_fit_pca, X_train_pca, y_train_pca, cv = 5).mean()\n",
    "print(score_LR_pca)\n",
    "\n",
    "# predict\n",
    "y_pred_LR2 = LR_best_fit_pca.predict(X_test_pca)"
   ]
  },
  {
   "cell_type": "markdown",
   "id": "d112218e",
   "metadata": {},
   "source": [
    "#### GridSearch - GradientBoosting(PCA)"
   ]
  },
  {
   "cell_type": "code",
   "execution_count": 74,
   "id": "c76aef2e",
   "metadata": {},
   "outputs": [
    {
     "name": "stdout",
     "output_type": "stream",
     "text": [
      "Fitting 30 folds for each of 270 candidates, totalling 8100 fits\n"
     ]
    },
    {
     "data": {
      "text/plain": [
       "{'learning_rate': 0.1,\n",
       " 'max_depth': 12,\n",
       " 'max_features': 4,\n",
       " 'min_samples_leaf': 14,\n",
       " 'n_estimators': 130}"
      ]
     },
     "execution_count": 74,
     "metadata": {},
     "output_type": "execute_result"
    }
   ],
   "source": [
    "GB_model_3 = GradientBoostingRegressor()\n",
    "\n",
    "params = {\"n_estimators\": [130,140,2],\"learning_rate\":[0.09,0.1],\"max_depth\": np.arange(8, 14,2),\n",
    "          \"max_features\":np.arange(3,8,1),'min_samples_leaf': range(14, 20, 2)}\n",
    "\n",
    "cv = RepeatedKFold(n_splits=10, n_repeats=3, random_state=1)\n",
    "\n",
    "GB_GV_1 = GridSearchCV(estimator = GB_model_3, param_grid = params,cv=cv,verbose=1,return_train_score=True)\n",
    "GB_GV_1.fit(X_train_pca,y_train_pca) \n",
    "\n",
    "# results of grid search CV\n",
    "GB_results = pd.DataFrame(GB_GV_1.cv_results_)\n",
    "#parameters best value\n",
    "best_score_rf = GB_GV_1.best_score_\n",
    "best_gb = GB_GV_1.best_params_\n",
    "best_gb"
   ]
  },
  {
   "cell_type": "code",
   "execution_count": 138,
   "id": "e90508d3",
   "metadata": {
    "scrolled": true
   },
   "outputs": [
    {
     "name": "stdout",
     "output_type": "stream",
     "text": [
      "0.848969504269356\n"
     ]
    }
   ],
   "source": [
    "gb_best_pca = GradientBoostingRegressor(learning_rate= 0.1, n_estimators= 130,max_depth= 12, \n",
    "                                           max_features= 5,min_samples_leaf=18)\n",
    "\n",
    "GB_best_fit_pca = gb_best_pca.fit(X_train_pca, y_train_pca)\n",
    "\n",
    "# predict\n",
    "y_pred_gb_1 = GB_best_fit_pca.predict(X_test_pca)\n",
    "\n",
    "score_gb_pca = cross_val_score(GB_best_fit_pca, X_train, y_train, cv = 5).mean()\n",
    "print(score_gb_pca)"
   ]
  },
  {
   "cell_type": "markdown",
   "id": "1f4fe9d2",
   "metadata": {},
   "source": [
    "#### GridSearchCV - XGBoosting(PCA)"
   ]
  },
  {
   "cell_type": "code",
   "execution_count": 76,
   "id": "698ea5dc",
   "metadata": {},
   "outputs": [
    {
     "name": "stdout",
     "output_type": "stream",
     "text": [
      "Fitting 30 folds for each of 216 candidates, totalling 6480 fits\n"
     ]
    },
    {
     "data": {
      "text/plain": [
       "{'colsample_bytree': 0.52,\n",
       " 'learning_rate': 0.2,\n",
       " 'n_estimators': 184,\n",
       " 'subsample': 0.76}"
      ]
     },
     "execution_count": 76,
     "metadata": {},
     "output_type": "execute_result"
    }
   ],
   "source": [
    "XGB_model_3=XGBRegressor(objective='reg:squarederror')\n",
    "params1 = {\n",
    "    \"colsample_bytree\": [i/100.0 for i in range(48,54,1)],\n",
    "    \"learning_rate\": [0.2,0.22,0.24], \n",
    "    \"n_estimators\": [174,184,2],\n",
    "    \"subsample\": [i/100.0 for i in range(74,78,1)]\n",
    "}\n",
    "\n",
    "cv = RepeatedKFold(n_splits=10, n_repeats=3, random_state=1)\n",
    "\n",
    "XGB_GV_3 = GridSearchCV(estimator = XGB_model_3, param_grid = params1, \n",
    "                        cv=cv,verbose = 1,return_train_score=True) \n",
    "\n",
    "XGB_GV_3.fit(X_train_pca,y_train_pca) \n",
    "\n",
    "# results of grid search CV\n",
    "XGB_results_3 = pd.DataFrame(XGB_GV_3.cv_results_)\n",
    "\n",
    "#parameters best value\n",
    "best_score_xgb_3 = XGB_GV_3.best_score_\n",
    "best_xgb_3 = XGB_GV_3.best_params_\n",
    "best_xgb_3"
   ]
  },
  {
   "cell_type": "code",
   "execution_count": 139,
   "id": "2d45917a",
   "metadata": {},
   "outputs": [
    {
     "name": "stdout",
     "output_type": "stream",
     "text": [
      "0.8047840752741685\n"
     ]
    }
   ],
   "source": [
    "xgb_best_pca = XGBRegressor(colsample_bytree=0.53,learning_rate=0.2,n_estimators=174,subsample=0.75,objective='reg:squarederror')\n",
    "XGB_best_fit_pca = xgb_best_pca.fit(X_train_pca, y_train_pca)\n",
    "\n",
    "# predict\n",
    "y_pred_xgb_pca = XGB_best_fit_pca.predict(X_test_pca)\n",
    "\n",
    "score_xgb_pca = cross_val_score(XGB_best_fit_pca, X_train, y_train, cv = 5).mean()\n",
    "print(score_xgb_pca)"
   ]
  },
  {
   "cell_type": "markdown",
   "id": "de0de1d4",
   "metadata": {},
   "source": [
    "#### RandomizedSearchCV - Ridge(PCA)"
   ]
  },
  {
   "cell_type": "code",
   "execution_count": 78,
   "id": "497e36d5",
   "metadata": {},
   "outputs": [
    {
     "name": "stdout",
     "output_type": "stream",
     "text": [
      "Best Hyperparameters: {'alpha': 72.49318429866179, 'fit_intercept': True, 'normalize': False, 'solver': 'lsqr'}\n"
     ]
    }
   ],
   "source": [
    "model = Ridge()\n",
    "\n",
    "# define evaluation\n",
    "cv = RepeatedKFold(n_splits=10, n_repeats=3, random_state=1)\n",
    "\n",
    "# define search space\n",
    "space = dict()\n",
    "space['solver'] = ['svd', 'cholesky', 'lsqr', 'sag']\n",
    "space['alpha'] = loguniform(1e-5, 100)\n",
    "space['fit_intercept'] = [True, False]\n",
    "space['normalize'] = [True, False]\n",
    "\n",
    "# define search\n",
    "search = RandomizedSearchCV(model, space, n_iter=500, scoring='neg_mean_absolute_error', n_jobs=-1, cv=cv, random_state=1)\n",
    "\n",
    "# execute search\n",
    "result = search.fit(X_train_pca, y_train_pca)\n",
    "scores_RandCV = result\n",
    "\n",
    "# summarize result\n",
    "print('Best Hyperparameters: %s' % scores_RandCV.best_params_)"
   ]
  },
  {
   "cell_type": "code",
   "execution_count": 140,
   "id": "bd0cba77",
   "metadata": {},
   "outputs": [
    {
     "name": "stdout",
     "output_type": "stream",
     "text": [
      "0.17145489608804543\n"
     ]
    }
   ],
   "source": [
    "model_Ridge_pca = Ridge(solver = 'lsqr', alpha = 72.49318429866179, fit_intercept = True, normalize = False)\n",
    "\n",
    "# execute search\n",
    "Ridge_best_fit_pca = model_Ridge_pca.fit(X_train_pca, y_train_pca)\n",
    "\n",
    "# predict\n",
    "y_pred_Rand_pca = Ridge_best_fit_pca.predict(X_test_pca)\n",
    "\n",
    "score_rand_pca = cross_val_score(Ridge_best_fit_pca, X_train, y_train, cv = 5).mean()\n",
    "print(score_rand_pca)"
   ]
  },
  {
   "cell_type": "markdown",
   "id": "aea40fd6",
   "metadata": {},
   "source": [
    "#### RandomizedSearchCV - GradientBoostingRegressor(PCA)"
   ]
  },
  {
   "cell_type": "code",
   "execution_count": 80,
   "id": "04d9a65e",
   "metadata": {},
   "outputs": [
    {
     "name": "stdout",
     "output_type": "stream",
     "text": [
      "\n",
      " The best parameters across ALL searched params:\n",
      " {'learning_rate': 0.20827621532282126, 'max_depth': 4, 'n_estimators': 611, 'subsample': 0.9447727009552777}\n"
     ]
    }
   ],
   "source": [
    "model = GradientBoostingRegressor()\n",
    "parameters = {'learning_rate': sp_randFloat(),\n",
    "                  'subsample'    : sp_randFloat(),\n",
    "                  'n_estimators' : sp_randInt(100, 1000),\n",
    "                  'max_depth'    : sp_randInt(4, 10)\n",
    "                 }\n",
    "\n",
    "cv = RepeatedKFold(n_splits=10, n_repeats=3, random_state=1)\n",
    "\n",
    "randm_src = RandomizedSearchCV(estimator=model, param_distributions = parameters,\n",
    "                               cv = cv, n_iter = 10, n_jobs=-1)\n",
    "randm_src.fit(X_train_pca, y_train_pca)\n",
    "\n",
    "print(\"\\n The best parameters across ALL searched params:\\n\", randm_src.best_params_)"
   ]
  },
  {
   "cell_type": "code",
   "execution_count": 141,
   "id": "5ddec307",
   "metadata": {},
   "outputs": [
    {
     "name": "stdout",
     "output_type": "stream",
     "text": [
      "0.8178340644945908\n"
     ]
    }
   ],
   "source": [
    "model_GBR_CV_pca = GradientBoostingRegressor(learning_rate = 0.20827621532282126, subsample = 0.9447727009552777,\n",
    "                                 n_estimators = 611, max_depth = 4)\n",
    "\n",
    "GBR_best_fit_pca = model_GBR_CV_pca.fit(X_train_pca, y_train_pca)\n",
    "\n",
    "# predict\n",
    "y_pred_Rand_6 = GBR_best_fit_pca.predict(X_test_pca)\n",
    "\n",
    "score_GBR_CV_pca = cross_val_score(GBR_best_fit_pca, X_train, y_train, cv = 5).mean()\n",
    "print(score_GBR_CV_pca)"
   ]
  },
  {
   "cell_type": "markdown",
   "id": "658672f5",
   "metadata": {},
   "source": [
    "#### Q6 A-Display and compare all the models designed with their train and test accuracies."
   ]
  },
  {
   "cell_type": "code",
   "execution_count": 142,
   "id": "9f33e289",
   "metadata": {},
   "outputs": [
    {
     "name": "stdout",
     "output_type": "stream",
     "text": [
      "RF(PCA) Train Accuracy:  0.7161592517404234\n",
      "RF(PCA) Test Accuracy:  0.7161592517404234\n",
      "RF(PCA) Val Accuracy:  0.7161592517404234\n"
     ]
    }
   ],
   "source": [
    "RF_best_train_pca = RF_best_fit_pca.score(X_train_pca,y_train_pca)\n",
    "RF_best_test_pca = RF_best_fit_pca.score(X_test_pca,y_test_pca)\n",
    "RF_best_val_pca = RF_best_fit_pca.score(X_val_pca,y_val_pca)\n",
    "print(\"RF(PCA) Train Accuracy: \", RF_best_train_pca)\n",
    "print(\"RF(PCA) Test Accuracy: \", RF_best_train_pca)\n",
    "print(\"RF(PCA) Val Accuracy: \", RF_best_train_pca)"
   ]
  },
  {
   "cell_type": "code",
   "execution_count": 143,
   "id": "1ec51362",
   "metadata": {},
   "outputs": [
    {
     "name": "stdout",
     "output_type": "stream",
     "text": [
      "LR(PCA) Train Accuracy:  0.7841880341880342\n",
      "LR(PCA) Test Accuracy:  0.7320819112627986\n",
      "LR(PCA) Val Accuracy:  0.7393162393162394\n"
     ]
    }
   ],
   "source": [
    "LR_best_train_pca = LR_best_fit_pca.score(X_train_pca,y_train_pca)\n",
    "LR_best_test_pca = LR_best_fit_pca.score(X_test_pca,y_test_pca)\n",
    "LR_best_val_pca = LR_best_fit_pca.score(X_val_pca,y_val_pca)\n",
    "print(\"LR(PCA) Train Accuracy: \", LR_best_train_pca)\n",
    "print(\"LR(PCA) Test Accuracy: \", LR_best_test_pca)\n",
    "print(\"LR(PCA) Val Accuracy: \", LR_best_val_pca)"
   ]
  },
  {
   "cell_type": "code",
   "execution_count": 144,
   "id": "a9bc33a5",
   "metadata": {},
   "outputs": [
    {
     "name": "stdout",
     "output_type": "stream",
     "text": [
      "GB(PCA) Train Accuracy:  0.9982038050665893\n",
      "GB(PCA) Test Accuracy:  0.8774225523191106\n",
      "GB(PCA) Val Accuracy:  0.8740828285688688\n"
     ]
    }
   ],
   "source": [
    "GB_best_train_pca = GB_best_fit_pca.score(X_train_pca,y_train_pca)\n",
    "GB_best_test_pca = GB_best_fit_pca.score(X_test_pca,y_test_pca)\n",
    "GB_best_val_pca = GB_best_fit_pca.score(X_val_pca,y_val_pca)\n",
    "print(\"GB(PCA) Train Accuracy: \", GB_best_train_pca)\n",
    "print(\"GB(PCA) Test Accuracy: \", GB_best_test_pca)\n",
    "print(\"GB(PCA) Val Accuracy: \", GB_best_val_pca)"
   ]
  },
  {
   "cell_type": "code",
   "execution_count": 145,
   "id": "0c0fa96f",
   "metadata": {},
   "outputs": [
    {
     "name": "stdout",
     "output_type": "stream",
     "text": [
      "XGB(PCA) Train Accuracy:  0.9999495232416157\n",
      "XGB(PCA) Test Accuracy:  0.8381223356794177\n",
      "XGB(PCA) Val Accuracy:  0.8388487731831458\n"
     ]
    }
   ],
   "source": [
    "XGB_best_train_pca = XGB_best_fit_pca.score(X_train_pca,y_train_pca)\n",
    "XGB_best_test_pca = XGB_best_fit_pca.score(X_test_pca,y_test_pca)\n",
    "XGB_best_val_pca = XGB_best_fit_pca.score(X_val_pca,y_val_pca)\n",
    "print(\"XGB(PCA) Train Accuracy: \", XGB_best_train_pca)\n",
    "print(\"XGB(PCA) Test Accuracy: \", XGB_best_test_pca)\n",
    "print(\"XGB(PCA) Val Accuracy: \", XGB_best_val_pca)"
   ]
  },
  {
   "cell_type": "code",
   "execution_count": 146,
   "id": "472416fc",
   "metadata": {},
   "outputs": [
    {
     "name": "stdout",
     "output_type": "stream",
     "text": [
      "RS(Ridge)(PCA) Train Accuracy:  0.3598644647337127\n",
      "RS(Ridge)(PCA) Test Accuracy:  0.19955809234312794\n",
      "RS(Ridge)(PCA) Val Accuracy:  0.23784565904388322\n"
     ]
    }
   ],
   "source": [
    "Ridge_best_train_pca = Ridge_best_fit_pca.score(X_train_pca,y_train_pca)\n",
    "Ridge_best_test_pca = Ridge_best_fit_pca.score(X_test_pca,y_test_pca)\n",
    "Ridge_best_val_pca = Ridge_best_fit_pca.score(X_val_pca,y_val_pca)\n",
    "print(\"RS(Ridge)(PCA) Train Accuracy: \", Ridge_best_train_pca)\n",
    "print(\"RS(Ridge)(PCA) Test Accuracy: \", Ridge_best_test_pca)\n",
    "print(\"RS(Ridge)(PCA) Val Accuracy: \", Ridge_best_val_pca)"
   ]
  },
  {
   "cell_type": "code",
   "execution_count": 147,
   "id": "d44692a7",
   "metadata": {},
   "outputs": [
    {
     "name": "stdout",
     "output_type": "stream",
     "text": [
      "GBR(PCA) Train Accuracy:  0.9999947053251096\n",
      "GBR(PCA) Test Accuracy:  0.8143919608942883\n",
      "GBR(PCA) Val Accuracy:  0.8099116137905173\n"
     ]
    }
   ],
   "source": [
    "GBR_best_train_pca = GBR_best_fit_pca.score(X_train_pca,y_train_pca)\n",
    "GBR_best_test_pca = GBR_best_fit_pca.score(X_test_pca,y_test_pca)\n",
    "GBR_best_val_pca = GBR_best_fit_pca.score(X_val_pca,y_val_pca)\n",
    "print(\"GBR(PCA) Train Accuracy: \", GBR_best_train_pca)\n",
    "print(\"GBR(PCA) Test Accuracy: \", GBR_best_test_pca)\n",
    "print(\"GBR(PCA) Val Accuracy: \", GBR_best_val_pca)"
   ]
  },
  {
   "cell_type": "code",
   "execution_count": 148,
   "id": "f0d07d22",
   "metadata": {},
   "outputs": [
    {
     "data": {
      "text/html": [
       "<div>\n",
       "<style scoped>\n",
       "    .dataframe tbody tr th:only-of-type {\n",
       "        vertical-align: middle;\n",
       "    }\n",
       "\n",
       "    .dataframe tbody tr th {\n",
       "        vertical-align: top;\n",
       "    }\n",
       "\n",
       "    .dataframe thead th {\n",
       "        text-align: right;\n",
       "    }\n",
       "</style>\n",
       "<table border=\"1\" class=\"dataframe\">\n",
       "  <thead>\n",
       "    <tr style=\"text-align: right;\">\n",
       "      <th></th>\n",
       "      <th>Train Accuracy</th>\n",
       "      <th>Test Accuracy</th>\n",
       "      <th>validation Accuracy</th>\n",
       "    </tr>\n",
       "  </thead>\n",
       "  <tbody>\n",
       "    <tr>\n",
       "      <th>RF_GridSearch(PCA)</th>\n",
       "      <td>0.716159</td>\n",
       "      <td>0.566835</td>\n",
       "      <td>0.583134</td>\n",
       "    </tr>\n",
       "    <tr>\n",
       "      <th>LR_GridSearch(PCA)</th>\n",
       "      <td>0.784188</td>\n",
       "      <td>0.732082</td>\n",
       "      <td>0.739316</td>\n",
       "    </tr>\n",
       "    <tr>\n",
       "      <th>GB_GridSearch(PCA)</th>\n",
       "      <td>0.998204</td>\n",
       "      <td>0.877423</td>\n",
       "      <td>0.874083</td>\n",
       "    </tr>\n",
       "    <tr>\n",
       "      <th>XGB_GridSearch(PCA)</th>\n",
       "      <td>0.999950</td>\n",
       "      <td>0.838122</td>\n",
       "      <td>0.838849</td>\n",
       "    </tr>\n",
       "    <tr>\n",
       "      <th>Ridge_RandomSearch(PCA)</th>\n",
       "      <td>0.359864</td>\n",
       "      <td>0.199558</td>\n",
       "      <td>0.237846</td>\n",
       "    </tr>\n",
       "    <tr>\n",
       "      <th>GB_RandomSearch(PCA)</th>\n",
       "      <td>0.999995</td>\n",
       "      <td>0.814392</td>\n",
       "      <td>0.809912</td>\n",
       "    </tr>\n",
       "  </tbody>\n",
       "</table>\n",
       "</div>"
      ],
      "text/plain": [
       "                         Train Accuracy  Test Accuracy  validation Accuracy\n",
       "RF_GridSearch(PCA)             0.716159       0.566835             0.583134\n",
       "LR_GridSearch(PCA)             0.784188       0.732082             0.739316\n",
       "GB_GridSearch(PCA)             0.998204       0.877423             0.874083\n",
       "XGB_GridSearch(PCA)            0.999950       0.838122             0.838849\n",
       "Ridge_RandomSearch(PCA)        0.359864       0.199558             0.237846\n",
       "GB_RandomSearch(PCA)           0.999995       0.814392             0.809912"
      ]
     },
     "execution_count": 148,
     "metadata": {},
     "output_type": "execute_result"
    }
   ],
   "source": [
    "pd.DataFrame([[RF_best_train_pca, RF_best_test_pca, RF_best_val_pca], \n",
    "              [LR_best_train_pca, LR_best_test_pca, LR_best_val_pca],\n",
    "              [GB_best_train_pca, GB_best_test_pca, GB_best_val_pca], \n",
    "              [XGB_best_train_pca, XGB_best_test_pca, XGB_best_val_pca], \n",
    "              [Ridge_best_train_pca, Ridge_best_test_pca, Ridge_best_val_pca], \n",
    "              [GBR_best_train_pca, GBR_best_test_pca, GBR_best_val_pca]],\n",
    "             index = ['RF_GridSearch(PCA)', 'LR_GridSearch(PCA)','GB_GridSearch(PCA)','XGB_GridSearch(PCA)',\n",
    "                      'Ridge_RandomSearch(PCA)', 'GB_RandomSearch(PCA)'], columns = ['Train Accuracy', 'Test Accuracy', 'validation Accuracy'])"
   ]
  },
  {
   "cell_type": "markdown",
   "id": "64d38b4b",
   "metadata": {},
   "source": [
    "#### Q6 B -Select the final best trained model along with your detailed comments for selecting this model."
   ]
  },
  {
   "cell_type": "markdown",
   "id": "c93937d3",
   "metadata": {},
   "source": [
    "<li> From the above summary, we could clearly understand that, train accuracy is high for Gradient Boost with GridSearch (GB_GridSearch(PCA)). Other model's Test and validation accuracies are very poor.\n",
    "<li> After PCA, accuracy got improved.\n",
    "<li> For Gradient Boost with GridSearch(GB_GridSearch) giving the similar accuracy for Train, test and Validation data.\n",
    "<li> Hence, we can consider the GB_GridSearch model for creating the pickle."
   ]
  },
  {
   "cell_type": "markdown",
   "id": "346e2731",
   "metadata": {},
   "source": [
    "#### Q6 C -Pickle the selected model for future use"
   ]
  },
  {
   "cell_type": "code",
   "execution_count": 152,
   "id": "90faf915",
   "metadata": {},
   "outputs": [
    {
     "name": "stdout",
     "output_type": "stream",
     "text": [
      "train score of GB_GridSearch: 0.9982038050665893\n",
      "test score of GB_GridSearch: 0.8774225523191106\n",
      "val score of GB_GridSearch: 0.8740828285688688\n"
     ]
    }
   ],
   "source": [
    "pickle_GB_GridSearch = 'GB_model'\n",
    "picklefile = open(pickle_GB_GridSearch, 'wb')\n",
    "\n",
    "pickle.dump(GB_best_fit_pca, picklefile)\n",
    "GB_best_train_score = GB_best_fit_pca.score(X_train_pca,y_train_pca)\n",
    "GB_best_test_score = GB_best_fit_pca.score(X_test_pca, y_test_pca)\n",
    "GB_best_val_score = GB_best_fit_pca.score(X_val_pca, y_val_pca)\n",
    "\n",
    "print(\"train score of GB_GridSearch:\", GB_best_train_score)\n",
    "print(\"test score of GB_GridSearch:\", GB_best_test_score)\n",
    "print(\"val score of GB_GridSearch:\", GB_best_val_score)\n",
    "\n",
    "y_predicted = GB_best_fit_pca.predict(X_test_pca)"
   ]
  },
  {
   "cell_type": "code",
   "execution_count": 153,
   "id": "3c6b5d24",
   "metadata": {},
   "outputs": [
    {
     "data": {
      "text/plain": [
       "array([ 9.05506833e-01, -3.42496308e-01,  9.84232996e-01,  8.84019035e-01,\n",
       "       -1.07940410e+00,  1.18618945e-01,  7.66314357e-01, -1.00379316e+00,\n",
       "       -4.77058685e-01,  9.76696167e-01, -6.83813063e-01, -1.33087765e-01,\n",
       "       -1.16257920e+00,  9.34776347e-01, -1.23189561e+00,  8.47271527e-01,\n",
       "        3.86583607e-01,  8.37677737e-01, -1.07019815e+00, -7.45810311e-01,\n",
       "        1.01137321e+00,  7.70835454e-01,  7.48706591e-01,  9.91118660e-01,\n",
       "        9.13025239e-01,  7.49065858e-01, -4.88687208e-01,  9.74158058e-01,\n",
       "       -6.19718539e-01, -1.24166661e+00, -4.86594264e-01, -1.06058126e+00,\n",
       "       -7.76925023e-01, -8.86574707e-01,  9.72098960e-01,  1.00756499e+00,\n",
       "        9.17150104e-01, -5.05771773e-01,  9.92504907e-01,  8.71005858e-01,\n",
       "        9.69378456e-01,  1.32420916e-01,  1.00849949e+00, -6.38118014e-01,\n",
       "       -9.91491574e-01, -9.79516593e-01, -6.07628629e-01, -6.08163026e-01,\n",
       "        4.49089648e-01,  1.01174328e+00,  8.78809587e-01, -4.83344622e-01,\n",
       "        9.03522005e-01, -8.21024039e-01, -1.35032157e-01,  8.39485100e-01,\n",
       "        6.21830920e-01, -8.47816452e-01, -1.06260620e+00,  1.03320033e+00,\n",
       "        1.07601627e+00,  5.13869916e-01, -9.40451864e-01, -7.12093827e-01,\n",
       "       -3.56679561e-01, -1.50043033e-01,  9.86751908e-01, -9.23051657e-01,\n",
       "        9.50066577e-01, -1.02624081e+00, -2.16458096e-01,  7.84468805e-01,\n",
       "       -1.02209838e+00, -7.87556380e-01, -6.52976096e-01, -9.90843082e-01,\n",
       "        7.96138119e-01, -1.26858683e+00, -2.40142649e-01,  9.04091126e-01,\n",
       "        7.34585795e-01,  7.96032613e-01, -7.56984830e-01, -1.16451567e+00,\n",
       "        1.01898614e+00,  1.01159903e+00,  8.85555238e-01,  8.90751072e-01,\n",
       "        9.66573222e-01, -6.72110599e-01,  3.49849051e-01, -9.38302993e-01,\n",
       "       -7.84542630e-01,  6.88663384e-01,  6.87317987e-01, -1.67976166e-01,\n",
       "        9.55934613e-01, -8.68291741e-01, -9.40490197e-01,  1.01022959e+00,\n",
       "        7.85357159e-01, -1.99053473e-01, -9.72323249e-01, -2.16529593e-01,\n",
       "        9.11998530e-01,  9.47045121e-01,  1.02327371e+00, -2.08342994e-01,\n",
       "       -3.32510885e-01, -4.13932383e-01,  6.38012461e-01,  7.14347050e-01,\n",
       "       -5.10596572e-01, -6.49025715e-01,  7.94107788e-01,  9.51537351e-01,\n",
       "       -3.07656640e-01,  9.00490154e-01, -4.49078204e-01, -6.54289621e-01,\n",
       "        7.31924032e-01,  7.70507135e-01, -4.25289159e-01, -7.93682170e-01,\n",
       "       -8.58957389e-01,  9.09672248e-01,  6.67995064e-01,  9.99893797e-01,\n",
       "       -7.39946589e-01, -7.10810851e-01,  3.88453097e-01,  8.94139797e-01,\n",
       "        4.83570131e-01, -1.16249687e+00,  4.25453957e-01,  6.98158872e-01,\n",
       "        1.00295803e+00,  8.97188821e-01, -7.58274383e-01,  9.05404683e-01,\n",
       "        7.89402036e-01, -8.69700078e-01,  6.00783615e-01, -8.69447640e-01,\n",
       "        1.01775145e+00,  5.93922053e-01, -8.20923043e-01, -4.83059515e-01,\n",
       "       -8.36528105e-01, -9.60513204e-01,  9.09585940e-01,  8.13029616e-01,\n",
       "       -7.34520781e-01,  3.72504099e-01,  9.87363797e-01, -1.22079124e+00,\n",
       "       -5.37778676e-01,  7.28778010e-01, -1.01334064e+00, -6.32780144e-01,\n",
       "        8.76312499e-01,  8.18709506e-01, -1.20699209e+00,  8.65241714e-01,\n",
       "        9.09028879e-01,  1.00214882e+00,  9.44934028e-01, -1.28150539e+00,\n",
       "       -3.81281845e-01,  1.10903610e+00, -7.46025042e-01, -9.67460540e-01,\n",
       "        9.98128173e-01,  8.86242770e-01,  9.78569063e-01,  8.77147757e-01,\n",
       "        8.93409333e-01, -4.80032586e-01, -7.04659523e-01,  9.08634130e-01,\n",
       "       -6.01122957e-01,  1.01106390e+00, -1.19004707e+00,  1.05142520e+00,\n",
       "        1.08989499e+00,  6.99871724e-01, -3.62164943e-01,  9.66309603e-01,\n",
       "        9.56838039e-01, -6.93795349e-01, -9.00044651e-01,  1.01327937e+00,\n",
       "       -2.58420775e-01, -2.72696922e-01, -1.10115475e+00, -1.20068333e+00,\n",
       "        1.04240260e+00,  8.39989964e-01,  4.27783389e-01,  7.89712173e-01,\n",
       "       -9.19880219e-01, -1.02910337e+00,  7.92484251e-01,  7.33933446e-01,\n",
       "       -7.24240391e-01, -9.87394408e-01,  8.15144344e-01, -8.26220200e-01,\n",
       "        1.00099712e+00, -8.62881103e-01,  9.90135825e-01, -1.92706860e-01,\n",
       "       -9.27598366e-01, -1.19410914e+00,  5.60975892e-01,  4.09362194e-01,\n",
       "       -7.93637847e-01,  9.87249088e-01,  1.23315397e+00,  1.03819102e+00,\n",
       "       -8.68817898e-01,  9.11510020e-01, -7.33073847e-01,  9.79825254e-01,\n",
       "        6.29622648e-01, -5.68396938e-01,  9.83942093e-01,  9.95358311e-01,\n",
       "        2.85823515e-01, -1.07364799e+00, -5.44480630e-01, -9.24260582e-01,\n",
       "       -1.03857750e+00, -5.45678984e-01,  7.61032719e-01, -6.49420238e-01,\n",
       "       -7.69033004e-01,  9.88194443e-01, -1.33610330e+00, -9.49148610e-01,\n",
       "       -1.06458172e+00, -4.86369479e-01, -6.88182655e-01,  8.51469529e-01,\n",
       "       -7.18529138e-01,  1.01019093e+00,  8.10432593e-01,  7.35483924e-01,\n",
       "       -8.47692821e-01, -1.14656067e+00,  9.08248459e-01,  1.00684592e+00,\n",
       "       -7.97601014e-01,  9.10398564e-01, -7.06597636e-01,  9.83428353e-01,\n",
       "       -7.42780365e-01,  1.02081811e+00, -7.24572124e-01,  9.80008620e-01,\n",
       "       -1.05514857e+00, -6.90132129e-01,  2.45776371e-01, -7.92759619e-01,\n",
       "       -1.09824626e+00,  1.01572191e+00, -1.17283888e+00, -8.65356343e-01,\n",
       "        7.69563219e-01,  7.40534168e-01, -1.91003726e-02,  6.21691560e-01,\n",
       "       -1.23984808e+00, -4.76239414e-01, -9.96736897e-01,  7.97814355e-01,\n",
       "        7.70320055e-01,  7.98548781e-01,  1.02327539e+00, -1.04059096e+00,\n",
       "        9.63072053e-01, -7.79956240e-01, -5.95158416e-01, -1.04312682e+00,\n",
       "       -5.90611849e-01, -1.00430631e+00, -2.44958173e-01, -8.90801582e-01,\n",
       "       -5.42245130e-01, -7.31370553e-01, -8.38536522e-01, -6.38747350e-01,\n",
       "        8.89411798e-01, -5.00832650e-01,  6.06638007e-01,  8.73266421e-01,\n",
       "       -8.53142684e-01, -5.37844873e-01, -1.00232264e+00,  1.02541412e+00,\n",
       "       -8.83054487e-01,  8.75315328e-01,  7.70248602e-01,  6.96353373e-01,\n",
       "        9.29044947e-01,  6.80520174e-01, -1.09352121e+00, -1.28204429e+00,\n",
       "        1.11633199e-01,  9.96014942e-01,  4.09093155e-02, -4.07116648e-01,\n",
       "        9.42685386e-01, -1.03041703e+00, -6.80332324e-01,  1.00156957e+00,\n",
       "        9.34327971e-01,  9.59876114e-01,  9.07313040e-01,  1.00499835e+00,\n",
       "       -8.24423447e-01,  1.29591638e-01,  9.97418268e-01, -6.34504460e-01,\n",
       "        9.54004085e-01, -1.24193715e+00,  1.00055696e+00,  3.49025726e-01,\n",
       "        9.74877842e-01, -6.12632120e-01, -1.00789418e+00, -8.94633727e-01,\n",
       "        8.66982036e-01,  8.99989574e-01,  9.94947995e-01, -6.80541192e-01,\n",
       "        9.91959556e-01, -4.98373705e-01, -8.46046384e-01,  9.40302248e-01,\n",
       "        9.65832888e-01, -9.70109605e-01,  6.33275699e-01, -9.49612404e-01,\n",
       "        9.91327201e-01,  2.08354214e-01, -9.55736048e-01,  7.61144625e-01,\n",
       "       -7.71384968e-01,  1.08272212e+00,  1.09782712e+00,  6.40902330e-01,\n",
       "        1.03213644e+00,  1.00074240e+00, -5.82563132e-01,  4.88790841e-01,\n",
       "        9.86315067e-01,  7.73532946e-01,  8.43826520e-01,  9.27087859e-01,\n",
       "       -3.61924156e-01,  2.53673566e-01, -7.94281386e-01, -1.28509499e+00,\n",
       "       -7.55975534e-01,  9.07313040e-01,  2.92403346e-01,  6.76749457e-01,\n",
       "        9.75112102e-01,  8.42472951e-01,  6.84329682e-01,  1.07332264e+00,\n",
       "       -6.58795840e-01, -3.01147753e-01, -1.31313035e+00, -4.44716498e-01,\n",
       "       -6.72457436e-01,  1.02652643e+00,  9.30210181e-01, -3.54028906e-02,\n",
       "       -6.66754751e-01, -2.30049219e-01,  8.73106967e-01,  7.57018320e-01,\n",
       "       -7.82122214e-01, -1.04101119e+00,  1.01046755e+00, -9.63175825e-01,\n",
       "        1.04856636e+00,  1.24449782e-03, -5.65092964e-02, -1.02836491e+00,\n",
       "       -1.33585316e-01, -8.60797524e-01, -9.18154613e-01, -9.30692935e-01,\n",
       "        4.89542265e-01, -1.12227620e+00, -7.91700340e-01, -4.50177752e-01,\n",
       "       -1.02833044e+00,  1.06263674e+00, -6.70243740e-01,  2.03666342e-02,\n",
       "        5.97755955e-01,  8.29705782e-01,  9.95722909e-01,  6.52548388e-01,\n",
       "       -9.32209504e-01,  5.16181964e-01,  1.02657833e+00,  4.19126742e-01,\n",
       "       -9.12820663e-01, -5.68989222e-01,  9.74052977e-01, -7.25283334e-01,\n",
       "       -3.89970014e-01, -3.20558305e-01, -8.16138579e-01,  9.38648171e-01,\n",
       "       -9.83698407e-01, -4.19343140e-01, -4.57527742e-01, -7.99623042e-01,\n",
       "       -8.97511115e-01,  7.46527426e-01, -8.66869033e-01, -7.01997611e-01,\n",
       "       -7.94906596e-01,  1.06728747e+00, -9.00216351e-01, -6.37550402e-01,\n",
       "       -7.32378530e-01,  8.95917778e-01,  9.36496174e-01,  5.03180926e-03,\n",
       "        9.69076120e-01,  9.30244660e-01,  9.55686347e-01,  9.01626418e-01,\n",
       "        8.87655055e-01,  7.31997031e-01, -5.16569259e-01,  9.57161431e-01,\n",
       "       -6.49449537e-01, -1.19067946e+00,  1.04075202e+00,  9.17177204e-01,\n",
       "       -2.99085851e-01,  7.95147291e-01, -3.16110574e-01, -6.41288439e-01,\n",
       "        9.79674253e-01, -8.59879920e-01, -1.07370498e+00,  8.51101101e-01,\n",
       "       -1.10388256e+00,  8.82120894e-01, -9.30885554e-01,  3.71695897e-01,\n",
       "       -5.35791492e-01,  6.22100220e-01, -1.10368563e+00,  9.56481548e-01,\n",
       "        9.17091744e-01,  8.60036591e-01, -5.90988054e-01, -8.01407767e-01,\n",
       "       -9.08895492e-01,  6.64677043e-01,  8.66334761e-01,  6.96344257e-01,\n",
       "       -4.19087438e-01, -8.76276835e-01, -7.26521168e-01,  5.82303017e-01,\n",
       "        9.43730549e-01, -4.89038934e-01, -1.20410790e+00,  9.37335890e-01,\n",
       "        9.61086836e-01, -1.11215119e+00,  9.81835070e-01,  9.89346791e-01,\n",
       "        9.90045961e-01,  5.84487738e-01,  1.02829587e+00,  8.80016118e-01,\n",
       "        9.40813940e-01, -6.87432455e-01, -9.70510414e-01,  6.77986329e-01,\n",
       "        7.91913710e-01,  8.65426960e-01, -7.92268056e-01,  8.91051596e-01,\n",
       "        7.44549038e-02, -7.22549099e-01, -8.68408310e-01, -5.62976569e-01,\n",
       "        7.80176453e-01,  9.73336684e-01, -9.07884512e-01,  9.03034130e-01,\n",
       "        8.86956224e-01, -7.23116611e-01,  8.32699252e-01, -8.84341127e-01,\n",
       "        9.97924481e-01, -1.04849976e+00,  9.84545081e-01, -7.18063408e-01,\n",
       "        1.00079182e+00,  1.06490652e+00, -6.71295230e-01,  3.99591472e-01,\n",
       "        6.94550344e-01,  9.47933378e-01, -7.44728977e-01, -1.00578945e+00,\n",
       "        7.94219150e-01,  8.65056289e-01,  8.01648490e-01, -9.92074386e-01,\n",
       "        1.03855712e+00,  9.81478051e-01, -1.89078205e-01, -3.21169178e-01,\n",
       "       -6.66272981e-02, -4.88044287e-01,  4.16413681e-01, -7.21354488e-01,\n",
       "       -7.04293242e-01,  8.09168850e-01,  5.38578201e-01,  7.88459141e-01,\n",
       "        8.61125418e-01,  7.51940574e-01,  1.06052726e+00,  1.04548259e+00,\n",
       "       -9.61431977e-01, -8.71914512e-01, -5.10518860e-01,  9.87814269e-01,\n",
       "       -2.62803510e-01,  5.90299091e-01,  8.08463894e-01,  8.15409635e-01,\n",
       "       -1.11870393e+00, -1.39512266e-01,  7.58764688e-01,  3.20247721e-01,\n",
       "       -3.86186700e-01,  9.30250457e-01,  9.72592331e-01,  9.41089608e-01,\n",
       "       -1.16513342e+00,  1.05402859e+00,  8.83355581e-01,  1.00677500e+00,\n",
       "        8.17883426e-01,  8.06467770e-01, -9.28442304e-01, -7.07736437e-01,\n",
       "        9.98621953e-01,  4.59103603e-01,  9.72109475e-01,  1.04208359e+00,\n",
       "       -9.04575014e-01, -8.72782922e-01,  6.91210120e-01, -6.60140825e-01,\n",
       "       -7.81046232e-01, -9.83552559e-01, -7.24495850e-01, -9.34918772e-01,\n",
       "        9.33044893e-01, -8.14213844e-01,  1.82256859e-01, -5.40629759e-01,\n",
       "       -7.65103640e-01,  6.15671439e-01, -6.60849996e-01, -4.77274390e-01,\n",
       "        9.96491687e-01, -1.06817707e+00])"
      ]
     },
     "execution_count": 153,
     "metadata": {},
     "output_type": "execute_result"
    }
   ],
   "source": [
    "pickled_model = pickle.load(open(pickle_GB_GridSearch, 'rb'))\n",
    "pickled_model.predict(X_test_pca)"
   ]
  },
  {
   "cell_type": "markdown",
   "id": "797b1328",
   "metadata": {},
   "source": [
    "#### Q6 D -Write your conclusion on the results\n",
    "<li> From the available data and the above analysis, the performance of the selected model(GB_GridSearch) is produced the train, test and validation set accuracies of 99%, 87% and 87%. \n",
    "<li> The data should have meaningful features to improve the performance. \n",
    "<li> If we have the feature names, it will be useful to understand the data and play with the data to develop a model. \n",
    "<li> The above process can be simplified if we use pipeline technique.\n",
    "    "
   ]
  }
 ],
 "metadata": {
  "kernelspec": {
   "display_name": "Python 3 (ipykernel)",
   "language": "python",
   "name": "python3"
  },
  "language_info": {
   "codemirror_mode": {
    "name": "ipython",
    "version": 3
   },
   "file_extension": ".py",
   "mimetype": "text/x-python",
   "name": "python",
   "nbconvert_exporter": "python",
   "pygments_lexer": "ipython3",
   "version": "3.9.12"
  }
 },
 "nbformat": 4,
 "nbformat_minor": 5
}
